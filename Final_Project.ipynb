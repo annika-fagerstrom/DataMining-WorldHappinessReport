{
  "nbformat": 4,
  "nbformat_minor": 0,
  "metadata": {
    "colab": {
      "name": "Final Project.ipynb",
      "provenance": [],
      "collapsed_sections": [],
      "include_colab_link": true
    },
    "kernelspec": {
      "display_name": "Python 3",
      "name": "python3"
    },
    "language_info": {
      "name": "python"
    }
  },
  "cells": [
    {
      "cell_type": "markdown",
      "metadata": {
        "id": "view-in-github",
        "colab_type": "text"
      },
      "source": [
        "<a href=\"https://colab.research.google.com/github/annika-fagerstrom/DataMining-WorldHappinessReport/blob/main/Final_Project.ipynb\" target=\"_parent\"><img src=\"https://colab.research.google.com/assets/colab-badge.svg\" alt=\"Open In Colab\"/></a>"
      ]
    },
    {
      "cell_type": "code",
      "metadata": {
        "id": "u8I1KnZ8D59a",
        "colab": {
          "base_uri": "https://localhost:8080/"
        },
        "outputId": "b2cc0c27-29f0-4b36-ff95-3ecefbc5afe7"
      },
      "source": [
        "#Final Project - Group 1\n",
        "#Project Members: David D’Onofrio, Liza Kottler, Annika Fagerstrom and Rachel Konshok\n",
        "#Description: Using data mining tools to study the world happiness report date from the UN for 2018 & 2019\n",
        "#Date: April - May, 2021\n",
        "import numpy as np\n",
        "import matplotlib.pyplot as plt\n",
        "import pandas as pd\n",
        "\n",
        "\n",
        "from pandas import Series, DataFrame\n",
        "import seaborn as sns\n",
        "from sklearn import preprocessing\n",
        "\n",
        "from sklearn.datasets import load_iris\n",
        "from sklearn.feature_selection import SelectKBest\n",
        "from sklearn.feature_selection import chi2\n",
        "from sklearn.svm import SVC\n",
        "from sklearn.naive_bayes import GaussianNB\n",
        "from sklearn.naive_bayes import MultinomialNB\n",
        "from sklearn.naive_bayes import BernoulliNB\n",
        "from sklearn.model_selection import cross_val_score\n",
        "from sklearn.model_selection import train_test_split\n",
        "from sklearn.preprocessing import LabelEncoder\n",
        "from sklearn.feature_selection import RFECV\n",
        "from sklearn.svm import SVC #support vector machine, a classification model\n",
        "from mlxtend.frequent_patterns import apriori, association_rules\n",
        "from mlxtend.preprocessing import TransactionEncoder\n",
        "\n",
        "from sklearn.tree import DecisionTreeClassifier\n",
        "from sklearn.model_selection import cross_val_predict\n",
        "from sklearn.metrics import confusion_matrix\n",
        "from sklearn.metrics import recall_score\n",
        "from sklearn.metrics import precision_score\n",
        "from sklearn.externals import joblib\n",
        "from sklearn.tree import export_graphviz\n",
        "import graphviz\n",
        "from sklearn.ensemble import RandomForestClassifier\n",
        "from sklearn.ensemble import BaggingClassifier\n",
        "from sklearn.neighbors import KNeighborsClassifier\n",
        "\n",
        "from sklearn.cluster import KMeans\n",
        "from sklearn import metrics\n",
        "from sklearn.cluster import SpectralClustering\n",
        "\n",
        "#Pulling dataset in from Github repository\n",
        "url = 'https://raw.githubusercontent.com/david-donofrio/Data_Mining/main/2018.csv'\n",
        "df_2018 = pd.read_csv(url) # Happiness data frame for 2018\n",
        "url = 'https://raw.githubusercontent.com/david-donofrio/Data_Mining/main/2019.csv'\n",
        "df_2019 = pd.read_csv(url) # Happiness data frame from 2019\n",
        "url = 'https://raw.githubusercontent.com/david-donofrio/Data_Mining/main/RoughPopData2019%20(3).csv'\n",
        "df_pop = pd.read_csv(url) # Population data frame for 2015-2019"
      ],
      "execution_count": null,
      "outputs": [
        {
          "output_type": "stream",
          "text": [
            "/usr/local/lib/python3.7/dist-packages/sklearn/externals/joblib/__init__.py:15: FutureWarning: sklearn.externals.joblib is deprecated in 0.21 and will be removed in 0.23. Please import this functionality directly from joblib, which can be installed with: pip install joblib. If this warning is raised when loading pickled models, you may need to re-serialize those models with scikit-learn 0.21+.\n",
            "  warnings.warn(msg, category=FutureWarning)\n"
          ],
          "name": "stderr"
        }
      ]
    },
    {
      "cell_type": "code",
      "metadata": {
        "id": "3k_anZQLRrgE"
      },
      "source": [
        "def check_outliers(x): #function to identify outliers\n",
        "  q25 = x.quantile(.25)\n",
        "  q75 = x.quantile(.75)\n",
        "  IQR = q75-q25\n",
        "  l = q25 - IQR*1.5\n",
        "  u = q75 + IQR*1.5\n",
        "  return l, u\n",
        "\n",
        "def replace_with_bin_mean(x): #function to find mean of bins\n",
        "    if True:\n",
        "        x = x.mean()\n",
        "    return x\n"
      ],
      "execution_count": null,
      "outputs": []
    },
    {
      "cell_type": "markdown",
      "metadata": {
        "id": "ECcBecLeiP3w"
      },
      "source": [
        "Adding Population Column and dropping repeated/duplicate columns"
      ]
    },
    {
      "cell_type": "code",
      "metadata": {
        "id": "bPL5Djk-okZq"
      },
      "source": [
        "df_2018 = pd.merge(df_2018, df_pop[['Region, subregion, country or area *','2018']], left_on='Country or region', right_on = 'Region, subregion, country or area *',how='left') #merge columns\n",
        "df_2018['Population'] = df_2018['2018'] # rename column\n",
        "df_2018=df_2018.drop('2018',axis=1) # remove repeated column\n",
        "df_2018=df_2018.drop('Region, subregion, country or area *',axis=1) # remove repeated column\n",
        "\n",
        "df_2019 = pd.merge(df_2019, df_pop[['Region, subregion, country or area *','2019']], left_on='Country or region', right_on = 'Region, subregion, country or area *',how='left') #merge columns\n",
        "df_2019['Population'] = df_2019['2019'] # rename column\n",
        "df_2019=df_2019.drop('2019',axis=1) # remove repeated column\n",
        "df_2019=df_2019.drop('Region, subregion, country or area *',axis=1) # remove repeated column\n"
      ],
      "execution_count": null,
      "outputs": []
    },
    {
      "cell_type": "code",
      "metadata": {
        "id": "UnpWKD-gAB7P",
        "colab": {
          "base_uri": "https://localhost:8080/",
          "height": 275
        },
        "outputId": "fb79021f-e634-4659-e4f5-e5b6e6713706"
      },
      "source": [
        "df_2018.head() # Confirm correct columns"
      ],
      "execution_count": null,
      "outputs": [
        {
          "output_type": "execute_result",
          "data": {
            "text/html": [
              "<div>\n",
              "<style scoped>\n",
              "    .dataframe tbody tr th:only-of-type {\n",
              "        vertical-align: middle;\n",
              "    }\n",
              "\n",
              "    .dataframe tbody tr th {\n",
              "        vertical-align: top;\n",
              "    }\n",
              "\n",
              "    .dataframe thead th {\n",
              "        text-align: right;\n",
              "    }\n",
              "</style>\n",
              "<table border=\"1\" class=\"dataframe\">\n",
              "  <thead>\n",
              "    <tr style=\"text-align: right;\">\n",
              "      <th></th>\n",
              "      <th>Overall rank</th>\n",
              "      <th>Country or region</th>\n",
              "      <th>Score</th>\n",
              "      <th>GDP per capita</th>\n",
              "      <th>Social support</th>\n",
              "      <th>Healthy life expectancy</th>\n",
              "      <th>Freedom to make life choices</th>\n",
              "      <th>Generosity</th>\n",
              "      <th>Perceptions of corruption</th>\n",
              "      <th>Population</th>\n",
              "    </tr>\n",
              "  </thead>\n",
              "  <tbody>\n",
              "    <tr>\n",
              "      <th>0</th>\n",
              "      <td>1</td>\n",
              "      <td>Finland</td>\n",
              "      <td>7.632</td>\n",
              "      <td>1.305</td>\n",
              "      <td>1.592</td>\n",
              "      <td>0.874</td>\n",
              "      <td>0.681</td>\n",
              "      <td>0.202</td>\n",
              "      <td>0.393</td>\n",
              "      <td>5523.0</td>\n",
              "    </tr>\n",
              "    <tr>\n",
              "      <th>1</th>\n",
              "      <td>2</td>\n",
              "      <td>Norway</td>\n",
              "      <td>7.594</td>\n",
              "      <td>1.456</td>\n",
              "      <td>1.582</td>\n",
              "      <td>0.861</td>\n",
              "      <td>0.686</td>\n",
              "      <td>0.286</td>\n",
              "      <td>0.340</td>\n",
              "      <td>5338.0</td>\n",
              "    </tr>\n",
              "    <tr>\n",
              "      <th>2</th>\n",
              "      <td>3</td>\n",
              "      <td>Denmark</td>\n",
              "      <td>7.555</td>\n",
              "      <td>1.351</td>\n",
              "      <td>1.590</td>\n",
              "      <td>0.868</td>\n",
              "      <td>0.683</td>\n",
              "      <td>0.284</td>\n",
              "      <td>0.408</td>\n",
              "      <td>5752.0</td>\n",
              "    </tr>\n",
              "    <tr>\n",
              "      <th>3</th>\n",
              "      <td>4</td>\n",
              "      <td>Iceland</td>\n",
              "      <td>7.495</td>\n",
              "      <td>1.343</td>\n",
              "      <td>1.644</td>\n",
              "      <td>0.914</td>\n",
              "      <td>0.677</td>\n",
              "      <td>0.353</td>\n",
              "      <td>0.138</td>\n",
              "      <td>337.0</td>\n",
              "    </tr>\n",
              "    <tr>\n",
              "      <th>4</th>\n",
              "      <td>5</td>\n",
              "      <td>Switzerland</td>\n",
              "      <td>7.487</td>\n",
              "      <td>1.420</td>\n",
              "      <td>1.549</td>\n",
              "      <td>0.927</td>\n",
              "      <td>0.660</td>\n",
              "      <td>0.256</td>\n",
              "      <td>0.357</td>\n",
              "      <td>8526.0</td>\n",
              "    </tr>\n",
              "  </tbody>\n",
              "</table>\n",
              "</div>"
            ],
            "text/plain": [
              "   Overall rank Country or region  ...  Perceptions of corruption  Population\n",
              "0             1           Finland  ...                      0.393      5523.0\n",
              "1             2            Norway  ...                      0.340      5338.0\n",
              "2             3           Denmark  ...                      0.408      5752.0\n",
              "3             4           Iceland  ...                      0.138       337.0\n",
              "4             5       Switzerland  ...                      0.357      8526.0\n",
              "\n",
              "[5 rows x 10 columns]"
            ]
          },
          "metadata": {
            "tags": []
          },
          "execution_count": 5
        }
      ]
    },
    {
      "cell_type": "code",
      "metadata": {
        "id": "YDfbWu-ui3xF",
        "colab": {
          "base_uri": "https://localhost:8080/",
          "height": 275
        },
        "outputId": "229af693-cb68-4a03-9b8e-d54ce8bb88c3"
      },
      "source": [
        "df_2019.head() # Confirm correct columns"
      ],
      "execution_count": null,
      "outputs": [
        {
          "output_type": "execute_result",
          "data": {
            "text/html": [
              "<div>\n",
              "<style scoped>\n",
              "    .dataframe tbody tr th:only-of-type {\n",
              "        vertical-align: middle;\n",
              "    }\n",
              "\n",
              "    .dataframe tbody tr th {\n",
              "        vertical-align: top;\n",
              "    }\n",
              "\n",
              "    .dataframe thead th {\n",
              "        text-align: right;\n",
              "    }\n",
              "</style>\n",
              "<table border=\"1\" class=\"dataframe\">\n",
              "  <thead>\n",
              "    <tr style=\"text-align: right;\">\n",
              "      <th></th>\n",
              "      <th>Overall rank</th>\n",
              "      <th>Country or region</th>\n",
              "      <th>Score</th>\n",
              "      <th>GDP per capita</th>\n",
              "      <th>Social support</th>\n",
              "      <th>Healthy life expectancy</th>\n",
              "      <th>Freedom to make life choices</th>\n",
              "      <th>Generosity</th>\n",
              "      <th>Perceptions of corruption</th>\n",
              "      <th>Population</th>\n",
              "    </tr>\n",
              "  </thead>\n",
              "  <tbody>\n",
              "    <tr>\n",
              "      <th>0</th>\n",
              "      <td>1</td>\n",
              "      <td>Finland</td>\n",
              "      <td>7.769</td>\n",
              "      <td>1.340</td>\n",
              "      <td>1.587</td>\n",
              "      <td>0.986</td>\n",
              "      <td>0.596</td>\n",
              "      <td>0.153</td>\n",
              "      <td>0.393</td>\n",
              "      <td>5532.0</td>\n",
              "    </tr>\n",
              "    <tr>\n",
              "      <th>1</th>\n",
              "      <td>2</td>\n",
              "      <td>Denmark</td>\n",
              "      <td>7.600</td>\n",
              "      <td>1.383</td>\n",
              "      <td>1.573</td>\n",
              "      <td>0.996</td>\n",
              "      <td>0.592</td>\n",
              "      <td>0.252</td>\n",
              "      <td>0.410</td>\n",
              "      <td>5772.0</td>\n",
              "    </tr>\n",
              "    <tr>\n",
              "      <th>2</th>\n",
              "      <td>3</td>\n",
              "      <td>Norway</td>\n",
              "      <td>7.554</td>\n",
              "      <td>1.488</td>\n",
              "      <td>1.582</td>\n",
              "      <td>1.028</td>\n",
              "      <td>0.603</td>\n",
              "      <td>0.271</td>\n",
              "      <td>0.341</td>\n",
              "      <td>5379.0</td>\n",
              "    </tr>\n",
              "    <tr>\n",
              "      <th>3</th>\n",
              "      <td>4</td>\n",
              "      <td>Iceland</td>\n",
              "      <td>7.494</td>\n",
              "      <td>1.380</td>\n",
              "      <td>1.624</td>\n",
              "      <td>1.026</td>\n",
              "      <td>0.591</td>\n",
              "      <td>0.354</td>\n",
              "      <td>0.118</td>\n",
              "      <td>339.0</td>\n",
              "    </tr>\n",
              "    <tr>\n",
              "      <th>4</th>\n",
              "      <td>5</td>\n",
              "      <td>Netherlands</td>\n",
              "      <td>7.488</td>\n",
              "      <td>1.396</td>\n",
              "      <td>1.522</td>\n",
              "      <td>0.999</td>\n",
              "      <td>0.557</td>\n",
              "      <td>0.322</td>\n",
              "      <td>0.298</td>\n",
              "      <td>17097.0</td>\n",
              "    </tr>\n",
              "  </tbody>\n",
              "</table>\n",
              "</div>"
            ],
            "text/plain": [
              "   Overall rank Country or region  ...  Perceptions of corruption  Population\n",
              "0             1           Finland  ...                      0.393      5532.0\n",
              "1             2           Denmark  ...                      0.410      5772.0\n",
              "2             3            Norway  ...                      0.341      5379.0\n",
              "3             4           Iceland  ...                      0.118       339.0\n",
              "4             5       Netherlands  ...                      0.298     17097.0\n",
              "\n",
              "[5 rows x 10 columns]"
            ]
          },
          "metadata": {
            "tags": []
          },
          "execution_count": 6
        }
      ]
    },
    {
      "cell_type": "markdown",
      "metadata": {
        "id": "jFXMe9skOayK"
      },
      "source": [
        "Study Attributes and Handle Outliers"
      ]
    },
    {
      "cell_type": "code",
      "metadata": {
        "id": "PHLRNjO0ODJf",
        "colab": {
          "base_uri": "https://localhost:8080/"
        },
        "outputId": "754d300f-0a0b-4f4b-f14e-230264a4581c"
      },
      "source": [
        "df_2018.info() #Get info on 2018 data\n",
        "#missing values: 1 for perceptions of corruption, 22 for population"
      ],
      "execution_count": null,
      "outputs": [
        {
          "output_type": "stream",
          "text": [
            "<class 'pandas.core.frame.DataFrame'>\n",
            "Int64Index: 156 entries, 0 to 155\n",
            "Data columns (total 10 columns):\n",
            " #   Column                        Non-Null Count  Dtype  \n",
            "---  ------                        --------------  -----  \n",
            " 0   Overall rank                  156 non-null    int64  \n",
            " 1   Country or region             156 non-null    object \n",
            " 2   Score                         156 non-null    float64\n",
            " 3   GDP per capita                156 non-null    float64\n",
            " 4   Social support                156 non-null    float64\n",
            " 5   Healthy life expectancy       156 non-null    float64\n",
            " 6   Freedom to make life choices  156 non-null    float64\n",
            " 7   Generosity                    156 non-null    float64\n",
            " 8   Perceptions of corruption     155 non-null    float64\n",
            " 9   Population                    134 non-null    float64\n",
            "dtypes: float64(8), int64(1), object(1)\n",
            "memory usage: 13.4+ KB\n"
          ],
          "name": "stdout"
        }
      ]
    },
    {
      "cell_type": "code",
      "metadata": {
        "id": "ZoM-wrACOV0t",
        "colab": {
          "base_uri": "https://localhost:8080/"
        },
        "outputId": "bc89e2d3-3d12-45ca-d5c7-548bb9aca093"
      },
      "source": [
        "df_2018['Overall rank'].describe()\n",
        "#represents rank of each country\n",
        "#type: float64\n",
        "#no missing values"
      ],
      "execution_count": null,
      "outputs": [
        {
          "output_type": "execute_result",
          "data": {
            "text/plain": [
              "count    156.000000\n",
              "mean      78.500000\n",
              "std       45.177428\n",
              "min        1.000000\n",
              "25%       39.750000\n",
              "50%       78.500000\n",
              "75%      117.250000\n",
              "max      156.000000\n",
              "Name: Overall rank, dtype: float64"
            ]
          },
          "metadata": {
            "tags": []
          },
          "execution_count": 8
        }
      ]
    },
    {
      "cell_type": "code",
      "metadata": {
        "id": "EY9jSZcYOfuF",
        "colab": {
          "base_uri": "https://localhost:8080/"
        },
        "outputId": "2873fb92-4914-4dc1-8a9e-dee1dc2ef1d0"
      },
      "source": [
        "df_2018['Country or region'].describe()\n",
        "#represents name of each country\n",
        "#type: object\n",
        "#no missing values"
      ],
      "execution_count": null,
      "outputs": [
        {
          "output_type": "execute_result",
          "data": {
            "text/plain": [
              "count        156\n",
              "unique       156\n",
              "top       Bhutan\n",
              "freq           1\n",
              "Name: Country or region, dtype: object"
            ]
          },
          "metadata": {
            "tags": []
          },
          "execution_count": 9
        }
      ]
    },
    {
      "cell_type": "code",
      "metadata": {
        "id": "K8dKkmi3OmN6",
        "colab": {
          "base_uri": "https://localhost:8080/"
        },
        "outputId": "dcd2f1f2-5def-423a-e481-90b475c6e2cf"
      },
      "source": [
        "df_2018['Score'].describe()\n",
        "#represents happiness score of each country\n",
        "#type: float64\n",
        "#no missing values"
      ],
      "execution_count": null,
      "outputs": [
        {
          "output_type": "execute_result",
          "data": {
            "text/plain": [
              "count    156.000000\n",
              "mean       5.375917\n",
              "std        1.119506\n",
              "min        2.905000\n",
              "25%        4.453750\n",
              "50%        5.378000\n",
              "75%        6.168500\n",
              "max        7.632000\n",
              "Name: Score, dtype: float64"
            ]
          },
          "metadata": {
            "tags": []
          },
          "execution_count": 10
        }
      ]
    },
    {
      "cell_type": "code",
      "metadata": {
        "id": "0C8eXN4IStOm",
        "colab": {
          "base_uri": "https://localhost:8080/",
          "height": 282
        },
        "outputId": "b2086eec-1901-416b-ea4a-81bc62c9d3b3"
      },
      "source": [
        "df_2018['Score'].plot.box(whis=1.5)\n",
        "#NO OUTLIERS"
      ],
      "execution_count": null,
      "outputs": [
        {
          "output_type": "execute_result",
          "data": {
            "text/plain": [
              "<matplotlib.axes._subplots.AxesSubplot at 0x7f1b7e0ac350>"
            ]
          },
          "metadata": {
            "tags": []
          },
          "execution_count": 11
        },
        {
          "output_type": "display_data",
          "data": {
            "image/png": "[encoded data removed]",
            "text/plain": [
              "<Figure size 432x288 with 1 Axes>"
            ]
          },
          "metadata": {
            "tags": [],
            "needs_background": "light"
          }
        }
      ]
    },
    {
      "cell_type": "code",
      "metadata": {
        "id": "dEMBJEKDOsC8",
        "colab": {
          "base_uri": "https://localhost:8080/"
        },
        "outputId": "61714055-dc78-4753-e607-8a0a8063786a"
      },
      "source": [
        "df_2018['GDP per capita'].describe()\n",
        "#represents GDP per capita of each country\n",
        "#type: float64\n",
        "#no missing values"
      ],
      "execution_count": null,
      "outputs": [
        {
          "output_type": "execute_result",
          "data": {
            "text/plain": [
              "count    156.000000\n",
              "mean       0.891449\n",
              "std        0.391921\n",
              "min        0.000000\n",
              "25%        0.616250\n",
              "50%        0.949500\n",
              "75%        1.197750\n",
              "max        2.096000\n",
              "Name: GDP per capita, dtype: float64"
            ]
          },
          "metadata": {
            "tags": []
          },
          "execution_count": 12
        }
      ]
    },
    {
      "cell_type": "code",
      "metadata": {
        "id": "oAjdZNqlSuq0",
        "colab": {
          "base_uri": "https://localhost:8080/",
          "height": 282
        },
        "outputId": "2cef3931-e9a4-4e9a-fe86-5b2390d1e4fd"
      },
      "source": [
        "df_2018['GDP per capita'].plot.box(whis=1.5)\n",
        "#OUTLIERS"
      ],
      "execution_count": null,
      "outputs": [
        {
          "output_type": "execute_result",
          "data": {
            "text/plain": [
              "<matplotlib.axes._subplots.AxesSubplot at 0x7f1b7dff5b10>"
            ]
          },
          "metadata": {
            "tags": []
          },
          "execution_count": 13
        },
        {
          "output_type": "display_data",
          "data": {
            "image/png": "[encoded data removed]",
            "text/plain": [
              "<Figure size 432x288 with 1 Axes>"
            ]
          },
          "metadata": {
            "tags": [],
            "needs_background": "light"
          }
        }
      ]
    },
    {
      "cell_type": "code",
      "metadata": {
        "id": "Q2aewD1SeBDw",
        "colab": {
          "base_uri": "https://localhost:8080/"
        },
        "outputId": "4f542eef-bfcb-4fd6-ed15-91bd3bc1f378"
      },
      "source": [
        "lower1, upper1 = check_outliers(df_2018['GDP per capita'])\n",
        "print(f'lower = {lower1}, upper={upper1}')"
      ],
      "execution_count": null,
      "outputs": [
        {
          "output_type": "stream",
          "text": [
            "lower = -0.2560000000000002, upper=2.0700000000000003\n"
          ],
          "name": "stdout"
        }
      ]
    },
    {
      "cell_type": "code",
      "metadata": {
        "id": "MGC53DYGJOi8",
        "colab": {
          "base_uri": "https://localhost:8080/"
        },
        "outputId": "04952d64-2cd3-4a84-dc31-89b93019902e"
      },
      "source": [
        "mask_upper1 = df_2018['GDP per capita']>upper1\n",
        "print(f'{mask_upper1.sum()} Upper outliers')\n",
        "#upper outliers\n"
      ],
      "execution_count": null,
      "outputs": [
        {
          "output_type": "stream",
          "text": [
            "1 Upper outliers\n"
          ],
          "name": "stdout"
        }
      ]
    },
    {
      "cell_type": "code",
      "metadata": {
        "id": "K6rTHmf2JOx4",
        "colab": {
          "base_uri": "https://localhost:8080/"
        },
        "outputId": "507ded2b-c56f-4bee-af27-e56709c153ea"
      },
      "source": [
        "mask_lower1 = df_2018['GDP per capita']<lower1\n",
        "print(f'{mask_lower1.sum()} Lower outliers')\n",
        "#lower outliers"
      ],
      "execution_count": null,
      "outputs": [
        {
          "output_type": "stream",
          "text": [
            "0 Lower outliers\n"
          ],
          "name": "stdout"
        }
      ]
    },
    {
      "cell_type": "code",
      "metadata": {
        "id": "2v6kUCc4eOiK"
      },
      "source": [
        "#replace outliers\n",
        "\n",
        "df_2018['GDP per capita']=df_2018['GDP per capita']\n",
        "for i in df_2018[mask_upper1].index:\n",
        "  df_2018.loc[i,'GDP per capita']=upper1\n",
        "for i in df_2018[mask_lower1].index:\n",
        "  df_2018.loc[i,'GDP per capita']=lower1"
      ],
      "execution_count": null,
      "outputs": []
    },
    {
      "cell_type": "code",
      "metadata": {
        "id": "FUKtxuGWe14u",
        "colab": {
          "base_uri": "https://localhost:8080/",
          "height": 282
        },
        "outputId": "4b812716-640d-46fc-a68c-599d3cfa3c43"
      },
      "source": [
        "df_2018['GDP per capita'].plot.box(whis=1.5)\n",
        "# No outliers"
      ],
      "execution_count": null,
      "outputs": [
        {
          "output_type": "execute_result",
          "data": {
            "text/plain": [
              "<matplotlib.axes._subplots.AxesSubplot at 0x7f1b7db28ed0>"
            ]
          },
          "metadata": {
            "tags": []
          },
          "execution_count": 18
        },
        {
          "output_type": "display_data",
          "data": {
            "image/png": "[encoded data removed]",
            "text/plain": [
              "<Figure size 432x288 with 1 Axes>"
            ]
          },
          "metadata": {
            "tags": [],
            "needs_background": "light"
          }
        }
      ]
    },
    {
      "cell_type": "code",
      "metadata": {
        "id": "9HkS-lw9OuvU",
        "colab": {
          "base_uri": "https://localhost:8080/"
        },
        "outputId": "a9405b31-922a-4f64-e096-6b989a85e485"
      },
      "source": [
        "df_2018['Social support'].describe()\n",
        "#represents ....\n",
        "#type: float64\n",
        "#no missing values"
      ],
      "execution_count": null,
      "outputs": [
        {
          "output_type": "execute_result",
          "data": {
            "text/plain": [
              "count    156.000000\n",
              "mean       1.213237\n",
              "std        0.302372\n",
              "min        0.000000\n",
              "25%        1.066750\n",
              "50%        1.255000\n",
              "75%        1.463000\n",
              "max        1.644000\n",
              "Name: Social support, dtype: float64"
            ]
          },
          "metadata": {
            "tags": []
          },
          "execution_count": 19
        }
      ]
    },
    {
      "cell_type": "code",
      "metadata": {
        "id": "9HjdwvCKSxmT",
        "colab": {
          "base_uri": "https://localhost:8080/",
          "height": 282
        },
        "outputId": "03616846-7382-46be-f9dc-46f5f816b8e0"
      },
      "source": [
        "df_2018['Social support'].plot.box(whis=1.5)\n",
        "#OUTLIERS"
      ],
      "execution_count": null,
      "outputs": [
        {
          "output_type": "execute_result",
          "data": {
            "text/plain": [
              "<matplotlib.axes._subplots.AxesSubplot at 0x7f1b7da99dd0>"
            ]
          },
          "metadata": {
            "tags": []
          },
          "execution_count": 20
        },
        {
          "output_type": "display_data",
          "data": {
            "image/png": "[encoded data removed]",
            "text/plain": [
              "<Figure size 432x288 with 1 Axes>"
            ]
          },
          "metadata": {
            "tags": [],
            "needs_background": "light"
          }
        }
      ]
    },
    {
      "cell_type": "code",
      "metadata": {
        "id": "Nj9DPvx0ftgI",
        "colab": {
          "base_uri": "https://localhost:8080/"
        },
        "outputId": "f56c249d-e441-4f44-937a-9b6ee2a608ac"
      },
      "source": [
        "lower2, upper2 = check_outliers(df_2018['Social support'])\n",
        "print(f'lower = {lower2}, upper={upper2}')"
      ],
      "execution_count": null,
      "outputs": [
        {
          "output_type": "stream",
          "text": [
            "lower = 0.47237499999999955, upper=2.0573750000000004\n"
          ],
          "name": "stdout"
        }
      ]
    },
    {
      "cell_type": "code",
      "metadata": {
        "id": "Qq7s8DlWnS3V",
        "colab": {
          "base_uri": "https://localhost:8080/"
        },
        "outputId": "4af2bfec-1c15-4f34-cc06-c227ed2fba94"
      },
      "source": [
        "mask_upper2 = df_2018['Social support']>upper2\n",
        "mask_upper2.sum()\n",
        "#no upper outliers "
      ],
      "execution_count": null,
      "outputs": [
        {
          "output_type": "execute_result",
          "data": {
            "text/plain": [
              "0"
            ]
          },
          "metadata": {
            "tags": []
          },
          "execution_count": 22
        }
      ]
    },
    {
      "cell_type": "code",
      "metadata": {
        "id": "7w3s3v3wf2nj",
        "colab": {
          "base_uri": "https://localhost:8080/"
        },
        "outputId": "1d9a6525-2675-4a0e-cfe8-1c914ac7bff3"
      },
      "source": [
        "mask_lower2 = df_2018['Social support']<lower2\n",
        "mask_lower2.sum()\n",
        "#lower outliers "
      ],
      "execution_count": null,
      "outputs": [
        {
          "output_type": "execute_result",
          "data": {
            "text/plain": [
              "3"
            ]
          },
          "metadata": {
            "tags": []
          },
          "execution_count": 23
        }
      ]
    },
    {
      "cell_type": "code",
      "metadata": {
        "id": "BUmVgHP1gmh8"
      },
      "source": [
        "df_2018['Social support']=df_2018['Social support']\n",
        "for i in df_2018[mask_lower2].index: \n",
        "  df_2018.loc[i,'Social support']=lower2 # replace lower outliers"
      ],
      "execution_count": null,
      "outputs": []
    },
    {
      "cell_type": "code",
      "metadata": {
        "id": "F5CRF6pHmu07",
        "colab": {
          "base_uri": "https://localhost:8080/",
          "height": 282
        },
        "outputId": "afae993a-073d-4b28-f453-a04dd57c39f2"
      },
      "source": [
        "df_2018['Social support'].plot.box(whis=1.5)\n",
        "# No outliers"
      ],
      "execution_count": null,
      "outputs": [
        {
          "output_type": "execute_result",
          "data": {
            "text/plain": [
              "<matplotlib.axes._subplots.AxesSubplot at 0x7f1b7da18590>"
            ]
          },
          "metadata": {
            "tags": []
          },
          "execution_count": 25
        },
        {
          "output_type": "display_data",
          "data": {
            "image/png": "[encoded data removed]",
            "text/plain": [
              "<Figure size 432x288 with 1 Axes>"
            ]
          },
          "metadata": {
            "tags": [],
            "needs_background": "light"
          }
        }
      ]
    },
    {
      "cell_type": "code",
      "metadata": {
        "id": "ANzBcMnyO48W",
        "colab": {
          "base_uri": "https://localhost:8080/"
        },
        "outputId": "c0d76087-38e6-40c0-8838-92b0865d9381"
      },
      "source": [
        "df_2018['Healthy life expectancy'].describe()\n",
        "#represents ....\n",
        "#type: float64\n",
        "#no missing values"
      ],
      "execution_count": null,
      "outputs": [
        {
          "output_type": "execute_result",
          "data": {
            "text/plain": [
              "count    156.000000\n",
              "mean       0.597346\n",
              "std        0.247579\n",
              "min        0.000000\n",
              "25%        0.422250\n",
              "50%        0.644000\n",
              "75%        0.777250\n",
              "max        1.030000\n",
              "Name: Healthy life expectancy, dtype: float64"
            ]
          },
          "metadata": {
            "tags": []
          },
          "execution_count": 26
        }
      ]
    },
    {
      "cell_type": "code",
      "metadata": {
        "id": "X3_FNmrSS1cG",
        "colab": {
          "base_uri": "https://localhost:8080/",
          "height": 282
        },
        "outputId": "00f6d051-b890-4e06-cd77-98f3ee187f1f"
      },
      "source": [
        "df_2018['Healthy life expectancy'].plot.box(whis=1.5)\n",
        "#NO OUTLIERS"
      ],
      "execution_count": null,
      "outputs": [
        {
          "output_type": "execute_result",
          "data": {
            "text/plain": [
              "<matplotlib.axes._subplots.AxesSubplot at 0x7f1b7d97ab50>"
            ]
          },
          "metadata": {
            "tags": []
          },
          "execution_count": 27
        },
        {
          "output_type": "display_data",
          "data": {
            "image/png": "[encoded data removed]",
            "text/plain": [
              "<Figure size 432x288 with 1 Axes>"
            ]
          },
          "metadata": {
            "tags": [],
            "needs_background": "light"
          }
        }
      ]
    },
    {
      "cell_type": "code",
      "metadata": {
        "id": "ito0v2IhO_Kg",
        "colab": {
          "base_uri": "https://localhost:8080/"
        },
        "outputId": "a3bbbbc5-1837-4ddf-e43e-cc494ed06979"
      },
      "source": [
        "df_2018['Agency'] = df_2018['Freedom to make life choices'] #renaming column\n",
        "df_2018 = df_2018.drop(labels=['Freedom to make life choices'], axis=1) # drop duplicate \n",
        "df_2018['Agency'].describe()\n",
        "#represents ....\n",
        "#type: float64\n",
        "#no missing values"
      ],
      "execution_count": null,
      "outputs": [
        {
          "output_type": "execute_result",
          "data": {
            "text/plain": [
              "count    156.000000\n",
              "mean       0.454506\n",
              "std        0.162424\n",
              "min        0.000000\n",
              "25%        0.356000\n",
              "50%        0.487000\n",
              "75%        0.578500\n",
              "max        0.724000\n",
              "Name: Agency, dtype: float64"
            ]
          },
          "metadata": {
            "tags": []
          },
          "execution_count": 28
        }
      ]
    },
    {
      "cell_type": "code",
      "metadata": {
        "id": "NlE6Hat3S7et",
        "colab": {
          "base_uri": "https://localhost:8080/"
        },
        "outputId": "3d6cd325-adb6-46c0-e4ea-ca3d87f300b8"
      },
      "source": [
        "df_2018['Agency'].plot.box(whis=1.5)\n",
        "#OUTLIERS"
      ],
      "execution_count": null,
      "outputs": [
        {
          "output_type": "execute_result",
          "data": {
            "text/plain": [
              "<matplotlib.axes._subplots.AxesSubplot at 0x7f1b7d8f5250>"
            ]
          },
          "metadata": {
            "tags": []
          },
          "execution_count": 29
        },
        {
          "output_type": "display_data",
          "data": {
            "image/png": "[encoded data removed]",
            "text/plain": [
              "<Figure size 432x288 with 1 Axes>"
            ]
          },
          "metadata": {
            "tags": [],
            "needs_background": "light"
          }
        }
      ]
    },
    {
      "cell_type": "code",
      "metadata": {
        "id": "ltMjf06bmzEN",
        "colab": {
          "base_uri": "https://localhost:8080/"
        },
        "outputId": "e6b5a771-1834-4582-9be9-5d13ee6d3263"
      },
      "source": [
        "lower3, upper3 = check_outliers(df_2018['Agency'])\n",
        "print(f'lower = {lower3}, upper={upper3}')"
      ],
      "execution_count": null,
      "outputs": [
        {
          "output_type": "stream",
          "text": [
            "lower = 0.022250000000000048, upper=0.91225\n"
          ],
          "name": "stdout"
        }
      ]
    },
    {
      "cell_type": "code",
      "metadata": {
        "id": "0D5u4Sc2pAbe",
        "colab": {
          "base_uri": "https://localhost:8080/"
        },
        "outputId": "70745d60-bf8b-4d4d-fa1a-968de579e5c0"
      },
      "source": [
        "mask_upper3 = df_2018['Agency']>upper3\n",
        "mask_upper3.sum()\n",
        "#no upper outliers"
      ],
      "execution_count": null,
      "outputs": [
        {
          "output_type": "execute_result",
          "data": {
            "text/plain": [
              "0"
            ]
          },
          "metadata": {
            "tags": []
          },
          "execution_count": 31
        }
      ]
    },
    {
      "cell_type": "code",
      "metadata": {
        "id": "LZmNH1aOm6K_",
        "colab": {
          "base_uri": "https://localhost:8080/"
        },
        "outputId": "7702b464-e184-413b-81df-4891c56fc80e"
      },
      "source": [
        "mask_lower3 = df_2018['Agency']<lower3\n",
        "mask_lower3.sum()\n",
        "#lower outliers"
      ],
      "execution_count": null,
      "outputs": [
        {
          "output_type": "execute_result",
          "data": {
            "text/plain": [
              "2"
            ]
          },
          "metadata": {
            "tags": []
          },
          "execution_count": 32
        }
      ]
    },
    {
      "cell_type": "code",
      "metadata": {
        "id": "RLy2S_p6nARC"
      },
      "source": [
        "df_2018['Agency']=df_2018['Agency']\n",
        "for i in df_2018[mask_lower3].index:\n",
        "  df_2018.loc[i,'Agency']=lower3 # replace lower outliers"
      ],
      "execution_count": null,
      "outputs": []
    },
    {
      "cell_type": "code",
      "metadata": {
        "id": "nUajE3onpVUc",
        "colab": {
          "base_uri": "https://localhost:8080/"
        },
        "outputId": "6d0fdbb2-74d1-4b57-e4c1-efee58c69caa"
      },
      "source": [
        "df_2018['Agency'].plot.box(whis=1.5)\n",
        "#outliers removed"
      ],
      "execution_count": null,
      "outputs": [
        {
          "output_type": "execute_result",
          "data": {
            "text/plain": [
              "<matplotlib.axes._subplots.AxesSubplot at 0x7f1b7d873950>"
            ]
          },
          "metadata": {
            "tags": []
          },
          "execution_count": 34
        },
        {
          "output_type": "display_data",
          "data": {
            "image/png": "[encoded data removed]",
            "text/plain": [
              "<Figure size 432x288 with 1 Axes>"
            ]
          },
          "metadata": {
            "tags": [],
            "needs_background": "light"
          }
        }
      ]
    },
    {
      "cell_type": "code",
      "metadata": {
        "id": "I7VJojDwTDVm",
        "colab": {
          "base_uri": "https://localhost:8080/"
        },
        "outputId": "ae8d0c07-ad4c-486a-e75c-b95f710ac1c5"
      },
      "source": [
        "df_2018['Generosity'].describe()\n",
        "#represents ....\n",
        "#type: float64\n",
        "#no missing values"
      ],
      "execution_count": null,
      "outputs": [
        {
          "output_type": "execute_result",
          "data": {
            "text/plain": [
              "count    156.000000\n",
              "mean       0.181006\n",
              "std        0.098471\n",
              "min        0.000000\n",
              "25%        0.109500\n",
              "50%        0.174000\n",
              "75%        0.239000\n",
              "max        0.598000\n",
              "Name: Generosity, dtype: float64"
            ]
          },
          "metadata": {
            "tags": []
          },
          "execution_count": 35
        }
      ]
    },
    {
      "cell_type": "code",
      "metadata": {
        "id": "FAf6BNLtTKcN",
        "colab": {
          "base_uri": "https://localhost:8080/"
        },
        "outputId": "ff31af8e-7666-4e72-dd5a-62b91595c6c4"
      },
      "source": [
        "df_2018['Generosity'].plot.box(whis=1.5)\n",
        "#OUTLIERS"
      ],
      "execution_count": null,
      "outputs": [
        {
          "output_type": "execute_result",
          "data": {
            "text/plain": [
              "<matplotlib.axes._subplots.AxesSubplot at 0x7f1b7d85ec10>"
            ]
          },
          "metadata": {
            "tags": []
          },
          "execution_count": 36
        },
        {
          "output_type": "display_data",
          "data": {
            "image/png": "[encoded data removed]",
            "text/plain": [
              "<Figure size 432x288 with 1 Axes>"
            ]
          },
          "metadata": {
            "tags": [],
            "needs_background": "light"
          }
        }
      ]
    },
    {
      "cell_type": "code",
      "metadata": {
        "id": "_Ic5FpmRpbwQ",
        "colab": {
          "base_uri": "https://localhost:8080/"
        },
        "outputId": "311900c5-63bd-4f0e-a77b-65882acd55a8"
      },
      "source": [
        "lower4, upper4 = check_outliers(df_2018['Generosity'])\n",
        "print(f'lower = {lower4}, upper={upper4}')"
      ],
      "execution_count": null,
      "outputs": [
        {
          "output_type": "stream",
          "text": [
            "lower = -0.08474999999999999, upper=0.43325\n"
          ],
          "name": "stdout"
        }
      ]
    },
    {
      "cell_type": "code",
      "metadata": {
        "id": "mydI991Kpien",
        "colab": {
          "base_uri": "https://localhost:8080/"
        },
        "outputId": "ba0a6201-8993-4d3f-fe60-8b5e57cade1a"
      },
      "source": [
        "mask_upper4 = df_2018['Generosity']>upper4\n",
        "mask_upper4.sum()\n",
        "#upper outliers"
      ],
      "execution_count": null,
      "outputs": [
        {
          "output_type": "execute_result",
          "data": {
            "text/plain": [
              "2"
            ]
          },
          "metadata": {
            "tags": []
          },
          "execution_count": 38
        }
      ]
    },
    {
      "cell_type": "code",
      "metadata": {
        "id": "7aWlcsSqppri",
        "colab": {
          "base_uri": "https://localhost:8080/"
        },
        "outputId": "56f456ea-6966-4043-d379-840ce00ca821"
      },
      "source": [
        "mask_lower4 = df_2018['Generosity']<lower4\n",
        "mask_lower4.sum()\n",
        "#no lower outliers"
      ],
      "execution_count": null,
      "outputs": [
        {
          "output_type": "execute_result",
          "data": {
            "text/plain": [
              "0"
            ]
          },
          "metadata": {
            "tags": []
          },
          "execution_count": 39
        }
      ]
    },
    {
      "cell_type": "code",
      "metadata": {
        "id": "UxSyCxPjpwbX"
      },
      "source": [
        "df_2018['Generosity']=df_2018['Generosity']\n",
        "for i in df_2018[mask_upper4].index:\n",
        "  df_2018.loc[i,'Generosity']=upper4 # replace outliers"
      ],
      "execution_count": null,
      "outputs": []
    },
    {
      "cell_type": "code",
      "metadata": {
        "id": "BrxIiQMgp_pR",
        "colab": {
          "base_uri": "https://localhost:8080/"
        },
        "outputId": "1a1e5f2c-747a-4807-9926-7806e9513467"
      },
      "source": [
        "df_2018['Generosity'].plot.box(whis=1.5)\n",
        "# outliers replaced"
      ],
      "execution_count": null,
      "outputs": [
        {
          "output_type": "execute_result",
          "data": {
            "text/plain": [
              "<matplotlib.axes._subplots.AxesSubplot at 0x7f1b7d7702d0>"
            ]
          },
          "metadata": {
            "tags": []
          },
          "execution_count": 41
        },
        {
          "output_type": "display_data",
          "data": {
            "image/png": "[encoded data removed]",
            "text/plain": [
              "<Figure size 432x288 with 1 Axes>"
            ]
          },
          "metadata": {
            "tags": [],
            "needs_background": "light"
          }
        }
      ]
    },
    {
      "cell_type": "code",
      "metadata": {
        "id": "uIR1p3O8TPbl",
        "colab": {
          "base_uri": "https://localhost:8080/"
        },
        "outputId": "ac6ada87-df2b-4ed5-808c-1d391514c311"
      },
      "source": [
        "df_2018['Perceptions of corruption'].describe()\n",
        "#represents ....\n",
        "#type: float64\n",
        "#One missing values"
      ],
      "execution_count": null,
      "outputs": [
        {
          "output_type": "execute_result",
          "data": {
            "text/plain": [
              "count    155.000000\n",
              "mean       0.112000\n",
              "std        0.096492\n",
              "min        0.000000\n",
              "25%        0.051000\n",
              "50%        0.082000\n",
              "75%        0.137000\n",
              "max        0.457000\n",
              "Name: Perceptions of corruption, dtype: float64"
            ]
          },
          "metadata": {
            "tags": []
          },
          "execution_count": 42
        }
      ]
    },
    {
      "cell_type": "code",
      "metadata": {
        "id": "gbZjdDERTVZU",
        "colab": {
          "base_uri": "https://localhost:8080/"
        },
        "outputId": "1ba8bf93-ab8d-40d2-abb1-cb9ef20be7b6"
      },
      "source": [
        "df_2018['Perceptions of corruption'].plot.box(whis=1.5)\n",
        "#LOTS OF OUTLIERS"
      ],
      "execution_count": null,
      "outputs": [
        {
          "output_type": "execute_result",
          "data": {
            "text/plain": [
              "<matplotlib.axes._subplots.AxesSubplot at 0x7f1b7d732f10>"
            ]
          },
          "metadata": {
            "tags": []
          },
          "execution_count": 43
        },
        {
          "output_type": "display_data",
          "data": {
            "image/png": "[encoded data removed]",
            "text/plain": [
              "<Figure size 432x288 with 1 Axes>"
            ]
          },
          "metadata": {
            "tags": [],
            "needs_background": "light"
          }
        }
      ]
    },
    {
      "cell_type": "code",
      "metadata": {
        "id": "ExVCCtxLw8bj",
        "colab": {
          "base_uri": "https://localhost:8080/"
        },
        "outputId": "5abb5c09-7ca8-4647-e49d-4ba0b2a13223"
      },
      "source": [
        "lower5, upper5 = check_outliers(df_2018['Perceptions of corruption'])\n",
        "print(f'lower = {lower5}, upper={upper5}')\n",
        "\n",
        "mask_upper5 = df_2018['Perceptions of corruption']>upper5\n",
        "print(f'{mask_upper5.sum()} Upper outliers')\n",
        "#upper outliers\n",
        "\n",
        "mask_lower5 = df_2019['Perceptions of corruption']<lower5\n",
        "print(f'{mask_lower5.sum()} Lower outliers')\n",
        "#lower outliers"
      ],
      "execution_count": null,
      "outputs": [
        {
          "output_type": "stream",
          "text": [
            "lower = -0.07800000000000004, upper=0.266\n",
            "17 Upper outliers\n",
            "0 Lower outliers\n"
          ],
          "name": "stdout"
        }
      ]
    },
    {
      "cell_type": "code",
      "metadata": {
        "id": "wq4TSDikAWoY",
        "colab": {
          "base_uri": "https://localhost:8080/"
        },
        "outputId": "972e5e25-f4b5-4bb3-aaea-2fc3f99eeb59"
      },
      "source": [
        "df_2018['Population'].describe()\n",
        "#represents population of each country in the thousands\n",
        "#type: float64\n",
        "# missing values = 156-134 = 22 missing"
      ],
      "execution_count": null,
      "outputs": [
        {
          "output_type": "execute_result",
          "data": {
            "text/plain": [
              "count    1.340000e+02\n",
              "mean     4.896796e+04\n",
              "std      1.716041e+05\n",
              "min      3.370000e+02\n",
              "25%      5.083750e+03\n",
              "50%      1.132850e+04\n",
              "75%      3.339625e+04\n",
              "max      1.427648e+06\n",
              "Name: Population, dtype: float64"
            ]
          },
          "metadata": {
            "tags": []
          },
          "execution_count": 45
        }
      ]
    },
    {
      "cell_type": "code",
      "metadata": {
        "id": "asfKrdSIBzKK",
        "colab": {
          "base_uri": "https://localhost:8080/"
        },
        "outputId": "a32cca1d-e63d-4af7-960b-c06497976aa0"
      },
      "source": [
        "df_2018['Population'].plot.box(whis=1.5)\n",
        "#OUTLIERS"
      ],
      "execution_count": null,
      "outputs": [
        {
          "output_type": "execute_result",
          "data": {
            "text/plain": [
              "<matplotlib.axes._subplots.AxesSubplot at 0x7f1b7d6bc110>"
            ]
          },
          "metadata": {
            "tags": []
          },
          "execution_count": 46
        },
        {
          "output_type": "display_data",
          "data": {
            "image/png": "[encoded data removed]",
            "text/plain": [
              "<Figure size 432x288 with 1 Axes>"
            ]
          },
          "metadata": {
            "tags": [],
            "needs_background": "light"
          }
        }
      ]
    },
    {
      "cell_type": "code",
      "metadata": {
        "id": "qNtebhlXB-jy",
        "colab": {
          "base_uri": "https://localhost:8080/"
        },
        "outputId": "7acc2c3f-e9fc-466a-8b98-41645f56ef22"
      },
      "source": [
        "#Find outliers\n",
        "lower6, upper6 = check_outliers(df_2018['Population'])\n",
        "print(f'lower = {lower6}, upper={upper6}')\n",
        "\n",
        "mask_upper6 = df_2018['Population']>upper6\n",
        "print(f'{mask_upper6.sum()} Upper outliers')\n",
        "#14 upper outliers\n",
        "\n",
        "mask_lower6 = df_2018['Population']<lower6\n",
        "print(f'{mask_lower6.sum()} Lower outliers')\n",
        "#no lower outliers"
      ],
      "execution_count": null,
      "outputs": [
        {
          "output_type": "stream",
          "text": [
            "lower = -37385.0, upper=75865.0\n",
            "14 Upper outliers\n",
            "0 Lower outliers\n"
          ],
          "name": "stdout"
        }
      ]
    },
    {
      "cell_type": "code",
      "metadata": {
        "id": "YmOacRDgCyjC",
        "colab": {
          "base_uri": "https://localhost:8080/"
        },
        "outputId": "892a7fd7-c75b-4bcd-cc12-754732432879"
      },
      "source": [
        "#replace outliers\n",
        "df_2018['Population']=df_2018['Population'] # Create duplicate column\n",
        "for i in df_2018[mask_upper6].index: \n",
        "  df_2018.loc[i,'Population']=upper6  # replace upper outliers\n",
        "for i in df_2018[mask_lower6].index:\n",
        "  df_2018.loc[i,'Population']=lower6 # replace lower outliers\n",
        "\n",
        "#check again\n",
        "df_2018['Population'].plot.box(whis=1.5)\n",
        "#outliers removed\n"
      ],
      "execution_count": null,
      "outputs": [
        {
          "output_type": "execute_result",
          "data": {
            "text/plain": [
              "<matplotlib.axes._subplots.AxesSubplot at 0x7f1b7d62e190>"
            ]
          },
          "metadata": {
            "tags": []
          },
          "execution_count": 48
        },
        {
          "output_type": "display_data",
          "data": {
            "image/png": "[encoded data removed]",
            "text/plain": [
              "<Figure size 432x288 with 1 Axes>"
            ]
          },
          "metadata": {
            "tags": [],
            "needs_background": "light"
          }
        }
      ]
    },
    {
      "cell_type": "code",
      "metadata": {
        "id": "hrJbU2wxJkXH",
        "colab": {
          "base_uri": "https://localhost:8080/"
        },
        "outputId": "f83fcf56-9420-4105-9d54-387ef07fcd07"
      },
      "source": [
        "df_2019.info()"
      ],
      "execution_count": null,
      "outputs": [
        {
          "output_type": "stream",
          "text": [
            "<class 'pandas.core.frame.DataFrame'>\n",
            "Int64Index: 156 entries, 0 to 155\n",
            "Data columns (total 10 columns):\n",
            " #   Column                        Non-Null Count  Dtype  \n",
            "---  ------                        --------------  -----  \n",
            " 0   Overall rank                  156 non-null    int64  \n",
            " 1   Country or region             156 non-null    object \n",
            " 2   Score                         156 non-null    float64\n",
            " 3   GDP per capita                156 non-null    float64\n",
            " 4   Social support                156 non-null    float64\n",
            " 5   Healthy life expectancy       156 non-null    float64\n",
            " 6   Freedom to make life choices  156 non-null    float64\n",
            " 7   Generosity                    156 non-null    float64\n",
            " 8   Perceptions of corruption     156 non-null    float64\n",
            " 9   Population                    134 non-null    float64\n",
            "dtypes: float64(8), int64(1), object(1)\n",
            "memory usage: 13.4+ KB\n"
          ],
          "name": "stdout"
        }
      ]
    },
    {
      "cell_type": "code",
      "metadata": {
        "id": "nIaJ3MXCQejB",
        "colab": {
          "base_uri": "https://localhost:8080/"
        },
        "outputId": "e79aacbd-7817-4a87-e4df-21d6c4405ac7"
      },
      "source": [
        "df_2019['Overall rank'].describe()\n",
        "#represents rank of each countries happiness\n",
        "#Type: Float64\n",
        "#% Missing Values: 0"
      ],
      "execution_count": null,
      "outputs": [
        {
          "output_type": "execute_result",
          "data": {
            "text/plain": [
              "count    156.000000\n",
              "mean      78.500000\n",
              "std       45.177428\n",
              "min        1.000000\n",
              "25%       39.750000\n",
              "50%       78.500000\n",
              "75%      117.250000\n",
              "max      156.000000\n",
              "Name: Overall rank, dtype: float64"
            ]
          },
          "metadata": {
            "tags": []
          },
          "execution_count": 50
        }
      ]
    },
    {
      "cell_type": "code",
      "metadata": {
        "id": "VuXGP3AeQsE2",
        "colab": {
          "base_uri": "https://localhost:8080/"
        },
        "outputId": "e0df3cf4-d566-46a1-dd26-ff729c40489d"
      },
      "source": [
        "df_2019['Country or region'].describe()\n",
        "#represents name of each country\n",
        "#Type: Object\n",
        "#% Missing Values: 0"
      ],
      "execution_count": null,
      "outputs": [
        {
          "output_type": "execute_result",
          "data": {
            "text/plain": [
              "count       156\n",
              "unique      156\n",
              "top       Ghana\n",
              "freq          1\n",
              "Name: Country or region, dtype: object"
            ]
          },
          "metadata": {
            "tags": []
          },
          "execution_count": 51
        }
      ]
    },
    {
      "cell_type": "code",
      "metadata": {
        "id": "8GzIHPbxQsQM",
        "colab": {
          "base_uri": "https://localhost:8080/"
        },
        "outputId": "98aed7c3-4a52-4918-c3db-42bf66d2f3a5"
      },
      "source": [
        "df_2019['Score'].describe()\n",
        "#represents happiness score of each country\n",
        "#Type: Float64\n",
        "#% Missing Values: 0"
      ],
      "execution_count": null,
      "outputs": [
        {
          "output_type": "execute_result",
          "data": {
            "text/plain": [
              "count    156.000000\n",
              "mean       5.407096\n",
              "std        1.113120\n",
              "min        2.853000\n",
              "25%        4.544500\n",
              "50%        5.379500\n",
              "75%        6.184500\n",
              "max        7.769000\n",
              "Name: Score, dtype: float64"
            ]
          },
          "metadata": {
            "tags": []
          },
          "execution_count": 52
        }
      ]
    },
    {
      "cell_type": "code",
      "metadata": {
        "id": "53PnkJmhlkGH",
        "colab": {
          "base_uri": "https://localhost:8080/"
        },
        "outputId": "0090312f-61d0-4c46-a059-154f6c5bed20"
      },
      "source": [
        "df_2019['Score'].plot.box(whis=1.5)\n",
        "#NO OUTLIERS"
      ],
      "execution_count": null,
      "outputs": [
        {
          "output_type": "execute_result",
          "data": {
            "text/plain": [
              "<matplotlib.axes._subplots.AxesSubplot at 0x7f1b7d74e650>"
            ]
          },
          "metadata": {
            "tags": []
          },
          "execution_count": 53
        },
        {
          "output_type": "display_data",
          "data": {
            "image/png": "[encoded data removed]",
            "text/plain": [
              "<Figure size 432x288 with 1 Axes>"
            ]
          },
          "metadata": {
            "tags": [],
            "needs_background": "light"
          }
        }
      ]
    },
    {
      "cell_type": "code",
      "metadata": {
        "id": "KZgDObZZQsbr",
        "colab": {
          "base_uri": "https://localhost:8080/"
        },
        "outputId": "2680c786-cf0e-4d7b-8cbb-2f807c5ab921"
      },
      "source": [
        "df_2019['GDP per capita'].describe()\n",
        "#represents ...\n",
        "#Type: Float64\n",
        "#% Missing Values: 0"
      ],
      "execution_count": null,
      "outputs": [
        {
          "output_type": "execute_result",
          "data": {
            "text/plain": [
              "count    156.000000\n",
              "mean       0.905147\n",
              "std        0.398389\n",
              "min        0.000000\n",
              "25%        0.602750\n",
              "50%        0.960000\n",
              "75%        1.232500\n",
              "max        1.684000\n",
              "Name: GDP per capita, dtype: float64"
            ]
          },
          "metadata": {
            "tags": []
          },
          "execution_count": 54
        }
      ]
    },
    {
      "cell_type": "code",
      "metadata": {
        "id": "lmVETKjMlvRh",
        "colab": {
          "base_uri": "https://localhost:8080/"
        },
        "outputId": "f574d21c-cf8f-44d2-bc53-a0de78dfe98e"
      },
      "source": [
        "df_2019['GDP per capita'].plot.box(whis=1.5)\n",
        "#NO OUTLIERS"
      ],
      "execution_count": null,
      "outputs": [
        {
          "output_type": "execute_result",
          "data": {
            "text/plain": [
              "<matplotlib.axes._subplots.AxesSubplot at 0x7f1b7d593890>"
            ]
          },
          "metadata": {
            "tags": []
          },
          "execution_count": 55
        },
        {
          "output_type": "display_data",
          "data": {
            "image/png": "[encoded data removed]",
            "text/plain": [
              "<Figure size 432x288 with 1 Axes>"
            ]
          },
          "metadata": {
            "tags": [],
            "needs_background": "light"
          }
        }
      ]
    },
    {
      "cell_type": "code",
      "metadata": {
        "id": "EnjTr0sZQslj",
        "colab": {
          "base_uri": "https://localhost:8080/"
        },
        "outputId": "d5200b8d-3381-42ff-e0f2-4bfb5a3e3af6"
      },
      "source": [
        "df_2019['Social support'].describe()\n",
        "#represents ...\n",
        "#Type: Float64\n",
        "#% Missing Values: 0"
      ],
      "execution_count": null,
      "outputs": [
        {
          "output_type": "execute_result",
          "data": {
            "text/plain": [
              "count    156.000000\n",
              "mean       1.208814\n",
              "std        0.299191\n",
              "min        0.000000\n",
              "25%        1.055750\n",
              "50%        1.271500\n",
              "75%        1.452500\n",
              "max        1.624000\n",
              "Name: Social support, dtype: float64"
            ]
          },
          "metadata": {
            "tags": []
          },
          "execution_count": 56
        }
      ]
    },
    {
      "cell_type": "code",
      "metadata": {
        "id": "2RSZ1JFXlyDJ",
        "colab": {
          "base_uri": "https://localhost:8080/"
        },
        "outputId": "28c8a5a4-70c6-4a05-a0bb-e364198730b1"
      },
      "source": [
        "df_2019['Social support'].plot.box(whis=1.5)\n",
        "#OUTLIERS"
      ],
      "execution_count": null,
      "outputs": [
        {
          "output_type": "execute_result",
          "data": {
            "text/plain": [
              "<matplotlib.axes._subplots.AxesSubplot at 0x7f1b7d504ed0>"
            ]
          },
          "metadata": {
            "tags": []
          },
          "execution_count": 57
        },
        {
          "output_type": "display_data",
          "data": {
            "image/png": "[encoded data removed]",
            "text/plain": [
              "<Figure size 432x288 with 1 Axes>"
            ]
          },
          "metadata": {
            "tags": [],
            "needs_background": "light"
          }
        }
      ]
    },
    {
      "cell_type": "code",
      "metadata": {
        "id": "fPDZPculrLWB",
        "colab": {
          "base_uri": "https://localhost:8080/"
        },
        "outputId": "7d063b5d-8cfc-4690-cc32-be294c379a60"
      },
      "source": [
        "lower7, upper7 = check_outliers(df_2019['Social support'])\n",
        "print(f'lower = {lower7}, upper={upper7}')"
      ],
      "execution_count": null,
      "outputs": [
        {
          "output_type": "stream",
          "text": [
            "lower = 0.46062500000000006, upper=2.047625\n"
          ],
          "name": "stdout"
        }
      ]
    },
    {
      "cell_type": "code",
      "metadata": {
        "id": "7mROVJ9nras4",
        "colab": {
          "base_uri": "https://localhost:8080/"
        },
        "outputId": "44b73c73-8a25-4c14-a261-37099a4a9766"
      },
      "source": [
        "mask_upper7 = df_2018['Social support']>upper7\n",
        "mask_upper7.sum()\n",
        "#no upper outliers"
      ],
      "execution_count": null,
      "outputs": [
        {
          "output_type": "execute_result",
          "data": {
            "text/plain": [
              "0"
            ]
          },
          "metadata": {
            "tags": []
          },
          "execution_count": 59
        }
      ]
    },
    {
      "cell_type": "code",
      "metadata": {
        "id": "_fbuRq3zriUn",
        "colab": {
          "base_uri": "https://localhost:8080/"
        },
        "outputId": "689c294c-2193-4401-834f-3829408f6ab2"
      },
      "source": [
        "mask_lower7 = df_2019['Social support']<lower7\n",
        "mask_lower7.sum()\n",
        "#lower outliers"
      ],
      "execution_count": null,
      "outputs": [
        {
          "output_type": "execute_result",
          "data": {
            "text/plain": [
              "4"
            ]
          },
          "metadata": {
            "tags": []
          },
          "execution_count": 60
        }
      ]
    },
    {
      "cell_type": "code",
      "metadata": {
        "id": "4t2fVOWlrqmd"
      },
      "source": [
        "df_2019['Social support']=df_2019['Social support']\n",
        "for i in df_2019[mask_lower7].index:\n",
        "  df_2019.loc[i,'Social support']=lower7 # replace outliers"
      ],
      "execution_count": null,
      "outputs": []
    },
    {
      "cell_type": "code",
      "metadata": {
        "id": "SI0IBl9_r-en",
        "colab": {
          "base_uri": "https://localhost:8080/"
        },
        "outputId": "c5a84421-2816-428b-8311-16f657c4081d"
      },
      "source": [
        "df_2019['Social support'].plot.box(whis=1.5)\n",
        "#outliers removed"
      ],
      "execution_count": null,
      "outputs": [
        {
          "output_type": "execute_result",
          "data": {
            "text/plain": [
              "<matplotlib.axes._subplots.AxesSubplot at 0x7f1b7d740550>"
            ]
          },
          "metadata": {
            "tags": []
          },
          "execution_count": 62
        },
        {
          "output_type": "display_data",
          "data": {
            "image/png": "[encoded data removed]",
            "text/plain": [
              "<Figure size 432x288 with 1 Axes>"
            ]
          },
          "metadata": {
            "tags": [],
            "needs_background": "light"
          }
        }
      ]
    },
    {
      "cell_type": "code",
      "metadata": {
        "id": "yj45pJ4uQstI",
        "colab": {
          "base_uri": "https://localhost:8080/"
        },
        "outputId": "a0f409a2-426a-4680-c2b6-c5209ac27e37"
      },
      "source": [
        "df_2019['Healthy life expectancy'].describe()\n",
        "#represents ...\n",
        "#Type: Float64\n",
        "#% Missing Values: 0"
      ],
      "execution_count": null,
      "outputs": [
        {
          "output_type": "execute_result",
          "data": {
            "text/plain": [
              "count    156.000000\n",
              "mean       0.725244\n",
              "std        0.242124\n",
              "min        0.000000\n",
              "25%        0.547750\n",
              "50%        0.789000\n",
              "75%        0.881750\n",
              "max        1.141000\n",
              "Name: Healthy life expectancy, dtype: float64"
            ]
          },
          "metadata": {
            "tags": []
          },
          "execution_count": 63
        }
      ]
    },
    {
      "cell_type": "code",
      "metadata": {
        "id": "wWhiHOKtl2aH",
        "colab": {
          "base_uri": "https://localhost:8080/"
        },
        "outputId": "730c1c07-6ced-4c15-be28-1569dc443dd6"
      },
      "source": [
        "df_2019['Healthy life expectancy'].plot.box(whis=1.5)\n",
        "#OUTLIERS"
      ],
      "execution_count": null,
      "outputs": [
        {
          "output_type": "execute_result",
          "data": {
            "text/plain": [
              "<matplotlib.axes._subplots.AxesSubplot at 0x7f1b7d7ee090>"
            ]
          },
          "metadata": {
            "tags": []
          },
          "execution_count": 64
        },
        {
          "output_type": "display_data",
          "data": {
            "image/png": "[encoded data removed]",
            "text/plain": [
              "<Figure size 432x288 with 1 Axes>"
            ]
          },
          "metadata": {
            "tags": [],
            "needs_background": "light"
          }
        }
      ]
    },
    {
      "cell_type": "code",
      "metadata": {
        "id": "FxqFzBMgsUZ7",
        "colab": {
          "base_uri": "https://localhost:8080/"
        },
        "outputId": "b0a8d55e-3b11-4398-812a-dbf6f46c0041"
      },
      "source": [
        "lower8, upper8 = check_outliers(df_2019['Healthy life expectancy'])\n",
        "print(f'lower = {lower8}, upper={upper8}')"
      ],
      "execution_count": null,
      "outputs": [
        {
          "output_type": "stream",
          "text": [
            "lower = 0.04675000000000007, upper=1.3827499999999997\n"
          ],
          "name": "stdout"
        }
      ]
    },
    {
      "cell_type": "code",
      "metadata": {
        "id": "qKmoU7DGscfa",
        "colab": {
          "base_uri": "https://localhost:8080/"
        },
        "outputId": "e6dc6637-14b1-4023-8f16-00cd665524bd"
      },
      "source": [
        "mask_upper8 = df_2019['Healthy life expectancy']>upper8\n",
        "mask_upper8.sum()\n",
        "#no upper outliers"
      ],
      "execution_count": null,
      "outputs": [
        {
          "output_type": "execute_result",
          "data": {
            "text/plain": [
              "0"
            ]
          },
          "metadata": {
            "tags": []
          },
          "execution_count": 66
        }
      ]
    },
    {
      "cell_type": "code",
      "metadata": {
        "id": "plxVtl9ZsldO",
        "colab": {
          "base_uri": "https://localhost:8080/"
        },
        "outputId": "85660f75-429c-4463-acc9-8dc45f339cc1"
      },
      "source": [
        "mask_lower8 = df_2019['Healthy life expectancy']<lower8\n",
        "mask_lower8.sum()\n",
        "#lower outliers"
      ],
      "execution_count": null,
      "outputs": [
        {
          "output_type": "execute_result",
          "data": {
            "text/plain": [
              "1"
            ]
          },
          "metadata": {
            "tags": []
          },
          "execution_count": 67
        }
      ]
    },
    {
      "cell_type": "code",
      "metadata": {
        "id": "PFThF7IHssnZ"
      },
      "source": [
        "df_2019['Healthy life expectancy']=df_2019['Healthy life expectancy']\n",
        "for i in df_2019[mask_lower8].index:\n",
        "  df_2019.loc[i,'Healthy life expectancy']=lower8"
      ],
      "execution_count": null,
      "outputs": []
    },
    {
      "cell_type": "code",
      "metadata": {
        "id": "FxqQLCeFtOdH",
        "colab": {
          "base_uri": "https://localhost:8080/"
        },
        "outputId": "8197e6fb-e350-4c0a-db22-92f68d605bc6"
      },
      "source": [
        "df_2019['Healthy life expectancy'].plot.box(whis=1.5)\n",
        "#outliers removed"
      ],
      "execution_count": null,
      "outputs": [
        {
          "output_type": "execute_result",
          "data": {
            "text/plain": [
              "<matplotlib.axes._subplots.AxesSubplot at 0x7f1b7d3b8ed0>"
            ]
          },
          "metadata": {
            "tags": []
          },
          "execution_count": 69
        },
        {
          "output_type": "display_data",
          "data": {
            "image/png": "[encoded data removed]",
            "text/plain": [
              "<Figure size 432x288 with 1 Axes>"
            ]
          },
          "metadata": {
            "tags": [],
            "needs_background": "light"
          }
        }
      ]
    },
    {
      "cell_type": "code",
      "metadata": {
        "id": "XqrsbDNcQszY",
        "colab": {
          "base_uri": "https://localhost:8080/"
        },
        "outputId": "962d24ed-de13-4ead-fe36-de4433f18dae"
      },
      "source": [
        "df_2019['Agency'] = df_2019['Freedom to make life choices'] #renaming \n",
        "df_2019 = df_2019.drop(labels=['Freedom to make life choices'], axis=1) # drop duplicate\n",
        "df_2019['Agency'].describe()\n",
        "#represents ...\n",
        "#Type: Float64\n",
        "#% Missing Values: 0"
      ],
      "execution_count": null,
      "outputs": [
        {
          "output_type": "execute_result",
          "data": {
            "text/plain": [
              "count    156.000000\n",
              "mean       0.392571\n",
              "std        0.143289\n",
              "min        0.000000\n",
              "25%        0.308000\n",
              "50%        0.417000\n",
              "75%        0.507250\n",
              "max        0.631000\n",
              "Name: Agency, dtype: float64"
            ]
          },
          "metadata": {
            "tags": []
          },
          "execution_count": 70
        }
      ]
    },
    {
      "cell_type": "code",
      "metadata": {
        "colab": {
          "base_uri": "https://localhost:8080/"
        },
        "id": "BjbPkczhl-aN",
        "outputId": "f282103f-42f3-4e1a-e990-8dd62f9e6dcb"
      },
      "source": [
        "df_2019['Agency'].plot.box(whis=1.5)\n",
        "#OUTLIERS"
      ],
      "execution_count": null,
      "outputs": [
        {
          "output_type": "execute_result",
          "data": {
            "text/plain": [
              "<matplotlib.axes._subplots.AxesSubplot at 0x7f1b7d3a2790>"
            ]
          },
          "metadata": {
            "tags": []
          },
          "execution_count": 71
        },
        {
          "output_type": "display_data",
          "data": {
            "image/png": "[encoded data removed]",
            "text/plain": [
              "<Figure size 432x288 with 1 Axes>"
            ]
          },
          "metadata": {
            "tags": [],
            "needs_background": "light"
          }
        }
      ]
    },
    {
      "cell_type": "code",
      "metadata": {
        "colab": {
          "base_uri": "https://localhost:8080/"
        },
        "id": "l8Y8yizzuqhY",
        "outputId": "85d1291e-3174-41d7-e7c3-7cbdd3359445"
      },
      "source": [
        "lower9, upper9 = check_outliers(df_2019['Agency'])\n",
        "print(f'lower = {lower9}, upper={upper9}')"
      ],
      "execution_count": null,
      "outputs": [
        {
          "output_type": "stream",
          "text": [
            "lower = 0.009124999999999994, upper=0.806125\n"
          ],
          "name": "stdout"
        }
      ]
    },
    {
      "cell_type": "code",
      "metadata": {
        "colab": {
          "base_uri": "https://localhost:8080/"
        },
        "id": "lV-oj-miuwjk",
        "outputId": "e04575f5-9828-4d85-ed09-3ad99af950ef"
      },
      "source": [
        "mask_upper9 = df_2019['Agency']>upper9\n",
        "mask_upper9.sum()\n",
        "#no upper outliers"
      ],
      "execution_count": null,
      "outputs": [
        {
          "output_type": "execute_result",
          "data": {
            "text/plain": [
              "0"
            ]
          },
          "metadata": {
            "tags": []
          },
          "execution_count": 73
        }
      ]
    },
    {
      "cell_type": "code",
      "metadata": {
        "colab": {
          "base_uri": "https://localhost:8080/"
        },
        "id": "ut2gaH8bu2WW",
        "outputId": "814f2271-760f-4a22-e510-d2311a8290f3"
      },
      "source": [
        "mask_lower9 = df_2019['Agency']<lower9\n",
        "mask_lower9.sum()\n",
        "#lower outliers"
      ],
      "execution_count": null,
      "outputs": [
        {
          "output_type": "execute_result",
          "data": {
            "text/plain": [
              "1"
            ]
          },
          "metadata": {
            "tags": []
          },
          "execution_count": 74
        }
      ]
    },
    {
      "cell_type": "code",
      "metadata": {
        "id": "nJvDCNCLu9wi"
      },
      "source": [
        "df_2019['Agency']=df_2019['Agency']\n",
        "for i in df_2019[mask_lower9].index:\n",
        "  df_2019.loc[i,'Agency']=lower9 # replace outliers"
      ],
      "execution_count": null,
      "outputs": []
    },
    {
      "cell_type": "code",
      "metadata": {
        "colab": {
          "base_uri": "https://localhost:8080/"
        },
        "id": "6YA0ZneRvUJd",
        "outputId": "b3856f5c-b97d-43a0-f157-f1edfff6879d"
      },
      "source": [
        "df_2019['Agency'].plot.box(whis=1.5)\n",
        "#OUTLIERS removed"
      ],
      "execution_count": null,
      "outputs": [
        {
          "output_type": "execute_result",
          "data": {
            "text/plain": [
              "<matplotlib.axes._subplots.AxesSubplot at 0x7f1b7d323710>"
            ]
          },
          "metadata": {
            "tags": []
          },
          "execution_count": 76
        },
        {
          "output_type": "display_data",
          "data": {
            "image/png": "[encoded data removed]",
            "text/plain": [
              "<Figure size 432x288 with 1 Axes>"
            ]
          },
          "metadata": {
            "tags": [],
            "needs_background": "light"
          }
        }
      ]
    },
    {
      "cell_type": "code",
      "metadata": {
        "colab": {
          "base_uri": "https://localhost:8080/"
        },
        "id": "AIPOK9rGQs5x",
        "outputId": "a3ae2353-7bc1-45b6-df70-23557c5d1a57"
      },
      "source": [
        "df_2019['Generosity'].describe()\n",
        "#represents ...\n",
        "#Type: Float64\n",
        "#% Missing Values: 0"
      ],
      "execution_count": null,
      "outputs": [
        {
          "output_type": "execute_result",
          "data": {
            "text/plain": [
              "count    156.000000\n",
              "mean       0.184846\n",
              "std        0.095254\n",
              "min        0.000000\n",
              "25%        0.108750\n",
              "50%        0.177500\n",
              "75%        0.248250\n",
              "max        0.566000\n",
              "Name: Generosity, dtype: float64"
            ]
          },
          "metadata": {
            "tags": []
          },
          "execution_count": 77
        }
      ]
    },
    {
      "cell_type": "code",
      "metadata": {
        "colab": {
          "base_uri": "https://localhost:8080/"
        },
        "id": "m7JP69uxmCqg",
        "outputId": "8f8ce6e3-8b09-409c-d86a-f81660619c74"
      },
      "source": [
        "df_2019['Generosity'].plot.box(whis=1.5)\n",
        "#OUTLIERS"
      ],
      "execution_count": null,
      "outputs": [
        {
          "output_type": "execute_result",
          "data": {
            "text/plain": [
              "<matplotlib.axes._subplots.AxesSubplot at 0x7f1b7d3f0dd0>"
            ]
          },
          "metadata": {
            "tags": []
          },
          "execution_count": 78
        },
        {
          "output_type": "display_data",
          "data": {
            "image/png": "[encoded data removed]",
            "text/plain": [
              "<Figure size 432x288 with 1 Axes>"
            ]
          },
          "metadata": {
            "tags": [],
            "needs_background": "light"
          }
        }
      ]
    },
    {
      "cell_type": "code",
      "metadata": {
        "colab": {
          "base_uri": "https://localhost:8080/"
        },
        "id": "bVv9ap7DvkZh",
        "outputId": "6dac3810-0c2e-40a7-e884-d5043de66d2d"
      },
      "source": [
        "lower10, upper10 = check_outliers(df_2019['Generosity'])\n",
        "print(f'lower = {lower10}, upper={upper10}')"
      ],
      "execution_count": null,
      "outputs": [
        {
          "output_type": "stream",
          "text": [
            "lower = -0.10049999999999998, upper=0.4575\n"
          ],
          "name": "stdout"
        }
      ]
    },
    {
      "cell_type": "code",
      "metadata": {
        "colab": {
          "base_uri": "https://localhost:8080/"
        },
        "id": "3UxTtCR3vpv8",
        "outputId": "c502cd7d-51ca-40d3-96b9-14c9fe10e01c"
      },
      "source": [
        "mask_upper10 = df_2019['Generosity']>upper10\n",
        "mask_upper10.sum()\n",
        "#upper outliers"
      ],
      "execution_count": null,
      "outputs": [
        {
          "output_type": "execute_result",
          "data": {
            "text/plain": [
              "2"
            ]
          },
          "metadata": {
            "tags": []
          },
          "execution_count": 80
        }
      ]
    },
    {
      "cell_type": "code",
      "metadata": {
        "colab": {
          "base_uri": "https://localhost:8080/"
        },
        "id": "51a0wftzvxLB",
        "outputId": "809deb30-5dc7-4e7f-a9f8-63b1f1f6d0ef"
      },
      "source": [
        "mask_lower10 = df_2019['Generosity']<lower10\n",
        "mask_lower10.sum()\n",
        "#no lower outliers"
      ],
      "execution_count": null,
      "outputs": [
        {
          "output_type": "execute_result",
          "data": {
            "text/plain": [
              "0"
            ]
          },
          "metadata": {
            "tags": []
          },
          "execution_count": 81
        }
      ]
    },
    {
      "cell_type": "code",
      "metadata": {
        "id": "0rhYtfs8v278"
      },
      "source": [
        "df_2019['Generosity']=df_2019['Generosity']\n",
        "for i in df_2019[mask_upper10].index:\n",
        "  df_2019.loc[i,'Generosity']=upper10"
      ],
      "execution_count": null,
      "outputs": []
    },
    {
      "cell_type": "code",
      "metadata": {
        "colab": {
          "base_uri": "https://localhost:8080/"
        },
        "id": "P0qV2w7hwAHc",
        "outputId": "57b6652d-17bb-465a-9c72-896c3b218f62"
      },
      "source": [
        "df_2019['Generosity'].plot.box(whis=1.5)\n",
        "#Outliers removed"
      ],
      "execution_count": null,
      "outputs": [
        {
          "output_type": "execute_result",
          "data": {
            "text/plain": [
              "<matplotlib.axes._subplots.AxesSubplot at 0x7f1b7d1fea50>"
            ]
          },
          "metadata": {
            "tags": []
          },
          "execution_count": 83
        },
        {
          "output_type": "display_data",
          "data": {
            "image/png": "[encoded data removed]",
            "text/plain": [
              "<Figure size 432x288 with 1 Axes>"
            ]
          },
          "metadata": {
            "tags": [],
            "needs_background": "light"
          }
        }
      ]
    },
    {
      "cell_type": "code",
      "metadata": {
        "colab": {
          "base_uri": "https://localhost:8080/"
        },
        "id": "GC3cdO1YQtFd",
        "outputId": "2ede53a0-d260-4bfb-ef20-9519ca187dc2"
      },
      "source": [
        "df_2019['Perceptions of corruption'].describe()\n",
        "#represents ...\n",
        "#Type: Float64\n",
        "#% Missing Values: 0"
      ],
      "execution_count": null,
      "outputs": [
        {
          "output_type": "execute_result",
          "data": {
            "text/plain": [
              "count    156.000000\n",
              "mean       0.110603\n",
              "std        0.094538\n",
              "min        0.000000\n",
              "25%        0.047000\n",
              "50%        0.085500\n",
              "75%        0.141250\n",
              "max        0.453000\n",
              "Name: Perceptions of corruption, dtype: float64"
            ]
          },
          "metadata": {
            "tags": []
          },
          "execution_count": 84
        }
      ]
    },
    {
      "cell_type": "code",
      "metadata": {
        "id": "FtyksBkRmH7b",
        "colab": {
          "base_uri": "https://localhost:8080/"
        },
        "outputId": "5bec78a2-c16d-4e80-dc56-3344630cd9ba"
      },
      "source": [
        "df_2019['Perceptions of corruption'].plot.box(whis=1.5)\n",
        "#Many upper Outliers\n",
        "\n",
        "\n",
        "mask_upper11 = df_2019['Perceptions of corruption']>upper10\n",
        "mask_upper11.sum()\n",
        "\n",
        "mask_lower11 = df_2019['Perceptions of corruption']<lower10\n",
        "mask_lower11.sum()\n",
        "\n",
        "lower11, upper11 = check_outliers(df_2019['Perceptions of corruption'])\n",
        "print(f'lower = {lower11}, upper={upper11}')\n",
        "\n",
        "mask_upper11 = df_2019['Perceptions of corruption']>upper11\n",
        "print(f'{mask_upper11.sum()} Upper outliers')\n",
        "#14 upper outliers\n",
        "\n",
        "mask_lower11 = df_2019['Perceptions of corruption']<lower11\n",
        "print(f'{mask_lower11.sum()} Lower outliers')\n",
        "#no lower outliers"
      ],
      "execution_count": null,
      "outputs": [
        {
          "output_type": "stream",
          "text": [
            "lower = -0.09437499999999997, upper=0.28262499999999996\n",
            "14 Upper outliers\n",
            "0 Lower outliers\n"
          ],
          "name": "stdout"
        },
        {
          "output_type": "display_data",
          "data": {
            "image/png": "[encoded data removed]",
            "text/plain": [
              "<Figure size 432x288 with 1 Axes>"
            ]
          },
          "metadata": {
            "tags": [],
            "needs_background": "light"
          }
        }
      ]
    },
    {
      "cell_type": "code",
      "metadata": {
        "id": "vnLR3A39EGJa",
        "colab": {
          "base_uri": "https://localhost:8080/"
        },
        "outputId": "f9b2966a-fc88-4ba6-f448-324752dbd652"
      },
      "source": [
        "df_2019['Population'].describe()\n",
        "#represents population of each country in the thousands\n",
        "#type: float64\n",
        "# missing values = 156-134 = 22 missing"
      ],
      "execution_count": null,
      "outputs": [
        {
          "output_type": "execute_result",
          "data": {
            "text/plain": [
              "count    1.340000e+02\n",
              "mean     4.898463e+04\n",
              "std      1.729597e+05\n",
              "min      3.390000e+02\n",
              "25%      4.895750e+03\n",
              "50%      1.116250e+04\n",
              "75%      3.286400e+04\n",
              "max      1.433784e+06\n",
              "Name: Population, dtype: float64"
            ]
          },
          "metadata": {
            "tags": []
          },
          "execution_count": 86
        }
      ]
    },
    {
      "cell_type": "code",
      "metadata": {
        "id": "PqgVWYCiEJMD",
        "colab": {
          "base_uri": "https://localhost:8080/"
        },
        "outputId": "8355e6ea-33f6-4650-e49e-c484872e11d4"
      },
      "source": [
        "df_2019['Population'].plot.box(whis=1.5)\n",
        "#OUTLIERS"
      ],
      "execution_count": null,
      "outputs": [
        {
          "output_type": "execute_result",
          "data": {
            "text/plain": [
              "<matplotlib.axes._subplots.AxesSubplot at 0x7f1b7d1a1bd0>"
            ]
          },
          "metadata": {
            "tags": []
          },
          "execution_count": 87
        },
        {
          "output_type": "display_data",
          "data": {
            "image/png": "[encoded data removed]",
            "text/plain": [
              "<Figure size 432x288 with 1 Axes>"
            ]
          },
          "metadata": {
            "tags": [],
            "needs_background": "light"
          }
        }
      ]
    },
    {
      "cell_type": "code",
      "metadata": {
        "id": "qTkDuJtyEMrr",
        "colab": {
          "base_uri": "https://localhost:8080/"
        },
        "outputId": "15d9a24f-d257-4c5e-a0fd-de3f0663e900"
      },
      "source": [
        "lower12, upper12 = check_outliers(df_2019['Population'])\n",
        "print(f'lower = {lower12}, upper={upper12}')\n",
        "\n",
        "mask_upper12 = df_2019['Population']>upper12\n",
        "print(f'{mask_upper12.sum()} Upper outliers')\n",
        "#14 upper outliers\n",
        "\n",
        "mask_lower12 = df_2019['Population']<lower12\n",
        "print(f'{mask_lower12.sum()} Lower outliers')\n",
        "#no lower outliers"
      ],
      "execution_count": null,
      "outputs": [
        {
          "output_type": "stream",
          "text": [
            "lower = -37056.625, upper=74816.375\n",
            "14 Upper outliers\n",
            "0 Lower outliers\n"
          ],
          "name": "stdout"
        }
      ]
    },
    {
      "cell_type": "code",
      "metadata": {
        "id": "lZaH7olBEM_2",
        "colab": {
          "base_uri": "https://localhost:8080/"
        },
        "outputId": "e00080dc-0310-448d-9e62-5422bebc1fa2"
      },
      "source": [
        "df_2019['Population']=df_2019['Population'] # Create duplicate column\n",
        "for i in df_2019[mask_upper12].index: \n",
        "  df_2019.loc[i,'Population']=upper12  # replace upper outliers\n",
        "for i in df_2019[mask_lower12].index:\n",
        "  df_2019.loc[i,'Population']=lower12 # replace lower outliers\n",
        "\n",
        "df_2019['Population'].plot.box(whis=1.5)\n",
        "#Outliers removed"
      ],
      "execution_count": null,
      "outputs": [
        {
          "output_type": "execute_result",
          "data": {
            "text/plain": [
              "<matplotlib.axes._subplots.AxesSubplot at 0x7f1b854dd0d0>"
            ]
          },
          "metadata": {
            "tags": []
          },
          "execution_count": 89
        },
        {
          "output_type": "display_data",
          "data": {
            "image/png": "[encoded data removed]",
            "text/plain": [
              "<Figure size 432x288 with 1 Axes>"
            ]
          },
          "metadata": {
            "tags": [],
            "needs_background": "light"
          }
        }
      ]
    },
    {
      "cell_type": "markdown",
      "metadata": {
        "id": "xJSADXNy3mmV"
      },
      "source": [
        "Creat Bins for Score"
      ]
    },
    {
      "cell_type": "code",
      "metadata": {
        "id": "W47gYLTff1qD",
        "colab": {
          "base_uri": "https://localhost:8080/"
        },
        "outputId": "e65aa893-5420-4a07-eff6-10c8942b6dc2"
      },
      "source": [
        "#Binning by width here\n",
        "df_2018['Score'].plot.hist(bins=20)\n",
        "# groups from 3-4, 4-5, 5-6.5, 6.5-7.5"
      ],
      "execution_count": null,
      "outputs": [
        {
          "output_type": "execute_result",
          "data": {
            "text/plain": [
              "<matplotlib.axes._subplots.AxesSubplot at 0x7f1b7d088750>"
            ]
          },
          "metadata": {
            "tags": []
          },
          "execution_count": 90
        },
        {
          "output_type": "display_data",
          "data": {
            "image/png": "[encoded data removed]",
            "text/plain": [
              "<Figure size 432x288 with 1 Axes>"
            ]
          },
          "metadata": {
            "tags": [],
            "needs_background": "light"
          }
        }
      ]
    },
    {
      "cell_type": "code",
      "metadata": {
        "id": "DOmRgINff6TI",
        "colab": {
          "base_uri": "https://localhost:8080/"
        },
        "outputId": "2590d688-1ea4-41d5-c762-a32b86ce45f5"
      },
      "source": [
        "df_2019['Score'].plot.hist(bins=20)"
      ],
      "execution_count": null,
      "outputs": [
        {
          "output_type": "execute_result",
          "data": {
            "text/plain": [
              "<matplotlib.axes._subplots.AxesSubplot at 0x7f1b7cf7aa50>"
            ]
          },
          "metadata": {
            "tags": []
          },
          "execution_count": 91
        },
        {
          "output_type": "display_data",
          "data": {
            "image/png": "[encoded data removed]",
            "text/plain": [
              "<Figure size 432x288 with 1 Axes>"
            ]
          },
          "metadata": {
            "tags": [],
            "needs_background": "light"
          }
        }
      ]
    },
    {
      "cell_type": "code",
      "metadata": {
        "id": "lBzVz5XSgPUO",
        "colab": {
          "base_uri": "https://localhost:8080/"
        },
        "outputId": "52c81e06-bd87-4f4c-dbea-1ba8b0fb6314"
      },
      "source": [
        "df = pd.merge(df_2018, df_2019[['Country or region','Score','GDP per capita','Social support','Healthy life expectancy','Agency', 'Generosity','Perceptions of corruption', 'Population']], left_on='Country or region',right_on='Country or region',how='left') #merge columns\n",
        "df = df.drop(['Overall rank', 'Country or region'], axis=1)\n",
        "df.info()"
      ],
      "execution_count": null,
      "outputs": [
        {
          "output_type": "stream",
          "text": [
            "<class 'pandas.core.frame.DataFrame'>\n",
            "Int64Index: 156 entries, 0 to 155\n",
            "Data columns (total 16 columns):\n",
            " #   Column                       Non-Null Count  Dtype  \n",
            "---  ------                       --------------  -----  \n",
            " 0   Score_x                      156 non-null    float64\n",
            " 1   GDP per capita_x             156 non-null    float64\n",
            " 2   Social support_x             156 non-null    float64\n",
            " 3   Healthy life expectancy_x    156 non-null    float64\n",
            " 4   Generosity_x                 156 non-null    float64\n",
            " 5   Perceptions of corruption_x  155 non-null    float64\n",
            " 6   Population_x                 134 non-null    float64\n",
            " 7   Agency_x                     156 non-null    float64\n",
            " 8   Score_y                      152 non-null    float64\n",
            " 9   GDP per capita_y             152 non-null    float64\n",
            " 10  Social support_y             152 non-null    float64\n",
            " 11  Healthy life expectancy_y    152 non-null    float64\n",
            " 12  Agency_y                     152 non-null    float64\n",
            " 13  Generosity_y                 152 non-null    float64\n",
            " 14  Perceptions of corruption_y  152 non-null    float64\n",
            " 15  Population_y                 131 non-null    float64\n",
            "dtypes: float64(16)\n",
            "memory usage: 20.7 KB\n"
          ],
          "name": "stdout"
        }
      ]
    },
    {
      "cell_type": "code",
      "metadata": {
        "id": "D8hgnfQljmHw",
        "colab": {
          "base_uri": "https://localhost:8080/"
        },
        "outputId": "4cea500a-77c9-4ada-fd2b-61f1201f7a2f"
      },
      "source": [
        "df['∆Score'] = df['Score_x']-df['Score_y']\n",
        "df['∆Score'].plot.hist(bins=20)"
      ],
      "execution_count": null,
      "outputs": [
        {
          "output_type": "execute_result",
          "data": {
            "text/plain": [
              "<matplotlib.axes._subplots.AxesSubplot at 0x7f1b7cf017d0>"
            ]
          },
          "metadata": {
            "tags": []
          },
          "execution_count": 93
        },
        {
          "output_type": "display_data",
          "data": {
            "image/png": "[encoded data removed]",
            "text/plain": [
              "<Figure size 432x288 with 1 Axes>"
            ]
          },
          "metadata": {
            "tags": [],
            "needs_background": "light"
          }
        }
      ]
    },
    {
      "cell_type": "code",
      "metadata": {
        "id": "7vQ4Eevb3l27",
        "colab": {
          "base_uri": "https://localhost:8080/"
        },
        "outputId": "e959210f-1ab3-4a83-e7a6-411cbe42def1"
      },
      "source": [
        "df_2018['Score_bin'] = pd.qcut(df_2018['Score'],4) # equal frequency bins\n",
        "df_2018['Score_bin'].describe()"
      ],
      "execution_count": null,
      "outputs": [
        {
          "output_type": "execute_result",
          "data": {
            "text/plain": [
              "count                156\n",
              "unique                 4\n",
              "top       (6.168, 7.632]\n",
              "freq                  39\n",
              "Name: Score_bin, dtype: object"
            ]
          },
          "metadata": {
            "tags": []
          },
          "execution_count": 94
        }
      ]
    },
    {
      "cell_type": "code",
      "metadata": {
        "id": "zz8hkf8urCH6",
        "colab": {
          "base_uri": "https://localhost:8080/"
        },
        "outputId": "cc216da4-47fc-410c-aee1-2e5badd7ab5b"
      },
      "source": [
        "df_2019['Score_bin'] = pd.qcut(df_2019['Score'],4) # equal frequency bins\n",
        "df_2019['Score_bin'].describe()"
      ],
      "execution_count": null,
      "outputs": [
        {
          "output_type": "execute_result",
          "data": {
            "text/plain": [
              "count                156\n",
              "unique                 4\n",
              "top       (6.184, 7.769]\n",
              "freq                  39\n",
              "Name: Score_bin, dtype: object"
            ]
          },
          "metadata": {
            "tags": []
          },
          "execution_count": 95
        }
      ]
    },
    {
      "cell_type": "markdown",
      "metadata": {
        "id": "K2HBhOe7pX68"
      },
      "source": [
        "Fill missing values for Population"
      ]
    },
    {
      "cell_type": "code",
      "metadata": {
        "id": "0gtyi6_XpbWb",
        "colab": {
          "base_uri": "https://localhost:8080/"
        },
        "outputId": "cd4a8284-0a1d-4be2-864d-382f6dd719b9"
      },
      "source": [
        "df_2018['smooth_pop_bin_mean']=df_2018.groupby('Score_bin')['Population'].transform(replace_with_bin_mean) # find mean of each bin\n",
        "df_2018.head()"
      ],
      "execution_count": null,
      "outputs": [
        {
          "output_type": "execute_result",
          "data": {
            "text/html": [
              "<div>\n",
              "<style scoped>\n",
              "    .dataframe tbody tr th:only-of-type {\n",
              "        vertical-align: middle;\n",
              "    }\n",
              "\n",
              "    .dataframe tbody tr th {\n",
              "        vertical-align: top;\n",
              "    }\n",
              "\n",
              "    .dataframe thead th {\n",
              "        text-align: right;\n",
              "    }\n",
              "</style>\n",
              "<table border=\"1\" class=\"dataframe\">\n",
              "  <thead>\n",
              "    <tr style=\"text-align: right;\">\n",
              "      <th></th>\n",
              "      <th>Overall rank</th>\n",
              "      <th>Country or region</th>\n",
              "      <th>Score</th>\n",
              "      <th>GDP per capita</th>\n",
              "      <th>Social support</th>\n",
              "      <th>Healthy life expectancy</th>\n",
              "      <th>Generosity</th>\n",
              "      <th>Perceptions of corruption</th>\n",
              "      <th>Population</th>\n",
              "      <th>Agency</th>\n",
              "      <th>Score_bin</th>\n",
              "      <th>smooth_pop_bin_mean</th>\n",
              "    </tr>\n",
              "  </thead>\n",
              "  <tbody>\n",
              "    <tr>\n",
              "      <th>0</th>\n",
              "      <td>1</td>\n",
              "      <td>Finland</td>\n",
              "      <td>7.632</td>\n",
              "      <td>1.305</td>\n",
              "      <td>1.592</td>\n",
              "      <td>0.874</td>\n",
              "      <td>0.202</td>\n",
              "      <td>0.393</td>\n",
              "      <td>5523.0</td>\n",
              "      <td>0.681</td>\n",
              "      <td>(6.168, 7.632]</td>\n",
              "      <td>22621.171429</td>\n",
              "    </tr>\n",
              "    <tr>\n",
              "      <th>1</th>\n",
              "      <td>2</td>\n",
              "      <td>Norway</td>\n",
              "      <td>7.594</td>\n",
              "      <td>1.456</td>\n",
              "      <td>1.582</td>\n",
              "      <td>0.861</td>\n",
              "      <td>0.286</td>\n",
              "      <td>0.340</td>\n",
              "      <td>5338.0</td>\n",
              "      <td>0.686</td>\n",
              "      <td>(6.168, 7.632]</td>\n",
              "      <td>22621.171429</td>\n",
              "    </tr>\n",
              "    <tr>\n",
              "      <th>2</th>\n",
              "      <td>3</td>\n",
              "      <td>Denmark</td>\n",
              "      <td>7.555</td>\n",
              "      <td>1.351</td>\n",
              "      <td>1.590</td>\n",
              "      <td>0.868</td>\n",
              "      <td>0.284</td>\n",
              "      <td>0.408</td>\n",
              "      <td>5752.0</td>\n",
              "      <td>0.683</td>\n",
              "      <td>(6.168, 7.632]</td>\n",
              "      <td>22621.171429</td>\n",
              "    </tr>\n",
              "    <tr>\n",
              "      <th>3</th>\n",
              "      <td>4</td>\n",
              "      <td>Iceland</td>\n",
              "      <td>7.495</td>\n",
              "      <td>1.343</td>\n",
              "      <td>1.644</td>\n",
              "      <td>0.914</td>\n",
              "      <td>0.353</td>\n",
              "      <td>0.138</td>\n",
              "      <td>337.0</td>\n",
              "      <td>0.677</td>\n",
              "      <td>(6.168, 7.632]</td>\n",
              "      <td>22621.171429</td>\n",
              "    </tr>\n",
              "    <tr>\n",
              "      <th>4</th>\n",
              "      <td>5</td>\n",
              "      <td>Switzerland</td>\n",
              "      <td>7.487</td>\n",
              "      <td>1.420</td>\n",
              "      <td>1.549</td>\n",
              "      <td>0.927</td>\n",
              "      <td>0.256</td>\n",
              "      <td>0.357</td>\n",
              "      <td>8526.0</td>\n",
              "      <td>0.660</td>\n",
              "      <td>(6.168, 7.632]</td>\n",
              "      <td>22621.171429</td>\n",
              "    </tr>\n",
              "  </tbody>\n",
              "</table>\n",
              "</div>"
            ],
            "text/plain": [
              "   Overall rank Country or region  ...       Score_bin  smooth_pop_bin_mean\n",
              "0             1           Finland  ...  (6.168, 7.632]         22621.171429\n",
              "1             2            Norway  ...  (6.168, 7.632]         22621.171429\n",
              "2             3           Denmark  ...  (6.168, 7.632]         22621.171429\n",
              "3             4           Iceland  ...  (6.168, 7.632]         22621.171429\n",
              "4             5       Switzerland  ...  (6.168, 7.632]         22621.171429\n",
              "\n",
              "[5 rows x 12 columns]"
            ]
          },
          "metadata": {
            "tags": []
          },
          "execution_count": 96
        }
      ]
    },
    {
      "cell_type": "code",
      "metadata": {
        "id": "oQD1v0yVpcII",
        "colab": {
          "base_uri": "https://localhost:8080/"
        },
        "outputId": "69f4e783-4b99-48e4-f82c-e84cf36e692d"
      },
      "source": [
        "mask_NullPop = pd.isnull(df_2018['Population'])\n",
        "#mask_NullPop.sum()\n",
        "df_2018[mask_NullPop] #show rows with null population, so they can be filled in "
      ],
      "execution_count": null,
      "outputs": [
        {
          "output_type": "execute_result",
          "data": {
            "text/html": [
              "<div>\n",
              "<style scoped>\n",
              "    .dataframe tbody tr th:only-of-type {\n",
              "        vertical-align: middle;\n",
              "    }\n",
              "\n",
              "    .dataframe tbody tr th {\n",
              "        vertical-align: top;\n",
              "    }\n",
              "\n",
              "    .dataframe thead th {\n",
              "        text-align: right;\n",
              "    }\n",
              "</style>\n",
              "<table border=\"1\" class=\"dataframe\">\n",
              "  <thead>\n",
              "    <tr style=\"text-align: right;\">\n",
              "      <th></th>\n",
              "      <th>Overall rank</th>\n",
              "      <th>Country or region</th>\n",
              "      <th>Score</th>\n",
              "      <th>GDP per capita</th>\n",
              "      <th>Social support</th>\n",
              "      <th>Healthy life expectancy</th>\n",
              "      <th>Generosity</th>\n",
              "      <th>Perceptions of corruption</th>\n",
              "      <th>Population</th>\n",
              "      <th>Agency</th>\n",
              "      <th>Score_bin</th>\n",
              "      <th>smooth_pop_bin_mean</th>\n",
              "    </tr>\n",
              "  </thead>\n",
              "  <tbody>\n",
              "    <tr>\n",
              "      <th>17</th>\n",
              "      <td>18</td>\n",
              "      <td>United States</td>\n",
              "      <td>6.886</td>\n",
              "      <td>1.398</td>\n",
              "      <td>1.471000</td>\n",
              "      <td>0.819</td>\n",
              "      <td>0.291</td>\n",
              "      <td>0.133</td>\n",
              "      <td>NaN</td>\n",
              "      <td>0.547</td>\n",
              "      <td>(6.168, 7.632]</td>\n",
              "      <td>22621.171429</td>\n",
              "    </tr>\n",
              "    <tr>\n",
              "      <th>20</th>\n",
              "      <td>21</td>\n",
              "      <td>Czech Republic</td>\n",
              "      <td>6.711</td>\n",
              "      <td>1.233</td>\n",
              "      <td>1.489000</td>\n",
              "      <td>0.854</td>\n",
              "      <td>0.064</td>\n",
              "      <td>0.034</td>\n",
              "      <td>NaN</td>\n",
              "      <td>0.543</td>\n",
              "      <td>(6.168, 7.632]</td>\n",
              "      <td>22621.171429</td>\n",
              "    </tr>\n",
              "    <tr>\n",
              "      <th>25</th>\n",
              "      <td>26</td>\n",
              "      <td>Taiwan</td>\n",
              "      <td>6.441</td>\n",
              "      <td>1.365</td>\n",
              "      <td>1.436000</td>\n",
              "      <td>0.857</td>\n",
              "      <td>0.151</td>\n",
              "      <td>0.078</td>\n",
              "      <td>NaN</td>\n",
              "      <td>0.418</td>\n",
              "      <td>(6.168, 7.632]</td>\n",
              "      <td>22621.171429</td>\n",
              "    </tr>\n",
              "    <tr>\n",
              "      <th>37</th>\n",
              "      <td>38</td>\n",
              "      <td>Trinidad &amp; Tobago</td>\n",
              "      <td>6.192</td>\n",
              "      <td>1.223</td>\n",
              "      <td>1.492000</td>\n",
              "      <td>0.564</td>\n",
              "      <td>0.171</td>\n",
              "      <td>0.019</td>\n",
              "      <td>NaN</td>\n",
              "      <td>0.575</td>\n",
              "      <td>(6.168, 7.632]</td>\n",
              "      <td>22621.171429</td>\n",
              "    </tr>\n",
              "    <tr>\n",
              "      <th>56</th>\n",
              "      <td>57</td>\n",
              "      <td>South Korea</td>\n",
              "      <td>5.875</td>\n",
              "      <td>1.266</td>\n",
              "      <td>1.204000</td>\n",
              "      <td>0.955</td>\n",
              "      <td>0.175</td>\n",
              "      <td>0.051</td>\n",
              "      <td>NaN</td>\n",
              "      <td>0.244</td>\n",
              "      <td>(5.378, 6.168]</td>\n",
              "      <td>21581.343750</td>\n",
              "    </tr>\n",
              "    <tr>\n",
              "      <th>57</th>\n",
              "      <td>58</td>\n",
              "      <td>Northern Cyprus</td>\n",
              "      <td>5.835</td>\n",
              "      <td>1.229</td>\n",
              "      <td>1.211000</td>\n",
              "      <td>0.909</td>\n",
              "      <td>0.179</td>\n",
              "      <td>0.154</td>\n",
              "      <td>NaN</td>\n",
              "      <td>0.495</td>\n",
              "      <td>(5.378, 6.168]</td>\n",
              "      <td>21581.343750</td>\n",
              "    </tr>\n",
              "    <tr>\n",
              "      <th>58</th>\n",
              "      <td>59</td>\n",
              "      <td>Russia</td>\n",
              "      <td>5.810</td>\n",
              "      <td>1.151</td>\n",
              "      <td>1.479000</td>\n",
              "      <td>0.599</td>\n",
              "      <td>0.065</td>\n",
              "      <td>0.025</td>\n",
              "      <td>NaN</td>\n",
              "      <td>0.399</td>\n",
              "      <td>(5.378, 6.168]</td>\n",
              "      <td>21581.343750</td>\n",
              "    </tr>\n",
              "    <tr>\n",
              "      <th>61</th>\n",
              "      <td>62</td>\n",
              "      <td>Bolivia</td>\n",
              "      <td>5.752</td>\n",
              "      <td>0.751</td>\n",
              "      <td>1.223000</td>\n",
              "      <td>0.508</td>\n",
              "      <td>0.141</td>\n",
              "      <td>0.054</td>\n",
              "      <td>NaN</td>\n",
              "      <td>0.606</td>\n",
              "      <td>(5.378, 6.168]</td>\n",
              "      <td>21581.343750</td>\n",
              "    </tr>\n",
              "    <tr>\n",
              "      <th>65</th>\n",
              "      <td>66</td>\n",
              "      <td>Kosovo</td>\n",
              "      <td>5.662</td>\n",
              "      <td>0.855</td>\n",
              "      <td>1.230000</td>\n",
              "      <td>0.578</td>\n",
              "      <td>0.274</td>\n",
              "      <td>0.023</td>\n",
              "      <td>NaN</td>\n",
              "      <td>0.448</td>\n",
              "      <td>(5.378, 6.168]</td>\n",
              "      <td>21581.343750</td>\n",
              "    </tr>\n",
              "    <tr>\n",
              "      <th>66</th>\n",
              "      <td>67</td>\n",
              "      <td>Moldova</td>\n",
              "      <td>5.640</td>\n",
              "      <td>0.657</td>\n",
              "      <td>1.301000</td>\n",
              "      <td>0.620</td>\n",
              "      <td>0.171</td>\n",
              "      <td>0.000</td>\n",
              "      <td>NaN</td>\n",
              "      <td>0.232</td>\n",
              "      <td>(5.378, 6.168]</td>\n",
              "      <td>21581.343750</td>\n",
              "    </tr>\n",
              "    <tr>\n",
              "      <th>75</th>\n",
              "      <td>76</td>\n",
              "      <td>Hong Kong</td>\n",
              "      <td>5.430</td>\n",
              "      <td>1.405</td>\n",
              "      <td>1.290000</td>\n",
              "      <td>1.030</td>\n",
              "      <td>0.246</td>\n",
              "      <td>0.291</td>\n",
              "      <td>NaN</td>\n",
              "      <td>0.524</td>\n",
              "      <td>(5.378, 6.168]</td>\n",
              "      <td>21581.343750</td>\n",
              "    </tr>\n",
              "    <tr>\n",
              "      <th>88</th>\n",
              "      <td>89</td>\n",
              "      <td>Macedonia</td>\n",
              "      <td>5.185</td>\n",
              "      <td>0.959</td>\n",
              "      <td>1.239000</td>\n",
              "      <td>0.691</td>\n",
              "      <td>0.173</td>\n",
              "      <td>0.052</td>\n",
              "      <td>NaN</td>\n",
              "      <td>0.394</td>\n",
              "      <td>(4.454, 5.378]</td>\n",
              "      <td>23217.516129</td>\n",
              "    </tr>\n",
              "    <tr>\n",
              "      <th>94</th>\n",
              "      <td>95</td>\n",
              "      <td>Vietnam</td>\n",
              "      <td>5.103</td>\n",
              "      <td>0.715</td>\n",
              "      <td>1.365000</td>\n",
              "      <td>0.702</td>\n",
              "      <td>0.177</td>\n",
              "      <td>0.079</td>\n",
              "      <td>NaN</td>\n",
              "      <td>0.618</td>\n",
              "      <td>(4.454, 5.378]</td>\n",
              "      <td>23217.516129</td>\n",
              "    </tr>\n",
              "    <tr>\n",
              "      <th>101</th>\n",
              "      <td>102</td>\n",
              "      <td>Venezuela</td>\n",
              "      <td>4.806</td>\n",
              "      <td>0.996</td>\n",
              "      <td>1.469000</td>\n",
              "      <td>0.657</td>\n",
              "      <td>0.056</td>\n",
              "      <td>0.052</td>\n",
              "      <td>NaN</td>\n",
              "      <td>0.133</td>\n",
              "      <td>(4.454, 5.378]</td>\n",
              "      <td>23217.516129</td>\n",
              "    </tr>\n",
              "    <tr>\n",
              "      <th>103</th>\n",
              "      <td>104</td>\n",
              "      <td>Palestinian Territories</td>\n",
              "      <td>4.743</td>\n",
              "      <td>0.642</td>\n",
              "      <td>1.217000</td>\n",
              "      <td>0.602</td>\n",
              "      <td>0.086</td>\n",
              "      <td>0.076</td>\n",
              "      <td>NaN</td>\n",
              "      <td>0.266</td>\n",
              "      <td>(4.454, 5.378]</td>\n",
              "      <td>23217.516129</td>\n",
              "    </tr>\n",
              "    <tr>\n",
              "      <th>105</th>\n",
              "      <td>106</td>\n",
              "      <td>Iran</td>\n",
              "      <td>4.707</td>\n",
              "      <td>1.059</td>\n",
              "      <td>0.771000</td>\n",
              "      <td>0.691</td>\n",
              "      <td>0.282</td>\n",
              "      <td>0.129</td>\n",
              "      <td>NaN</td>\n",
              "      <td>0.459</td>\n",
              "      <td>(4.454, 5.378]</td>\n",
              "      <td>23217.516129</td>\n",
              "    </tr>\n",
              "    <tr>\n",
              "      <th>106</th>\n",
              "      <td>107</td>\n",
              "      <td>Ivory Coast</td>\n",
              "      <td>4.671</td>\n",
              "      <td>0.541</td>\n",
              "      <td>0.872000</td>\n",
              "      <td>0.080</td>\n",
              "      <td>0.146</td>\n",
              "      <td>0.103</td>\n",
              "      <td>NaN</td>\n",
              "      <td>0.467</td>\n",
              "      <td>(4.454, 5.378]</td>\n",
              "      <td>23217.516129</td>\n",
              "    </tr>\n",
              "    <tr>\n",
              "      <th>109</th>\n",
              "      <td>110</td>\n",
              "      <td>Laos</td>\n",
              "      <td>4.623</td>\n",
              "      <td>0.720</td>\n",
              "      <td>1.034000</td>\n",
              "      <td>0.441</td>\n",
              "      <td>0.230</td>\n",
              "      <td>0.174</td>\n",
              "      <td>NaN</td>\n",
              "      <td>0.626</td>\n",
              "      <td>(4.454, 5.378]</td>\n",
              "      <td>23217.516129</td>\n",
              "    </tr>\n",
              "    <tr>\n",
              "      <th>113</th>\n",
              "      <td>114</td>\n",
              "      <td>Congo (Brazzaville)</td>\n",
              "      <td>4.559</td>\n",
              "      <td>0.682</td>\n",
              "      <td>0.811000</td>\n",
              "      <td>0.343</td>\n",
              "      <td>0.091</td>\n",
              "      <td>0.077</td>\n",
              "      <td>NaN</td>\n",
              "      <td>0.514</td>\n",
              "      <td>(4.454, 5.378]</td>\n",
              "      <td>23217.516129</td>\n",
              "    </tr>\n",
              "    <tr>\n",
              "      <th>131</th>\n",
              "      <td>132</td>\n",
              "      <td>Congo (Kinshasa)</td>\n",
              "      <td>4.245</td>\n",
              "      <td>0.069</td>\n",
              "      <td>1.136000</td>\n",
              "      <td>0.204</td>\n",
              "      <td>0.197</td>\n",
              "      <td>0.052</td>\n",
              "      <td>NaN</td>\n",
              "      <td>0.312</td>\n",
              "      <td>(2.904, 4.454]</td>\n",
              "      <td>23935.083333</td>\n",
              "    </tr>\n",
              "    <tr>\n",
              "      <th>149</th>\n",
              "      <td>150</td>\n",
              "      <td>Syria</td>\n",
              "      <td>3.462</td>\n",
              "      <td>0.689</td>\n",
              "      <td>0.472375</td>\n",
              "      <td>0.539</td>\n",
              "      <td>0.376</td>\n",
              "      <td>0.144</td>\n",
              "      <td>NaN</td>\n",
              "      <td>0.088</td>\n",
              "      <td>(2.904, 4.454]</td>\n",
              "      <td>23935.083333</td>\n",
              "    </tr>\n",
              "    <tr>\n",
              "      <th>152</th>\n",
              "      <td>153</td>\n",
              "      <td>Tanzania</td>\n",
              "      <td>3.303</td>\n",
              "      <td>0.455</td>\n",
              "      <td>0.991000</td>\n",
              "      <td>0.381</td>\n",
              "      <td>0.270</td>\n",
              "      <td>0.097</td>\n",
              "      <td>NaN</td>\n",
              "      <td>0.481</td>\n",
              "      <td>(2.904, 4.454]</td>\n",
              "      <td>23935.083333</td>\n",
              "    </tr>\n",
              "  </tbody>\n",
              "</table>\n",
              "</div>"
            ],
            "text/plain": [
              "     Overall rank        Country or region  ...       Score_bin  smooth_pop_bin_mean\n",
              "17             18            United States  ...  (6.168, 7.632]         22621.171429\n",
              "20             21           Czech Republic  ...  (6.168, 7.632]         22621.171429\n",
              "25             26                   Taiwan  ...  (6.168, 7.632]         22621.171429\n",
              "37             38        Trinidad & Tobago  ...  (6.168, 7.632]         22621.171429\n",
              "56             57              South Korea  ...  (5.378, 6.168]         21581.343750\n",
              "57             58          Northern Cyprus  ...  (5.378, 6.168]         21581.343750\n",
              "58             59                   Russia  ...  (5.378, 6.168]         21581.343750\n",
              "61             62                  Bolivia  ...  (5.378, 6.168]         21581.343750\n",
              "65             66                   Kosovo  ...  (5.378, 6.168]         21581.343750\n",
              "66             67                  Moldova  ...  (5.378, 6.168]         21581.343750\n",
              "75             76                Hong Kong  ...  (5.378, 6.168]         21581.343750\n",
              "88             89                Macedonia  ...  (4.454, 5.378]         23217.516129\n",
              "94             95                  Vietnam  ...  (4.454, 5.378]         23217.516129\n",
              "101           102                Venezuela  ...  (4.454, 5.378]         23217.516129\n",
              "103           104  Palestinian Territories  ...  (4.454, 5.378]         23217.516129\n",
              "105           106                     Iran  ...  (4.454, 5.378]         23217.516129\n",
              "106           107              Ivory Coast  ...  (4.454, 5.378]         23217.516129\n",
              "109           110                     Laos  ...  (4.454, 5.378]         23217.516129\n",
              "113           114      Congo (Brazzaville)  ...  (4.454, 5.378]         23217.516129\n",
              "131           132         Congo (Kinshasa)  ...  (2.904, 4.454]         23935.083333\n",
              "149           150                    Syria  ...  (2.904, 4.454]         23935.083333\n",
              "152           153                 Tanzania  ...  (2.904, 4.454]         23935.083333\n",
              "\n",
              "[22 rows x 12 columns]"
            ]
          },
          "metadata": {
            "tags": []
          },
          "execution_count": 97
        }
      ]
    },
    {
      "cell_type": "code",
      "metadata": {
        "id": "VJz8p69OpcOl",
        "colab": {
          "base_uri": "https://localhost:8080/"
        },
        "outputId": "62455649-bddc-4faa-96f5-5b42eabc622a"
      },
      "source": [
        "for i in df_2018[mask_NullPop].index:\n",
        "  df_2018.loc[i,'Population']=df_2018.loc[i,'smooth_pop_bin_mean'] # replace null population with bin mean\n",
        "df_2018['Population'].describe() # confirm the missing values filled"
      ],
      "execution_count": null,
      "outputs": [
        {
          "output_type": "execute_result",
          "data": {
            "text/plain": [
              "count      156.000000\n",
              "mean     22838.778660\n",
              "std      22267.672683\n",
              "min        337.000000\n",
              "25%       5827.750000\n",
              "50%      17072.000000\n",
              "75%      29563.750000\n",
              "max      75865.000000\n",
              "Name: Population, dtype: float64"
            ]
          },
          "metadata": {
            "tags": []
          },
          "execution_count": 98
        }
      ]
    },
    {
      "cell_type": "code",
      "metadata": {
        "id": "Ps9a1ZM7pcUL",
        "colab": {
          "base_uri": "https://localhost:8080/"
        },
        "outputId": "bf656d06-352a-4f83-a39f-1e655420ce5f"
      },
      "source": [
        "df_2019['smooth_pop_bin_mean']=df_2019.groupby('Score_bin')['Population'].transform(replace_with_bin_mean) # find mean of each bin\n",
        "df_2019.tail()"
      ],
      "execution_count": null,
      "outputs": [
        {
          "output_type": "execute_result",
          "data": {
            "text/html": [
              "<div>\n",
              "<style scoped>\n",
              "    .dataframe tbody tr th:only-of-type {\n",
              "        vertical-align: middle;\n",
              "    }\n",
              "\n",
              "    .dataframe tbody tr th {\n",
              "        vertical-align: top;\n",
              "    }\n",
              "\n",
              "    .dataframe thead th {\n",
              "        text-align: right;\n",
              "    }\n",
              "</style>\n",
              "<table border=\"1\" class=\"dataframe\">\n",
              "  <thead>\n",
              "    <tr style=\"text-align: right;\">\n",
              "      <th></th>\n",
              "      <th>Overall rank</th>\n",
              "      <th>Country or region</th>\n",
              "      <th>Score</th>\n",
              "      <th>GDP per capita</th>\n",
              "      <th>Social support</th>\n",
              "      <th>Healthy life expectancy</th>\n",
              "      <th>Generosity</th>\n",
              "      <th>Perceptions of corruption</th>\n",
              "      <th>Population</th>\n",
              "      <th>Agency</th>\n",
              "      <th>Score_bin</th>\n",
              "      <th>smooth_pop_bin_mean</th>\n",
              "    </tr>\n",
              "  </thead>\n",
              "  <tbody>\n",
              "    <tr>\n",
              "      <th>151</th>\n",
              "      <td>152</td>\n",
              "      <td>Rwanda</td>\n",
              "      <td>3.334</td>\n",
              "      <td>0.359</td>\n",
              "      <td>0.711000</td>\n",
              "      <td>0.614</td>\n",
              "      <td>0.217</td>\n",
              "      <td>0.411</td>\n",
              "      <td>12627.0</td>\n",
              "      <td>0.555000</td>\n",
              "      <td>(2.8520000000000003, 4.544]</td>\n",
              "      <td>25106.814286</td>\n",
              "    </tr>\n",
              "    <tr>\n",
              "      <th>152</th>\n",
              "      <td>153</td>\n",
              "      <td>Tanzania</td>\n",
              "      <td>3.231</td>\n",
              "      <td>0.476</td>\n",
              "      <td>0.885000</td>\n",
              "      <td>0.499</td>\n",
              "      <td>0.276</td>\n",
              "      <td>0.147</td>\n",
              "      <td>NaN</td>\n",
              "      <td>0.417000</td>\n",
              "      <td>(2.8520000000000003, 4.544]</td>\n",
              "      <td>25106.814286</td>\n",
              "    </tr>\n",
              "    <tr>\n",
              "      <th>153</th>\n",
              "      <td>154</td>\n",
              "      <td>Afghanistan</td>\n",
              "      <td>3.203</td>\n",
              "      <td>0.350</td>\n",
              "      <td>0.517000</td>\n",
              "      <td>0.361</td>\n",
              "      <td>0.158</td>\n",
              "      <td>0.025</td>\n",
              "      <td>38042.0</td>\n",
              "      <td>0.009125</td>\n",
              "      <td>(2.8520000000000003, 4.544]</td>\n",
              "      <td>25106.814286</td>\n",
              "    </tr>\n",
              "    <tr>\n",
              "      <th>154</th>\n",
              "      <td>155</td>\n",
              "      <td>Central African Republic</td>\n",
              "      <td>3.083</td>\n",
              "      <td>0.026</td>\n",
              "      <td>0.460625</td>\n",
              "      <td>0.105</td>\n",
              "      <td>0.235</td>\n",
              "      <td>0.035</td>\n",
              "      <td>4745.0</td>\n",
              "      <td>0.225000</td>\n",
              "      <td>(2.8520000000000003, 4.544]</td>\n",
              "      <td>25106.814286</td>\n",
              "    </tr>\n",
              "    <tr>\n",
              "      <th>155</th>\n",
              "      <td>156</td>\n",
              "      <td>South Sudan</td>\n",
              "      <td>2.853</td>\n",
              "      <td>0.306</td>\n",
              "      <td>0.575000</td>\n",
              "      <td>0.295</td>\n",
              "      <td>0.202</td>\n",
              "      <td>0.091</td>\n",
              "      <td>11062.0</td>\n",
              "      <td>0.010000</td>\n",
              "      <td>(2.8520000000000003, 4.544]</td>\n",
              "      <td>25106.814286</td>\n",
              "    </tr>\n",
              "  </tbody>\n",
              "</table>\n",
              "</div>"
            ],
            "text/plain": [
              "     Overall rank  ... smooth_pop_bin_mean\n",
              "151           152  ...        25106.814286\n",
              "152           153  ...        25106.814286\n",
              "153           154  ...        25106.814286\n",
              "154           155  ...        25106.814286\n",
              "155           156  ...        25106.814286\n",
              "\n",
              "[5 rows x 12 columns]"
            ]
          },
          "metadata": {
            "tags": []
          },
          "execution_count": 99
        }
      ]
    },
    {
      "cell_type": "code",
      "metadata": {
        "id": "1eWFyDabrMXd",
        "colab": {
          "base_uri": "https://localhost:8080/",
          "height": 955
        },
        "outputId": "35e89e2d-345d-45d0-a70e-ea16ffec09e7"
      },
      "source": [
        "mask_NullPop = pd.isnull(df_2019['Population'])\n",
        "#mask_NullPop.sum()\n",
        "df_2019[mask_NullPop] #show rows with null population"
      ],
      "execution_count": null,
      "outputs": [
        {
          "output_type": "execute_result",
          "data": {
            "text/html": [
              "<div>\n",
              "<style scoped>\n",
              "    .dataframe tbody tr th:only-of-type {\n",
              "        vertical-align: middle;\n",
              "    }\n",
              "\n",
              "    .dataframe tbody tr th {\n",
              "        vertical-align: top;\n",
              "    }\n",
              "\n",
              "    .dataframe thead th {\n",
              "        text-align: right;\n",
              "    }\n",
              "</style>\n",
              "<table border=\"1\" class=\"dataframe\">\n",
              "  <thead>\n",
              "    <tr style=\"text-align: right;\">\n",
              "      <th></th>\n",
              "      <th>Overall rank</th>\n",
              "      <th>Country or region</th>\n",
              "      <th>Score</th>\n",
              "      <th>GDP per capita</th>\n",
              "      <th>Social support</th>\n",
              "      <th>Healthy life expectancy</th>\n",
              "      <th>Generosity</th>\n",
              "      <th>Perceptions of corruption</th>\n",
              "      <th>Population</th>\n",
              "      <th>Agency</th>\n",
              "      <th>Score_bin</th>\n",
              "      <th>smooth_pop_bin_mean</th>\n",
              "    </tr>\n",
              "  </thead>\n",
              "  <tbody>\n",
              "    <tr>\n",
              "      <th>18</th>\n",
              "      <td>19</td>\n",
              "      <td>United States</td>\n",
              "      <td>6.892</td>\n",
              "      <td>1.433</td>\n",
              "      <td>1.457000</td>\n",
              "      <td>0.87400</td>\n",
              "      <td>0.280</td>\n",
              "      <td>0.128</td>\n",
              "      <td>NaN</td>\n",
              "      <td>0.454</td>\n",
              "      <td>(6.184, 7.769]</td>\n",
              "      <td>21000.203571</td>\n",
              "    </tr>\n",
              "    <tr>\n",
              "      <th>19</th>\n",
              "      <td>20</td>\n",
              "      <td>Czech Republic</td>\n",
              "      <td>6.852</td>\n",
              "      <td>1.269</td>\n",
              "      <td>1.487000</td>\n",
              "      <td>0.92000</td>\n",
              "      <td>0.046</td>\n",
              "      <td>0.036</td>\n",
              "      <td>NaN</td>\n",
              "      <td>0.457</td>\n",
              "      <td>(6.184, 7.769]</td>\n",
              "      <td>21000.203571</td>\n",
              "    </tr>\n",
              "    <tr>\n",
              "      <th>24</th>\n",
              "      <td>25</td>\n",
              "      <td>Taiwan</td>\n",
              "      <td>6.446</td>\n",
              "      <td>1.368</td>\n",
              "      <td>1.430000</td>\n",
              "      <td>0.91400</td>\n",
              "      <td>0.242</td>\n",
              "      <td>0.097</td>\n",
              "      <td>NaN</td>\n",
              "      <td>0.351</td>\n",
              "      <td>(6.184, 7.769]</td>\n",
              "      <td>21000.203571</td>\n",
              "    </tr>\n",
              "    <tr>\n",
              "      <th>38</th>\n",
              "      <td>39</td>\n",
              "      <td>Trinidad &amp; Tobago</td>\n",
              "      <td>6.192</td>\n",
              "      <td>1.231</td>\n",
              "      <td>1.477000</td>\n",
              "      <td>0.71300</td>\n",
              "      <td>0.185</td>\n",
              "      <td>0.016</td>\n",
              "      <td>NaN</td>\n",
              "      <td>0.489</td>\n",
              "      <td>(6.184, 7.769]</td>\n",
              "      <td>21000.203571</td>\n",
              "    </tr>\n",
              "    <tr>\n",
              "      <th>45</th>\n",
              "      <td>46</td>\n",
              "      <td>Kosovo</td>\n",
              "      <td>6.100</td>\n",
              "      <td>0.882</td>\n",
              "      <td>1.232000</td>\n",
              "      <td>0.75800</td>\n",
              "      <td>0.262</td>\n",
              "      <td>0.006</td>\n",
              "      <td>NaN</td>\n",
              "      <td>0.489</td>\n",
              "      <td>(5.38, 6.184]</td>\n",
              "      <td>20389.910156</td>\n",
              "    </tr>\n",
              "    <tr>\n",
              "      <th>53</th>\n",
              "      <td>54</td>\n",
              "      <td>South Korea</td>\n",
              "      <td>5.895</td>\n",
              "      <td>1.301</td>\n",
              "      <td>1.219000</td>\n",
              "      <td>1.03600</td>\n",
              "      <td>0.175</td>\n",
              "      <td>0.056</td>\n",
              "      <td>NaN</td>\n",
              "      <td>0.159</td>\n",
              "      <td>(5.38, 6.184]</td>\n",
              "      <td>20389.910156</td>\n",
              "    </tr>\n",
              "    <tr>\n",
              "      <th>60</th>\n",
              "      <td>61</td>\n",
              "      <td>Bolivia</td>\n",
              "      <td>5.779</td>\n",
              "      <td>0.776</td>\n",
              "      <td>1.209000</td>\n",
              "      <td>0.70600</td>\n",
              "      <td>0.137</td>\n",
              "      <td>0.064</td>\n",
              "      <td>NaN</td>\n",
              "      <td>0.511</td>\n",
              "      <td>(5.38, 6.184]</td>\n",
              "      <td>20389.910156</td>\n",
              "    </tr>\n",
              "    <tr>\n",
              "      <th>63</th>\n",
              "      <td>64</td>\n",
              "      <td>Northern Cyprus</td>\n",
              "      <td>5.718</td>\n",
              "      <td>1.263</td>\n",
              "      <td>1.252000</td>\n",
              "      <td>1.04200</td>\n",
              "      <td>0.191</td>\n",
              "      <td>0.162</td>\n",
              "      <td>NaN</td>\n",
              "      <td>0.417</td>\n",
              "      <td>(5.38, 6.184]</td>\n",
              "      <td>20389.910156</td>\n",
              "    </tr>\n",
              "    <tr>\n",
              "      <th>67</th>\n",
              "      <td>68</td>\n",
              "      <td>Russia</td>\n",
              "      <td>5.648</td>\n",
              "      <td>1.183</td>\n",
              "      <td>1.452000</td>\n",
              "      <td>0.72600</td>\n",
              "      <td>0.082</td>\n",
              "      <td>0.031</td>\n",
              "      <td>NaN</td>\n",
              "      <td>0.334</td>\n",
              "      <td>(5.38, 6.184]</td>\n",
              "      <td>20389.910156</td>\n",
              "    </tr>\n",
              "    <tr>\n",
              "      <th>70</th>\n",
              "      <td>71</td>\n",
              "      <td>Moldova</td>\n",
              "      <td>5.529</td>\n",
              "      <td>0.685</td>\n",
              "      <td>1.328000</td>\n",
              "      <td>0.73900</td>\n",
              "      <td>0.181</td>\n",
              "      <td>0.000</td>\n",
              "      <td>NaN</td>\n",
              "      <td>0.245</td>\n",
              "      <td>(5.38, 6.184]</td>\n",
              "      <td>20389.910156</td>\n",
              "    </tr>\n",
              "    <tr>\n",
              "      <th>75</th>\n",
              "      <td>76</td>\n",
              "      <td>Hong Kong</td>\n",
              "      <td>5.430</td>\n",
              "      <td>1.438</td>\n",
              "      <td>1.277000</td>\n",
              "      <td>1.12200</td>\n",
              "      <td>0.258</td>\n",
              "      <td>0.287</td>\n",
              "      <td>NaN</td>\n",
              "      <td>0.440</td>\n",
              "      <td>(5.38, 6.184]</td>\n",
              "      <td>20389.910156</td>\n",
              "    </tr>\n",
              "    <tr>\n",
              "      <th>93</th>\n",
              "      <td>94</td>\n",
              "      <td>Vietnam</td>\n",
              "      <td>5.175</td>\n",
              "      <td>0.741</td>\n",
              "      <td>1.346000</td>\n",
              "      <td>0.85100</td>\n",
              "      <td>0.147</td>\n",
              "      <td>0.073</td>\n",
              "      <td>NaN</td>\n",
              "      <td>0.543</td>\n",
              "      <td>(4.544, 5.38]</td>\n",
              "      <td>23147.734375</td>\n",
              "    </tr>\n",
              "    <tr>\n",
              "      <th>98</th>\n",
              "      <td>99</td>\n",
              "      <td>Ivory Coast</td>\n",
              "      <td>4.944</td>\n",
              "      <td>0.569</td>\n",
              "      <td>0.808000</td>\n",
              "      <td>0.23200</td>\n",
              "      <td>0.154</td>\n",
              "      <td>0.090</td>\n",
              "      <td>NaN</td>\n",
              "      <td>0.352</td>\n",
              "      <td>(4.544, 5.38]</td>\n",
              "      <td>23147.734375</td>\n",
              "    </tr>\n",
              "    <tr>\n",
              "      <th>102</th>\n",
              "      <td>103</td>\n",
              "      <td>Congo (Brazzaville)</td>\n",
              "      <td>4.812</td>\n",
              "      <td>0.673</td>\n",
              "      <td>0.799000</td>\n",
              "      <td>0.50800</td>\n",
              "      <td>0.105</td>\n",
              "      <td>0.093</td>\n",
              "      <td>NaN</td>\n",
              "      <td>0.372</td>\n",
              "      <td>(4.544, 5.38]</td>\n",
              "      <td>23147.734375</td>\n",
              "    </tr>\n",
              "    <tr>\n",
              "      <th>104</th>\n",
              "      <td>105</td>\n",
              "      <td>Laos</td>\n",
              "      <td>4.796</td>\n",
              "      <td>0.764</td>\n",
              "      <td>1.030000</td>\n",
              "      <td>0.55100</td>\n",
              "      <td>0.266</td>\n",
              "      <td>0.164</td>\n",
              "      <td>NaN</td>\n",
              "      <td>0.547</td>\n",
              "      <td>(4.544, 5.38]</td>\n",
              "      <td>23147.734375</td>\n",
              "    </tr>\n",
              "    <tr>\n",
              "      <th>107</th>\n",
              "      <td>108</td>\n",
              "      <td>Venezuela</td>\n",
              "      <td>4.707</td>\n",
              "      <td>0.960</td>\n",
              "      <td>1.427000</td>\n",
              "      <td>0.80500</td>\n",
              "      <td>0.064</td>\n",
              "      <td>0.047</td>\n",
              "      <td>NaN</td>\n",
              "      <td>0.154</td>\n",
              "      <td>(4.544, 5.38]</td>\n",
              "      <td>23147.734375</td>\n",
              "    </tr>\n",
              "    <tr>\n",
              "      <th>109</th>\n",
              "      <td>110</td>\n",
              "      <td>Palestinian Territories</td>\n",
              "      <td>4.696</td>\n",
              "      <td>0.657</td>\n",
              "      <td>1.247000</td>\n",
              "      <td>0.67200</td>\n",
              "      <td>0.103</td>\n",
              "      <td>0.066</td>\n",
              "      <td>NaN</td>\n",
              "      <td>0.225</td>\n",
              "      <td>(4.544, 5.38]</td>\n",
              "      <td>23147.734375</td>\n",
              "    </tr>\n",
              "    <tr>\n",
              "      <th>116</th>\n",
              "      <td>117</td>\n",
              "      <td>Iran</td>\n",
              "      <td>4.548</td>\n",
              "      <td>1.100</td>\n",
              "      <td>0.842000</td>\n",
              "      <td>0.78500</td>\n",
              "      <td>0.270</td>\n",
              "      <td>0.125</td>\n",
              "      <td>NaN</td>\n",
              "      <td>0.305</td>\n",
              "      <td>(4.544, 5.38]</td>\n",
              "      <td>23147.734375</td>\n",
              "    </tr>\n",
              "    <tr>\n",
              "      <th>126</th>\n",
              "      <td>127</td>\n",
              "      <td>Congo (Kinshasa)</td>\n",
              "      <td>4.418</td>\n",
              "      <td>0.094</td>\n",
              "      <td>1.125000</td>\n",
              "      <td>0.35700</td>\n",
              "      <td>0.212</td>\n",
              "      <td>0.053</td>\n",
              "      <td>NaN</td>\n",
              "      <td>0.269</td>\n",
              "      <td>(2.8520000000000003, 4.544]</td>\n",
              "      <td>25106.814286</td>\n",
              "    </tr>\n",
              "    <tr>\n",
              "      <th>134</th>\n",
              "      <td>135</td>\n",
              "      <td>Swaziland</td>\n",
              "      <td>4.212</td>\n",
              "      <td>0.811</td>\n",
              "      <td>1.149000</td>\n",
              "      <td>0.04675</td>\n",
              "      <td>0.074</td>\n",
              "      <td>0.135</td>\n",
              "      <td>NaN</td>\n",
              "      <td>0.313</td>\n",
              "      <td>(2.8520000000000003, 4.544]</td>\n",
              "      <td>25106.814286</td>\n",
              "    </tr>\n",
              "    <tr>\n",
              "      <th>148</th>\n",
              "      <td>149</td>\n",
              "      <td>Syria</td>\n",
              "      <td>3.462</td>\n",
              "      <td>0.619</td>\n",
              "      <td>0.460625</td>\n",
              "      <td>0.44000</td>\n",
              "      <td>0.331</td>\n",
              "      <td>0.141</td>\n",
              "      <td>NaN</td>\n",
              "      <td>0.013</td>\n",
              "      <td>(2.8520000000000003, 4.544]</td>\n",
              "      <td>25106.814286</td>\n",
              "    </tr>\n",
              "    <tr>\n",
              "      <th>152</th>\n",
              "      <td>153</td>\n",
              "      <td>Tanzania</td>\n",
              "      <td>3.231</td>\n",
              "      <td>0.476</td>\n",
              "      <td>0.885000</td>\n",
              "      <td>0.49900</td>\n",
              "      <td>0.276</td>\n",
              "      <td>0.147</td>\n",
              "      <td>NaN</td>\n",
              "      <td>0.417</td>\n",
              "      <td>(2.8520000000000003, 4.544]</td>\n",
              "      <td>25106.814286</td>\n",
              "    </tr>\n",
              "  </tbody>\n",
              "</table>\n",
              "</div>"
            ],
            "text/plain": [
              "     Overall rank  ... smooth_pop_bin_mean\n",
              "18             19  ...        21000.203571\n",
              "19             20  ...        21000.203571\n",
              "24             25  ...        21000.203571\n",
              "38             39  ...        21000.203571\n",
              "45             46  ...        20389.910156\n",
              "53             54  ...        20389.910156\n",
              "60             61  ...        20389.910156\n",
              "63             64  ...        20389.910156\n",
              "67             68  ...        20389.910156\n",
              "70             71  ...        20389.910156\n",
              "75             76  ...        20389.910156\n",
              "93             94  ...        23147.734375\n",
              "98             99  ...        23147.734375\n",
              "102           103  ...        23147.734375\n",
              "104           105  ...        23147.734375\n",
              "107           108  ...        23147.734375\n",
              "109           110  ...        23147.734375\n",
              "116           117  ...        23147.734375\n",
              "126           127  ...        25106.814286\n",
              "134           135  ...        25106.814286\n",
              "148           149  ...        25106.814286\n",
              "152           153  ...        25106.814286\n",
              "\n",
              "[22 rows x 12 columns]"
            ]
          },
          "metadata": {
            "tags": []
          },
          "execution_count": 213
        }
      ]
    },
    {
      "cell_type": "code",
      "metadata": {
        "id": "ZNQiSlgUrMhO",
        "colab": {
          "base_uri": "https://localhost:8080/"
        },
        "outputId": "7cfe0341-66fc-441b-89d6-a561ee25ef92"
      },
      "source": [
        "for i in df_2019[mask_NullPop].index:\n",
        "  df_2019.loc[i,'Population']=df_2019.loc[i,'smooth_pop_bin_mean'] # replace null population with bin mean\n",
        "df_2019['Population'].describe() # confirm the missing values filled"
      ],
      "execution_count": null,
      "outputs": [
        {
          "output_type": "execute_result",
          "data": {
            "text/plain": [
              "count      156.000000\n",
              "mean     22411.165597\n",
              "std      22154.165889\n",
              "min        339.000000\n",
              "25%       5712.000000\n",
              "50%      16391.500000\n",
              "75%      28747.250000\n",
              "max      74816.375000\n",
              "Name: Population, dtype: float64"
            ]
          },
          "metadata": {
            "tags": []
          },
          "execution_count": 214
        }
      ]
    },
    {
      "cell_type": "markdown",
      "metadata": {
        "id": "HhTnKACz4DD3"
      },
      "source": [
        "Fill missing value in 2018 'Perception of Corruption' **column**"
      ]
    },
    {
      "cell_type": "code",
      "metadata": {
        "id": "dn_4RCGA4O5F"
      },
      "source": [
        "df_2018['Perceptions of corruption'].fillna(df_2018['Perceptions of corruption'].mean(),inplace = True)\n"
      ],
      "execution_count": null,
      "outputs": []
    },
    {
      "cell_type": "markdown",
      "metadata": {
        "id": "PXv5KksBsT9C"
      },
      "source": [
        "Feature Selection"
      ]
    },
    {
      "cell_type": "code",
      "metadata": {
        "id": "Dbx2C1sd_PBA",
        "colab": {
          "base_uri": "https://localhost:8080/",
          "height": 204
        },
        "outputId": "e9aacd9e-ba7b-4f2a-dab4-1b5ba20deec9"
      },
      "source": [
        "df['class']=np.where(df['∆Score']>0, 1,0)\n",
        "Y = df.iloc[:,17:18]\n",
        "Y.head()"
      ],
      "execution_count": null,
      "outputs": [
        {
          "output_type": "execute_result",
          "data": {
            "text/html": [
              "<div>\n",
              "<style scoped>\n",
              "    .dataframe tbody tr th:only-of-type {\n",
              "        vertical-align: middle;\n",
              "    }\n",
              "\n",
              "    .dataframe tbody tr th {\n",
              "        vertical-align: top;\n",
              "    }\n",
              "\n",
              "    .dataframe thead th {\n",
              "        text-align: right;\n",
              "    }\n",
              "</style>\n",
              "<table border=\"1\" class=\"dataframe\">\n",
              "  <thead>\n",
              "    <tr style=\"text-align: right;\">\n",
              "      <th></th>\n",
              "      <th>class</th>\n",
              "    </tr>\n",
              "  </thead>\n",
              "  <tbody>\n",
              "    <tr>\n",
              "      <th>0</th>\n",
              "      <td>0</td>\n",
              "    </tr>\n",
              "    <tr>\n",
              "      <th>1</th>\n",
              "      <td>1</td>\n",
              "    </tr>\n",
              "    <tr>\n",
              "      <th>2</th>\n",
              "      <td>0</td>\n",
              "    </tr>\n",
              "    <tr>\n",
              "      <th>3</th>\n",
              "      <td>1</td>\n",
              "    </tr>\n",
              "    <tr>\n",
              "      <th>4</th>\n",
              "      <td>1</td>\n",
              "    </tr>\n",
              "  </tbody>\n",
              "</table>\n",
              "</div>"
            ],
            "text/plain": [
              "   class\n",
              "0      0\n",
              "1      1\n",
              "2      0\n",
              "3      1\n",
              "4      1"
            ]
          },
          "metadata": {
            "tags": []
          },
          "execution_count": 216
        }
      ]
    },
    {
      "cell_type": "code",
      "metadata": {
        "id": "zGiP30LLOCiQ"
      },
      "source": [
        "Happiness_C={}\n",
        "Happiness_C['feature_names']= df.columns.values\n",
        "Happiness_C['data']=df.values\n",
        "Happiness_C['target_names']=Y['class'].unique()\n",
        "Happiness_C['target']=Y['class'].values"
      ],
      "execution_count": null,
      "outputs": []
    },
    {
      "cell_type": "code",
      "metadata": {
        "id": "feXkloxRsW8O"
      },
      "source": [
        "df['Score_18 bin']= pd.qcut(df['Score_x'],4)\n",
        "df['GDP_18 bin']= pd.qcut(df['GDP per capita_x'],4)\n",
        "df['Social_18 bin']= pd.qcut(df['Social support_x'],4)\n",
        "df['Health_18 bin']=pd.qcut(df['Healthy life expectancy_x'],4)\n",
        "df['Agency_18 bin']=pd.qcut(df['Agency_x'],4)\n",
        "df['Generosity_18 bin']= pd.qcut(df['Generosity_x'],4)\n",
        "df['Corruption_18 bin']= pd.qcut(df['Perceptions of corruption_x'],4)\n",
        "df['Population_18 bin']= pd.qcut(df['Population_x'],4)\n",
        "\n",
        "df['Score_19 bin']= pd.qcut(df['Score_y'],4)\n",
        "df['GDP_19 bin']= pd.qcut(df['GDP per capita_y'],4)\n",
        "df['Social_19 bin']= pd.qcut(df['Social support_y'],4)\n",
        "df['Health_19 bin']=pd.qcut(df['Healthy life expectancy_y'],4)\n",
        "df['Agency_19 bin']=pd.qcut(df['Agency_y'],4)\n",
        "df['Generosity_19 bin']= pd.qcut(df['Generosity_y'],4)\n",
        "df['Corruption_19 bin']= pd.qcut(df['Perceptions of corruption_y'],4)\n",
        "df['Population_19 bin']= pd.qcut(df['Population_y'],4)"
      ],
      "execution_count": null,
      "outputs": []
    },
    {
      "cell_type": "code",
      "metadata": {
        "id": "9FWSJ12R0ASE"
      },
      "source": [
        "df = df.drop(['GDP per capita_x','Social support_x','Healthy life expectancy_x','Agency_x','Generosity_x','Perceptions of corruption_x',\n",
        "              'Population_x', 'GDP per capita_y','Social support_y','Healthy life expectancy_y','Agency_y','Generosity_y','Perceptions of corruption_y',\n",
        "              'Population_y'],axis=1)"
      ],
      "execution_count": null,
      "outputs": []
    },
    {
      "cell_type": "code",
      "metadata": {
        "id": "Y2f26Usa05TD",
        "colab": {
          "base_uri": "https://localhost:8080/",
          "height": 326
        },
        "outputId": "1f5588d9-b8f9-44fb-eb12-36ac2e4339c9"
      },
      "source": [
        "df.head()"
      ],
      "execution_count": null,
      "outputs": [
        {
          "output_type": "execute_result",
          "data": {
            "text/html": [
              "<div>\n",
              "<style scoped>\n",
              "    .dataframe tbody tr th:only-of-type {\n",
              "        vertical-align: middle;\n",
              "    }\n",
              "\n",
              "    .dataframe tbody tr th {\n",
              "        vertical-align: top;\n",
              "    }\n",
              "\n",
              "    .dataframe thead th {\n",
              "        text-align: right;\n",
              "    }\n",
              "</style>\n",
              "<table border=\"1\" class=\"dataframe\">\n",
              "  <thead>\n",
              "    <tr style=\"text-align: right;\">\n",
              "      <th></th>\n",
              "      <th>Score_x</th>\n",
              "      <th>Score_y</th>\n",
              "      <th>∆Score</th>\n",
              "      <th>class</th>\n",
              "      <th>Score_18 bin</th>\n",
              "      <th>GDP_18 bin</th>\n",
              "      <th>Social_18 bin</th>\n",
              "      <th>Health_18 bin</th>\n",
              "      <th>Agency_18 bin</th>\n",
              "      <th>Generosity_18 bin</th>\n",
              "      <th>Corruption_18 bin</th>\n",
              "      <th>Population_18 bin</th>\n",
              "      <th>Score_19 bin</th>\n",
              "      <th>GDP_19 bin</th>\n",
              "      <th>Social_19 bin</th>\n",
              "      <th>Health_19 bin</th>\n",
              "      <th>Agency_19 bin</th>\n",
              "      <th>Generosity_19 bin</th>\n",
              "      <th>Corruption_19 bin</th>\n",
              "      <th>Population_19 bin</th>\n",
              "    </tr>\n",
              "  </thead>\n",
              "  <tbody>\n",
              "    <tr>\n",
              "      <th>0</th>\n",
              "      <td>7.632</td>\n",
              "      <td>7.769</td>\n",
              "      <td>-0.137</td>\n",
              "      <td>0</td>\n",
              "      <td>(6.168, 7.632]</td>\n",
              "      <td>(1.198, 2.07]</td>\n",
              "      <td>(1.463, 1.644]</td>\n",
              "      <td>(0.777, 1.03]</td>\n",
              "      <td>(0.578, 0.724]</td>\n",
              "      <td>(0.174, 0.239]</td>\n",
              "      <td>(0.137, 0.457]</td>\n",
              "      <td>(5083.75, 11328.5]</td>\n",
              "      <td>(6.194, 7.769]</td>\n",
              "      <td>(1.237, 1.684]</td>\n",
              "      <td>(1.454, 1.624]</td>\n",
              "      <td>(0.886, 1.141]</td>\n",
              "      <td>(0.508, 0.631]</td>\n",
              "      <td>(0.109, 0.177]</td>\n",
              "      <td>(0.141, 0.453]</td>\n",
              "      <td>(5213.5, 11531.0]</td>\n",
              "    </tr>\n",
              "    <tr>\n",
              "      <th>1</th>\n",
              "      <td>7.594</td>\n",
              "      <td>7.554</td>\n",
              "      <td>0.040</td>\n",
              "      <td>1</td>\n",
              "      <td>(6.168, 7.632]</td>\n",
              "      <td>(1.198, 2.07]</td>\n",
              "      <td>(1.463, 1.644]</td>\n",
              "      <td>(0.777, 1.03]</td>\n",
              "      <td>(0.578, 0.724]</td>\n",
              "      <td>(0.239, 0.433]</td>\n",
              "      <td>(0.137, 0.457]</td>\n",
              "      <td>(5083.75, 11328.5]</td>\n",
              "      <td>(6.194, 7.769]</td>\n",
              "      <td>(1.237, 1.684]</td>\n",
              "      <td>(1.454, 1.624]</td>\n",
              "      <td>(0.886, 1.141]</td>\n",
              "      <td>(0.508, 0.631]</td>\n",
              "      <td>(0.246, 0.458]</td>\n",
              "      <td>(0.141, 0.453]</td>\n",
              "      <td>(5213.5, 11531.0]</td>\n",
              "    </tr>\n",
              "    <tr>\n",
              "      <th>2</th>\n",
              "      <td>7.555</td>\n",
              "      <td>7.600</td>\n",
              "      <td>-0.045</td>\n",
              "      <td>0</td>\n",
              "      <td>(6.168, 7.632]</td>\n",
              "      <td>(1.198, 2.07]</td>\n",
              "      <td>(1.463, 1.644]</td>\n",
              "      <td>(0.777, 1.03]</td>\n",
              "      <td>(0.578, 0.724]</td>\n",
              "      <td>(0.239, 0.433]</td>\n",
              "      <td>(0.137, 0.457]</td>\n",
              "      <td>(5083.75, 11328.5]</td>\n",
              "      <td>(6.194, 7.769]</td>\n",
              "      <td>(1.237, 1.684]</td>\n",
              "      <td>(1.454, 1.624]</td>\n",
              "      <td>(0.886, 1.141]</td>\n",
              "      <td>(0.508, 0.631]</td>\n",
              "      <td>(0.246, 0.458]</td>\n",
              "      <td>(0.141, 0.453]</td>\n",
              "      <td>(5213.5, 11531.0]</td>\n",
              "    </tr>\n",
              "    <tr>\n",
              "      <th>3</th>\n",
              "      <td>7.495</td>\n",
              "      <td>7.494</td>\n",
              "      <td>0.001</td>\n",
              "      <td>1</td>\n",
              "      <td>(6.168, 7.632]</td>\n",
              "      <td>(1.198, 2.07]</td>\n",
              "      <td>(1.463, 1.644]</td>\n",
              "      <td>(0.777, 1.03]</td>\n",
              "      <td>(0.578, 0.724]</td>\n",
              "      <td>(0.239, 0.433]</td>\n",
              "      <td>(0.137, 0.457]</td>\n",
              "      <td>(336.999, 5083.75]</td>\n",
              "      <td>(6.194, 7.769]</td>\n",
              "      <td>(1.237, 1.684]</td>\n",
              "      <td>(1.454, 1.624]</td>\n",
              "      <td>(0.886, 1.141]</td>\n",
              "      <td>(0.508, 0.631]</td>\n",
              "      <td>(0.246, 0.458]</td>\n",
              "      <td>(0.0855, 0.141]</td>\n",
              "      <td>(338.999, 5213.5]</td>\n",
              "    </tr>\n",
              "    <tr>\n",
              "      <th>4</th>\n",
              "      <td>7.487</td>\n",
              "      <td>7.480</td>\n",
              "      <td>0.007</td>\n",
              "      <td>1</td>\n",
              "      <td>(6.168, 7.632]</td>\n",
              "      <td>(1.198, 2.07]</td>\n",
              "      <td>(1.463, 1.644]</td>\n",
              "      <td>(0.777, 1.03]</td>\n",
              "      <td>(0.578, 0.724]</td>\n",
              "      <td>(0.239, 0.433]</td>\n",
              "      <td>(0.137, 0.457]</td>\n",
              "      <td>(5083.75, 11328.5]</td>\n",
              "      <td>(6.194, 7.769]</td>\n",
              "      <td>(1.237, 1.684]</td>\n",
              "      <td>(1.454, 1.624]</td>\n",
              "      <td>(0.886, 1.141]</td>\n",
              "      <td>(0.508, 0.631]</td>\n",
              "      <td>(0.246, 0.458]</td>\n",
              "      <td>(0.141, 0.453]</td>\n",
              "      <td>(5213.5, 11531.0]</td>\n",
              "    </tr>\n",
              "  </tbody>\n",
              "</table>\n",
              "</div>"
            ],
            "text/plain": [
              "   Score_x  Score_y  ...  Corruption_19 bin  Population_19 bin\n",
              "0    7.632    7.769  ...     (0.141, 0.453]  (5213.5, 11531.0]\n",
              "1    7.594    7.554  ...     (0.141, 0.453]  (5213.5, 11531.0]\n",
              "2    7.555    7.600  ...     (0.141, 0.453]  (5213.5, 11531.0]\n",
              "3    7.495    7.494  ...    (0.0855, 0.141]  (338.999, 5213.5]\n",
              "4    7.487    7.480  ...     (0.141, 0.453]  (5213.5, 11531.0]\n",
              "\n",
              "[5 rows x 20 columns]"
            ]
          },
          "metadata": {
            "tags": []
          },
          "execution_count": 220
        }
      ]
    },
    {
      "cell_type": "code",
      "metadata": {
        "colab": {
          "base_uri": "https://localhost:8080/"
        },
        "id": "km_FoW0wZRjN",
        "outputId": "2e08b597-e2f9-4983-b984-19a01a16df28"
      },
      "source": [
        "df['Population_19 bin'].unique()"
      ],
      "execution_count": null,
      "outputs": [
        {
          "output_type": "execute_result",
          "data": {
            "text/plain": [
              "[(5213.5, 11531.0], (338.999, 5213.5], (11531.0, 33625.5], (33625.5, 74816.375], NaN]\n",
              "Categories (4, interval[float64]): [(338.999, 5213.5] < (5213.5, 11531.0] < (11531.0, 33625.5] <\n",
              "                                    (33625.5, 74816.375]]"
            ]
          },
          "metadata": {
            "tags": []
          },
          "execution_count": 221
        }
      ]
    },
    {
      "cell_type": "code",
      "metadata": {
        "id": "gnXzbykW2B8M",
        "colab": {
          "base_uri": "https://localhost:8080/",
          "height": 241
        },
        "outputId": "680a8082-efc0-4f1c-e219-c019edbf4147"
      },
      "source": [
        "le = LabelEncoder()\n",
        "labels={}\n",
        "df['Score_18 bin']=le.fit_transform(df['Score_18 bin'])\n",
        "labels['Score_18 bin']=le.classes_\n",
        "df['GDP_18 bin']=le.fit_transform(df['GDP_18 bin'])\n",
        "labels['GDP_18 bin']=le.classes_\n",
        "df['Social_18 bin']=le.fit_transform(df['Social_18 bin'])\n",
        "labels['Social_18 bin']=le.classes_\n",
        "df['Health_18 bin']=le.fit_transform(df['Health_18 bin'])\n",
        "labels['Health_18 bin']=le.classes_\n",
        "df['Agency_18 bin']=le.fit_transform(df['Agency_18 bin'])\n",
        "labels['Agency_18 bin']=le.classes_\n",
        "df['Generosity_18 bin']=le.fit_transform(df['Generosity_18 bin'])\n",
        "labels['Generosity_18 bin']=le.classes_\n",
        "df['Corruption_18 bin']=le.fit_transform(df['Corruption_18 bin'].astype(str))\n",
        "labels['Corruption_18 bin']=le.classes_\n",
        "df['Population_18 bin']=le.fit_transform(df['Population_18 bin'].astype(str))\n",
        "labels['Population_18 bin']=le.classes_\n",
        "df['Score_19 bin']=le.fit_transform(df['Score_19 bin'].astype(str))\n",
        "labels['Score_19 bin']=le.classes_\n",
        "df['GDP_19 bin']=le.fit_transform(df['GDP_19 bin'].astype(str))\n",
        "labels['GDP_19 bin']=le.classes_\n",
        "df['Social_19 bin']=le.fit_transform(df['Social_19 bin'].astype(str))\n",
        "labels['Social_19 bin']=le.classes_\n",
        "df['Health_19 bin']=le.fit_transform(df['Health_19 bin'].astype(str))\n",
        "labels['Health_19 bin']=le.classes_\n",
        "df['Agency_19 bin']=le.fit_transform(df['Agency_19 bin'].astype(str))\n",
        "labels['Agency_19 bin']=le.classes_\n",
        "df['Generosity_19 bin']=le.fit_transform(df['Generosity_19 bin'].astype(str))\n",
        "labels['Generosity_19 bin']=le.classes_\n",
        "df['Corruption_19 bin']=le.fit_transform(df['Corruption_19 bin'].astype(str))\n",
        "labels['Corruption_19 bin']=le.classes_\n",
        "df['Population_19 bin']=le.fit_transform(df['Population_19 bin'].astype(str))\n",
        "labels['Population_19 bin']=le.classes_\n",
        "df.head()"
      ],
      "execution_count": null,
      "outputs": [
        {
          "output_type": "execute_result",
          "data": {
            "text/html": [
              "<div>\n",
              "<style scoped>\n",
              "    .dataframe tbody tr th:only-of-type {\n",
              "        vertical-align: middle;\n",
              "    }\n",
              "\n",
              "    .dataframe tbody tr th {\n",
              "        vertical-align: top;\n",
              "    }\n",
              "\n",
              "    .dataframe thead th {\n",
              "        text-align: right;\n",
              "    }\n",
              "</style>\n",
              "<table border=\"1\" class=\"dataframe\">\n",
              "  <thead>\n",
              "    <tr style=\"text-align: right;\">\n",
              "      <th></th>\n",
              "      <th>Score_x</th>\n",
              "      <th>Score_y</th>\n",
              "      <th>∆Score</th>\n",
              "      <th>class</th>\n",
              "      <th>Score_18 bin</th>\n",
              "      <th>GDP_18 bin</th>\n",
              "      <th>Social_18 bin</th>\n",
              "      <th>Health_18 bin</th>\n",
              "      <th>Agency_18 bin</th>\n",
              "      <th>Generosity_18 bin</th>\n",
              "      <th>Corruption_18 bin</th>\n",
              "      <th>Population_18 bin</th>\n",
              "      <th>Score_19 bin</th>\n",
              "      <th>GDP_19 bin</th>\n",
              "      <th>Social_19 bin</th>\n",
              "      <th>Health_19 bin</th>\n",
              "      <th>Agency_19 bin</th>\n",
              "      <th>Generosity_19 bin</th>\n",
              "      <th>Corruption_19 bin</th>\n",
              "      <th>Population_19 bin</th>\n",
              "    </tr>\n",
              "  </thead>\n",
              "  <tbody>\n",
              "    <tr>\n",
              "      <th>0</th>\n",
              "      <td>7.632</td>\n",
              "      <td>7.769</td>\n",
              "      <td>-0.137</td>\n",
              "      <td>0</td>\n",
              "      <td>3</td>\n",
              "      <td>3</td>\n",
              "      <td>3</td>\n",
              "      <td>3</td>\n",
              "      <td>3</td>\n",
              "      <td>2</td>\n",
              "      <td>3</td>\n",
              "      <td>3</td>\n",
              "      <td>3</td>\n",
              "      <td>3</td>\n",
              "      <td>3</td>\n",
              "      <td>3</td>\n",
              "      <td>3</td>\n",
              "      <td>1</td>\n",
              "      <td>3</td>\n",
              "      <td>3</td>\n",
              "    </tr>\n",
              "    <tr>\n",
              "      <th>1</th>\n",
              "      <td>7.594</td>\n",
              "      <td>7.554</td>\n",
              "      <td>0.040</td>\n",
              "      <td>1</td>\n",
              "      <td>3</td>\n",
              "      <td>3</td>\n",
              "      <td>3</td>\n",
              "      <td>3</td>\n",
              "      <td>3</td>\n",
              "      <td>3</td>\n",
              "      <td>3</td>\n",
              "      <td>3</td>\n",
              "      <td>3</td>\n",
              "      <td>3</td>\n",
              "      <td>3</td>\n",
              "      <td>3</td>\n",
              "      <td>3</td>\n",
              "      <td>3</td>\n",
              "      <td>3</td>\n",
              "      <td>3</td>\n",
              "    </tr>\n",
              "    <tr>\n",
              "      <th>2</th>\n",
              "      <td>7.555</td>\n",
              "      <td>7.600</td>\n",
              "      <td>-0.045</td>\n",
              "      <td>0</td>\n",
              "      <td>3</td>\n",
              "      <td>3</td>\n",
              "      <td>3</td>\n",
              "      <td>3</td>\n",
              "      <td>3</td>\n",
              "      <td>3</td>\n",
              "      <td>3</td>\n",
              "      <td>3</td>\n",
              "      <td>3</td>\n",
              "      <td>3</td>\n",
              "      <td>3</td>\n",
              "      <td>3</td>\n",
              "      <td>3</td>\n",
              "      <td>3</td>\n",
              "      <td>3</td>\n",
              "      <td>3</td>\n",
              "    </tr>\n",
              "    <tr>\n",
              "      <th>3</th>\n",
              "      <td>7.495</td>\n",
              "      <td>7.494</td>\n",
              "      <td>0.001</td>\n",
              "      <td>1</td>\n",
              "      <td>3</td>\n",
              "      <td>3</td>\n",
              "      <td>3</td>\n",
              "      <td>3</td>\n",
              "      <td>3</td>\n",
              "      <td>3</td>\n",
              "      <td>3</td>\n",
              "      <td>2</td>\n",
              "      <td>3</td>\n",
              "      <td>3</td>\n",
              "      <td>3</td>\n",
              "      <td>3</td>\n",
              "      <td>3</td>\n",
              "      <td>3</td>\n",
              "      <td>2</td>\n",
              "      <td>2</td>\n",
              "    </tr>\n",
              "    <tr>\n",
              "      <th>4</th>\n",
              "      <td>7.487</td>\n",
              "      <td>7.480</td>\n",
              "      <td>0.007</td>\n",
              "      <td>1</td>\n",
              "      <td>3</td>\n",
              "      <td>3</td>\n",
              "      <td>3</td>\n",
              "      <td>3</td>\n",
              "      <td>3</td>\n",
              "      <td>3</td>\n",
              "      <td>3</td>\n",
              "      <td>3</td>\n",
              "      <td>3</td>\n",
              "      <td>3</td>\n",
              "      <td>3</td>\n",
              "      <td>3</td>\n",
              "      <td>3</td>\n",
              "      <td>3</td>\n",
              "      <td>3</td>\n",
              "      <td>3</td>\n",
              "    </tr>\n",
              "  </tbody>\n",
              "</table>\n",
              "</div>"
            ],
            "text/plain": [
              "   Score_x  Score_y  ...  Corruption_19 bin  Population_19 bin\n",
              "0    7.632    7.769  ...                  3                  3\n",
              "1    7.594    7.554  ...                  3                  3\n",
              "2    7.555    7.600  ...                  3                  3\n",
              "3    7.495    7.494  ...                  2                  2\n",
              "4    7.487    7.480  ...                  3                  3\n",
              "\n",
              "[5 rows x 20 columns]"
            ]
          },
          "metadata": {
            "tags": []
          },
          "execution_count": 222
        }
      ]
    },
    {
      "cell_type": "code",
      "metadata": {
        "id": "RcyD6A9Y-8VJ",
        "colab": {
          "base_uri": "https://localhost:8080/"
        },
        "outputId": "6a0c31b2-0b03-4032-ddf3-bb6f7db05b45"
      },
      "source": [
        "df.info()"
      ],
      "execution_count": null,
      "outputs": [
        {
          "output_type": "stream",
          "text": [
            "<class 'pandas.core.frame.DataFrame'>\n",
            "Int64Index: 156 entries, 0 to 155\n",
            "Data columns (total 20 columns):\n",
            " #   Column             Non-Null Count  Dtype  \n",
            "---  ------             --------------  -----  \n",
            " 0   Score_x            156 non-null    float64\n",
            " 1   Score_y            152 non-null    float64\n",
            " 2   ∆Score             152 non-null    float64\n",
            " 3   class              156 non-null    int64  \n",
            " 4   Score_18 bin       156 non-null    int64  \n",
            " 5   GDP_18 bin         156 non-null    int64  \n",
            " 6   Social_18 bin      156 non-null    int64  \n",
            " 7   Health_18 bin      156 non-null    int64  \n",
            " 8   Agency_18 bin      156 non-null    int64  \n",
            " 9   Generosity_18 bin  156 non-null    int64  \n",
            " 10  Corruption_18 bin  156 non-null    int64  \n",
            " 11  Population_18 bin  156 non-null    int64  \n",
            " 12  Score_19 bin       156 non-null    int64  \n",
            " 13  GDP_19 bin         156 non-null    int64  \n",
            " 14  Social_19 bin      156 non-null    int64  \n",
            " 15  Health_19 bin      156 non-null    int64  \n",
            " 16  Agency_19 bin      156 non-null    int64  \n",
            " 17  Generosity_19 bin  156 non-null    int64  \n",
            " 18  Corruption_19 bin  156 non-null    int64  \n",
            " 19  Population_19 bin  156 non-null    int64  \n",
            "dtypes: float64(3), int64(17)\n",
            "memory usage: 25.6 KB\n"
          ],
          "name": "stdout"
        }
      ]
    },
    {
      "cell_type": "code",
      "metadata": {
        "id": "aRuc6tomHtQL"
      },
      "source": [
        "df['Score_18 bin']=df['Score_18 bin'].astype('category')\n",
        "df['GDP_18 bin']=df['GDP_18 bin'].astype('category')\n",
        "df['Social_18 bin']= df['Social_18 bin'].astype('category')\n",
        "df['Health_18 bin']=df['Health_18 bin'].astype('category')\n",
        "df['Agency_18 bin']=df['Agency_18 bin'].astype('category')\n",
        "df['Generosity_18 bin']= df['Generosity_18 bin'].astype('category')\n",
        "df['Corruption_18 bin']= df['Corruption_18 bin'].astype('category')\n",
        "df['Population_18 bin']= df['Population_18 bin'].astype('category')\n",
        "\n",
        "df['Score_19 bin']= df['Score_19 bin'].astype('category')\n",
        "df['GDP_19 bin']= df['GDP_19 bin'].astype('category')\n",
        "df['Social_19 bin']= df['Social_19 bin'].astype('category')\n",
        "df['Health_19 bin']=df['Health_19 bin'].astype('category')\n",
        "df['Agency_19 bin']=df['Agency_19 bin'].astype('category')\n",
        "df['Generosity_19 bin']= df['Generosity_19 bin'].astype('category')\n",
        "df['Corruption_19 bin']= df['Corruption_19 bin'].astype('category')\n",
        "df['Population_19 bin']= df['Population_19 bin'].astype('category')"
      ],
      "execution_count": null,
      "outputs": []
    },
    {
      "cell_type": "code",
      "metadata": {
        "colab": {
          "base_uri": "https://localhost:8080/"
        },
        "id": "wYpw45FTIkCe",
        "outputId": "a1a2eb74-27d3-4d26-da2f-a4112f547d08"
      },
      "source": [
        "df.info()"
      ],
      "execution_count": null,
      "outputs": [
        {
          "output_type": "stream",
          "text": [
            "<class 'pandas.core.frame.DataFrame'>\n",
            "Int64Index: 156 entries, 0 to 155\n",
            "Data columns (total 20 columns):\n",
            " #   Column             Non-Null Count  Dtype   \n",
            "---  ------             --------------  -----   \n",
            " 0   Score_x            156 non-null    float64 \n",
            " 1   Score_y            152 non-null    float64 \n",
            " 2   ∆Score             152 non-null    float64 \n",
            " 3   class              156 non-null    int64   \n",
            " 4   Score_18 bin       156 non-null    category\n",
            " 5   GDP_18 bin         156 non-null    category\n",
            " 6   Social_18 bin      156 non-null    category\n",
            " 7   Health_18 bin      156 non-null    category\n",
            " 8   Agency_18 bin      156 non-null    category\n",
            " 9   Generosity_18 bin  156 non-null    category\n",
            " 10  Corruption_18 bin  156 non-null    category\n",
            " 11  Population_18 bin  156 non-null    category\n",
            " 12  Score_19 bin       156 non-null    category\n",
            " 13  GDP_19 bin         156 non-null    category\n",
            " 14  Social_19 bin      156 non-null    category\n",
            " 15  Health_19 bin      156 non-null    category\n",
            " 16  Agency_19 bin      156 non-null    category\n",
            " 17  Generosity_19 bin  156 non-null    category\n",
            " 18  Corruption_19 bin  156 non-null    category\n",
            " 19  Population_19 bin  156 non-null    category\n",
            "dtypes: category(16), float64(3), int64(1)\n",
            "memory usage: 11.6 KB\n"
          ],
          "name": "stdout"
        }
      ]
    },
    {
      "cell_type": "code",
      "metadata": {
        "colab": {
          "base_uri": "https://localhost:8080/",
          "height": 241
        },
        "id": "pt99A-U2I7Za",
        "outputId": "395b7627-8a6c-4186-b940-198c9fbb41b7"
      },
      "source": [
        "df_Binary = df\n",
        "df_Binary = df_Binary.drop(['Score_x', 'Score_y', '∆Score', 'class','Score_18 bin', 'Score_19 bin'],axis=1)\n",
        "df_Binary = pd.get_dummies(df_Binary)\n",
        "df_Binary.head()"
      ],
      "execution_count": null,
      "outputs": [
        {
          "output_type": "execute_result",
          "data": {
            "text/html": [
              "<div>\n",
              "<style scoped>\n",
              "    .dataframe tbody tr th:only-of-type {\n",
              "        vertical-align: middle;\n",
              "    }\n",
              "\n",
              "    .dataframe tbody tr th {\n",
              "        vertical-align: top;\n",
              "    }\n",
              "\n",
              "    .dataframe thead th {\n",
              "        text-align: right;\n",
              "    }\n",
              "</style>\n",
              "<table border=\"1\" class=\"dataframe\">\n",
              "  <thead>\n",
              "    <tr style=\"text-align: right;\">\n",
              "      <th></th>\n",
              "      <th>GDP_18 bin_0</th>\n",
              "      <th>GDP_18 bin_1</th>\n",
              "      <th>GDP_18 bin_2</th>\n",
              "      <th>GDP_18 bin_3</th>\n",
              "      <th>Social_18 bin_0</th>\n",
              "      <th>Social_18 bin_1</th>\n",
              "      <th>Social_18 bin_2</th>\n",
              "      <th>Social_18 bin_3</th>\n",
              "      <th>Health_18 bin_0</th>\n",
              "      <th>Health_18 bin_1</th>\n",
              "      <th>Health_18 bin_2</th>\n",
              "      <th>Health_18 bin_3</th>\n",
              "      <th>Agency_18 bin_0</th>\n",
              "      <th>Agency_18 bin_1</th>\n",
              "      <th>Agency_18 bin_2</th>\n",
              "      <th>Agency_18 bin_3</th>\n",
              "      <th>Generosity_18 bin_0</th>\n",
              "      <th>Generosity_18 bin_1</th>\n",
              "      <th>Generosity_18 bin_2</th>\n",
              "      <th>Generosity_18 bin_3</th>\n",
              "      <th>Corruption_18 bin_0</th>\n",
              "      <th>Corruption_18 bin_1</th>\n",
              "      <th>Corruption_18 bin_2</th>\n",
              "      <th>Corruption_18 bin_3</th>\n",
              "      <th>Corruption_18 bin_4</th>\n",
              "      <th>Population_18 bin_0</th>\n",
              "      <th>Population_18 bin_1</th>\n",
              "      <th>Population_18 bin_2</th>\n",
              "      <th>Population_18 bin_3</th>\n",
              "      <th>Population_18 bin_4</th>\n",
              "      <th>GDP_19 bin_0</th>\n",
              "      <th>GDP_19 bin_1</th>\n",
              "      <th>GDP_19 bin_2</th>\n",
              "      <th>GDP_19 bin_3</th>\n",
              "      <th>GDP_19 bin_4</th>\n",
              "      <th>Social_19 bin_0</th>\n",
              "      <th>Social_19 bin_1</th>\n",
              "      <th>Social_19 bin_2</th>\n",
              "      <th>Social_19 bin_3</th>\n",
              "      <th>Social_19 bin_4</th>\n",
              "      <th>Health_19 bin_0</th>\n",
              "      <th>Health_19 bin_1</th>\n",
              "      <th>Health_19 bin_2</th>\n",
              "      <th>Health_19 bin_3</th>\n",
              "      <th>Health_19 bin_4</th>\n",
              "      <th>Agency_19 bin_0</th>\n",
              "      <th>Agency_19 bin_1</th>\n",
              "      <th>Agency_19 bin_2</th>\n",
              "      <th>Agency_19 bin_3</th>\n",
              "      <th>Agency_19 bin_4</th>\n",
              "      <th>Generosity_19 bin_0</th>\n",
              "      <th>Generosity_19 bin_1</th>\n",
              "      <th>Generosity_19 bin_2</th>\n",
              "      <th>Generosity_19 bin_3</th>\n",
              "      <th>Generosity_19 bin_4</th>\n",
              "      <th>Corruption_19 bin_0</th>\n",
              "      <th>Corruption_19 bin_1</th>\n",
              "      <th>Corruption_19 bin_2</th>\n",
              "      <th>Corruption_19 bin_3</th>\n",
              "      <th>Corruption_19 bin_4</th>\n",
              "      <th>Population_19 bin_0</th>\n",
              "      <th>Population_19 bin_1</th>\n",
              "      <th>Population_19 bin_2</th>\n",
              "      <th>Population_19 bin_3</th>\n",
              "      <th>Population_19 bin_4</th>\n",
              "    </tr>\n",
              "  </thead>\n",
              "  <tbody>\n",
              "    <tr>\n",
              "      <th>0</th>\n",
              "      <td>0</td>\n",
              "      <td>0</td>\n",
              "      <td>0</td>\n",
              "      <td>1</td>\n",
              "      <td>0</td>\n",
              "      <td>0</td>\n",
              "      <td>0</td>\n",
              "      <td>1</td>\n",
              "      <td>0</td>\n",
              "      <td>0</td>\n",
              "      <td>0</td>\n",
              "      <td>1</td>\n",
              "      <td>0</td>\n",
              "      <td>0</td>\n",
              "      <td>0</td>\n",
              "      <td>1</td>\n",
              "      <td>0</td>\n",
              "      <td>0</td>\n",
              "      <td>1</td>\n",
              "      <td>0</td>\n",
              "      <td>0</td>\n",
              "      <td>0</td>\n",
              "      <td>0</td>\n",
              "      <td>1</td>\n",
              "      <td>0</td>\n",
              "      <td>0</td>\n",
              "      <td>0</td>\n",
              "      <td>0</td>\n",
              "      <td>1</td>\n",
              "      <td>0</td>\n",
              "      <td>0</td>\n",
              "      <td>0</td>\n",
              "      <td>0</td>\n",
              "      <td>1</td>\n",
              "      <td>0</td>\n",
              "      <td>0</td>\n",
              "      <td>0</td>\n",
              "      <td>0</td>\n",
              "      <td>1</td>\n",
              "      <td>0</td>\n",
              "      <td>0</td>\n",
              "      <td>0</td>\n",
              "      <td>0</td>\n",
              "      <td>1</td>\n",
              "      <td>0</td>\n",
              "      <td>0</td>\n",
              "      <td>0</td>\n",
              "      <td>0</td>\n",
              "      <td>1</td>\n",
              "      <td>0</td>\n",
              "      <td>0</td>\n",
              "      <td>1</td>\n",
              "      <td>0</td>\n",
              "      <td>0</td>\n",
              "      <td>0</td>\n",
              "      <td>0</td>\n",
              "      <td>0</td>\n",
              "      <td>0</td>\n",
              "      <td>1</td>\n",
              "      <td>0</td>\n",
              "      <td>0</td>\n",
              "      <td>0</td>\n",
              "      <td>0</td>\n",
              "      <td>1</td>\n",
              "      <td>0</td>\n",
              "    </tr>\n",
              "    <tr>\n",
              "      <th>1</th>\n",
              "      <td>0</td>\n",
              "      <td>0</td>\n",
              "      <td>0</td>\n",
              "      <td>1</td>\n",
              "      <td>0</td>\n",
              "      <td>0</td>\n",
              "      <td>0</td>\n",
              "      <td>1</td>\n",
              "      <td>0</td>\n",
              "      <td>0</td>\n",
              "      <td>0</td>\n",
              "      <td>1</td>\n",
              "      <td>0</td>\n",
              "      <td>0</td>\n",
              "      <td>0</td>\n",
              "      <td>1</td>\n",
              "      <td>0</td>\n",
              "      <td>0</td>\n",
              "      <td>0</td>\n",
              "      <td>1</td>\n",
              "      <td>0</td>\n",
              "      <td>0</td>\n",
              "      <td>0</td>\n",
              "      <td>1</td>\n",
              "      <td>0</td>\n",
              "      <td>0</td>\n",
              "      <td>0</td>\n",
              "      <td>0</td>\n",
              "      <td>1</td>\n",
              "      <td>0</td>\n",
              "      <td>0</td>\n",
              "      <td>0</td>\n",
              "      <td>0</td>\n",
              "      <td>1</td>\n",
              "      <td>0</td>\n",
              "      <td>0</td>\n",
              "      <td>0</td>\n",
              "      <td>0</td>\n",
              "      <td>1</td>\n",
              "      <td>0</td>\n",
              "      <td>0</td>\n",
              "      <td>0</td>\n",
              "      <td>0</td>\n",
              "      <td>1</td>\n",
              "      <td>0</td>\n",
              "      <td>0</td>\n",
              "      <td>0</td>\n",
              "      <td>0</td>\n",
              "      <td>1</td>\n",
              "      <td>0</td>\n",
              "      <td>0</td>\n",
              "      <td>0</td>\n",
              "      <td>0</td>\n",
              "      <td>1</td>\n",
              "      <td>0</td>\n",
              "      <td>0</td>\n",
              "      <td>0</td>\n",
              "      <td>0</td>\n",
              "      <td>1</td>\n",
              "      <td>0</td>\n",
              "      <td>0</td>\n",
              "      <td>0</td>\n",
              "      <td>0</td>\n",
              "      <td>1</td>\n",
              "      <td>0</td>\n",
              "    </tr>\n",
              "    <tr>\n",
              "      <th>2</th>\n",
              "      <td>0</td>\n",
              "      <td>0</td>\n",
              "      <td>0</td>\n",
              "      <td>1</td>\n",
              "      <td>0</td>\n",
              "      <td>0</td>\n",
              "      <td>0</td>\n",
              "      <td>1</td>\n",
              "      <td>0</td>\n",
              "      <td>0</td>\n",
              "      <td>0</td>\n",
              "      <td>1</td>\n",
              "      <td>0</td>\n",
              "      <td>0</td>\n",
              "      <td>0</td>\n",
              "      <td>1</td>\n",
              "      <td>0</td>\n",
              "      <td>0</td>\n",
              "      <td>0</td>\n",
              "      <td>1</td>\n",
              "      <td>0</td>\n",
              "      <td>0</td>\n",
              "      <td>0</td>\n",
              "      <td>1</td>\n",
              "      <td>0</td>\n",
              "      <td>0</td>\n",
              "      <td>0</td>\n",
              "      <td>0</td>\n",
              "      <td>1</td>\n",
              "      <td>0</td>\n",
              "      <td>0</td>\n",
              "      <td>0</td>\n",
              "      <td>0</td>\n",
              "      <td>1</td>\n",
              "      <td>0</td>\n",
              "      <td>0</td>\n",
              "      <td>0</td>\n",
              "      <td>0</td>\n",
              "      <td>1</td>\n",
              "      <td>0</td>\n",
              "      <td>0</td>\n",
              "      <td>0</td>\n",
              "      <td>0</td>\n",
              "      <td>1</td>\n",
              "      <td>0</td>\n",
              "      <td>0</td>\n",
              "      <td>0</td>\n",
              "      <td>0</td>\n",
              "      <td>1</td>\n",
              "      <td>0</td>\n",
              "      <td>0</td>\n",
              "      <td>0</td>\n",
              "      <td>0</td>\n",
              "      <td>1</td>\n",
              "      <td>0</td>\n",
              "      <td>0</td>\n",
              "      <td>0</td>\n",
              "      <td>0</td>\n",
              "      <td>1</td>\n",
              "      <td>0</td>\n",
              "      <td>0</td>\n",
              "      <td>0</td>\n",
              "      <td>0</td>\n",
              "      <td>1</td>\n",
              "      <td>0</td>\n",
              "    </tr>\n",
              "    <tr>\n",
              "      <th>3</th>\n",
              "      <td>0</td>\n",
              "      <td>0</td>\n",
              "      <td>0</td>\n",
              "      <td>1</td>\n",
              "      <td>0</td>\n",
              "      <td>0</td>\n",
              "      <td>0</td>\n",
              "      <td>1</td>\n",
              "      <td>0</td>\n",
              "      <td>0</td>\n",
              "      <td>0</td>\n",
              "      <td>1</td>\n",
              "      <td>0</td>\n",
              "      <td>0</td>\n",
              "      <td>0</td>\n",
              "      <td>1</td>\n",
              "      <td>0</td>\n",
              "      <td>0</td>\n",
              "      <td>0</td>\n",
              "      <td>1</td>\n",
              "      <td>0</td>\n",
              "      <td>0</td>\n",
              "      <td>0</td>\n",
              "      <td>1</td>\n",
              "      <td>0</td>\n",
              "      <td>0</td>\n",
              "      <td>0</td>\n",
              "      <td>1</td>\n",
              "      <td>0</td>\n",
              "      <td>0</td>\n",
              "      <td>0</td>\n",
              "      <td>0</td>\n",
              "      <td>0</td>\n",
              "      <td>1</td>\n",
              "      <td>0</td>\n",
              "      <td>0</td>\n",
              "      <td>0</td>\n",
              "      <td>0</td>\n",
              "      <td>1</td>\n",
              "      <td>0</td>\n",
              "      <td>0</td>\n",
              "      <td>0</td>\n",
              "      <td>0</td>\n",
              "      <td>1</td>\n",
              "      <td>0</td>\n",
              "      <td>0</td>\n",
              "      <td>0</td>\n",
              "      <td>0</td>\n",
              "      <td>1</td>\n",
              "      <td>0</td>\n",
              "      <td>0</td>\n",
              "      <td>0</td>\n",
              "      <td>0</td>\n",
              "      <td>1</td>\n",
              "      <td>0</td>\n",
              "      <td>0</td>\n",
              "      <td>0</td>\n",
              "      <td>1</td>\n",
              "      <td>0</td>\n",
              "      <td>0</td>\n",
              "      <td>0</td>\n",
              "      <td>0</td>\n",
              "      <td>1</td>\n",
              "      <td>0</td>\n",
              "      <td>0</td>\n",
              "    </tr>\n",
              "    <tr>\n",
              "      <th>4</th>\n",
              "      <td>0</td>\n",
              "      <td>0</td>\n",
              "      <td>0</td>\n",
              "      <td>1</td>\n",
              "      <td>0</td>\n",
              "      <td>0</td>\n",
              "      <td>0</td>\n",
              "      <td>1</td>\n",
              "      <td>0</td>\n",
              "      <td>0</td>\n",
              "      <td>0</td>\n",
              "      <td>1</td>\n",
              "      <td>0</td>\n",
              "      <td>0</td>\n",
              "      <td>0</td>\n",
              "      <td>1</td>\n",
              "      <td>0</td>\n",
              "      <td>0</td>\n",
              "      <td>0</td>\n",
              "      <td>1</td>\n",
              "      <td>0</td>\n",
              "      <td>0</td>\n",
              "      <td>0</td>\n",
              "      <td>1</td>\n",
              "      <td>0</td>\n",
              "      <td>0</td>\n",
              "      <td>0</td>\n",
              "      <td>0</td>\n",
              "      <td>1</td>\n",
              "      <td>0</td>\n",
              "      <td>0</td>\n",
              "      <td>0</td>\n",
              "      <td>0</td>\n",
              "      <td>1</td>\n",
              "      <td>0</td>\n",
              "      <td>0</td>\n",
              "      <td>0</td>\n",
              "      <td>0</td>\n",
              "      <td>1</td>\n",
              "      <td>0</td>\n",
              "      <td>0</td>\n",
              "      <td>0</td>\n",
              "      <td>0</td>\n",
              "      <td>1</td>\n",
              "      <td>0</td>\n",
              "      <td>0</td>\n",
              "      <td>0</td>\n",
              "      <td>0</td>\n",
              "      <td>1</td>\n",
              "      <td>0</td>\n",
              "      <td>0</td>\n",
              "      <td>0</td>\n",
              "      <td>0</td>\n",
              "      <td>1</td>\n",
              "      <td>0</td>\n",
              "      <td>0</td>\n",
              "      <td>0</td>\n",
              "      <td>0</td>\n",
              "      <td>1</td>\n",
              "      <td>0</td>\n",
              "      <td>0</td>\n",
              "      <td>0</td>\n",
              "      <td>0</td>\n",
              "      <td>1</td>\n",
              "      <td>0</td>\n",
              "    </tr>\n",
              "  </tbody>\n",
              "</table>\n",
              "</div>"
            ],
            "text/plain": [
              "   GDP_18 bin_0  GDP_18 bin_1  ...  Population_19 bin_3  Population_19 bin_4\n",
              "0             0             0  ...                    1                    0\n",
              "1             0             0  ...                    1                    0\n",
              "2             0             0  ...                    1                    0\n",
              "3             0             0  ...                    0                    0\n",
              "4             0             0  ...                    1                    0\n",
              "\n",
              "[5 rows x 65 columns]"
            ]
          },
          "metadata": {
            "tags": []
          },
          "execution_count": 226
        }
      ]
    },
    {
      "cell_type": "code",
      "metadata": {
        "colab": {
          "base_uri": "https://localhost:8080/"
        },
        "id": "-z8EBDOqJv3N",
        "outputId": "6ca4ff51-9343-47e7-88df-9371cb8220cc"
      },
      "source": [
        "Happiness_Binary={}\n",
        "Happiness_Binary['feature_names']= df_Binary.columns.values\n",
        "Happiness_Binary['n_features'] = len(df_Binary.columns.values)\n",
        "Happiness_Binary['data']=df_Binary.values\n",
        "Happiness_Binary['target_names']=Y['class'].unique()\n",
        "Happiness_Binary['target']=Y['class'].values\n",
        "Happiness_Binary['n_features']"
      ],
      "execution_count": null,
      "outputs": [
        {
          "output_type": "execute_result",
          "data": {
            "text/plain": [
              "65"
            ]
          },
          "metadata": {
            "tags": []
          },
          "execution_count": 227
        }
      ]
    },
    {
      "cell_type": "markdown",
      "metadata": {
        "id": "QQN2NbvNKGUe"
      },
      "source": [
        "Perform Chi-Square Feature Selection"
      ]
    },
    {
      "cell_type": "code",
      "metadata": {
        "colab": {
          "base_uri": "https://localhost:8080/"
        },
        "id": "101NnivkJbCy",
        "outputId": "e5a7cf39-3d6f-4e96-8970-aaa2caccafcb"
      },
      "source": [
        "selector = SelectKBest(chi2,k=10)\n",
        "Happiness_Binary['new_data_chi'] = selector.fit_transform(Happiness_Binary['data'], Happiness_Binary['target'])\n",
        "mask = selector.get_support()\n",
        "Happiness_Binary['new_feature_names_chi']=Happiness_Binary['feature_names'][mask]\n",
        "Happiness_Binary['new_data_chi'].shape"
      ],
      "execution_count": null,
      "outputs": [
        {
          "output_type": "execute_result",
          "data": {
            "text/plain": [
              "(156, 10)"
            ]
          },
          "metadata": {
            "tags": []
          },
          "execution_count": 228
        }
      ]
    },
    {
      "cell_type": "code",
      "metadata": {
        "colab": {
          "base_uri": "https://localhost:8080/"
        },
        "id": "dy6znPw3Khay",
        "outputId": "01b7120e-05b7-484f-9822-5663ba1e35b5"
      },
      "source": [
        "Happiness_Binary['new_feature_names_chi'] #selected top 10 by performing chi2"
      ],
      "execution_count": null,
      "outputs": [
        {
          "output_type": "execute_result",
          "data": {
            "text/plain": [
              "array(['GDP_18 bin_2', 'Corruption_18 bin_0', 'Population_18 bin_1',\n",
              "       'Population_18 bin_2', 'GDP_19 bin_2', 'Health_19 bin_4',\n",
              "       'Agency_19 bin_4', 'Generosity_19 bin_4', 'Corruption_19 bin_4',\n",
              "       'Population_19 bin_1'], dtype=object)"
            ]
          },
          "metadata": {
            "tags": []
          },
          "execution_count": 229
        }
      ]
    },
    {
      "cell_type": "markdown",
      "metadata": {
        "id": "zvSaq62eLCBA"
      },
      "source": [
        "Naive Bayes classification on original binary dataset"
      ]
    },
    {
      "cell_type": "code",
      "metadata": {
        "colab": {
          "base_uri": "https://localhost:8080/"
        },
        "id": "dJPLyG_3Kj3v",
        "outputId": "901c7131-7b8c-4686-a6e7-61b024472092"
      },
      "source": [
        "NB_M = MultinomialNB()\n",
        "scores_old = cross_val_score(NB_M, Happiness_Binary['data'], Happiness_Binary['target'],cv=10, scoring='accuracy')\n",
        "print(scores_old)\n",
        "print('Accuracy: %0.2f (+/- %0.2f)' % (scores_old.mean(),scores_old.std()*2))"
      ],
      "execution_count": null,
      "outputs": [
        {
          "output_type": "stream",
          "text": [
            "[0.5625     0.5625     0.6875     0.5        0.5        0.5625\n",
            " 0.66666667 0.66666667 0.73333333 0.6       ]\n",
            "Accuracy: 0.60 (+/- 0.15)\n"
          ],
          "name": "stdout"
        }
      ]
    },
    {
      "cell_type": "markdown",
      "metadata": {
        "id": "Cw0tD9K7LGea"
      },
      "source": [
        "Naive Bayes classification on dataset with only 10 features"
      ]
    },
    {
      "cell_type": "code",
      "metadata": {
        "colab": {
          "base_uri": "https://localhost:8080/"
        },
        "id": "bdWN5fIjKmA5",
        "outputId": "385f3dad-58c5-4c09-c68c-18dcedde6c20"
      },
      "source": [
        "scores_new_chi = cross_val_score(NB_M, Happiness_Binary['new_data_chi'], Happiness_Binary['target'],cv=10, scoring='accuracy')\n",
        "print(scores_new_chi)\n",
        "print('Accuracy: %0.2f (+/- %0.2f)' % (scores_new_chi.mean(),scores_new_chi.std()*2))"
      ],
      "execution_count": null,
      "outputs": [
        {
          "output_type": "stream",
          "text": [
            "[0.625      0.6875     0.625      0.625      0.75       0.6875\n",
            " 0.8        0.8        0.66666667 0.6       ]\n",
            "Accuracy: 0.69 (+/- 0.14)\n"
          ],
          "name": "stdout"
        }
      ]
    },
    {
      "cell_type": "markdown",
      "metadata": {
        "id": "D8bJQhVJLjVf"
      },
      "source": [
        "Try with 5, just to see if accuracy improves"
      ]
    },
    {
      "cell_type": "code",
      "metadata": {
        "colab": {
          "base_uri": "https://localhost:8080/"
        },
        "id": "9TVqplGcLTh9",
        "outputId": "d49fa502-890d-4a18-8207-4041555886ff"
      },
      "source": [
        "selector = SelectKBest(chi2,k=5)\n",
        "Happiness_Binary['new_data_chi_5'] = selector.fit_transform(Happiness_Binary['data'], Happiness_Binary['target'])\n",
        "mask = selector.get_support()\n",
        "Happiness_Binary['new_feature_names_chi_5']=Happiness_Binary['feature_names'][mask]\n",
        "Happiness_Binary['new_data_chi_5'].shape"
      ],
      "execution_count": null,
      "outputs": [
        {
          "output_type": "execute_result",
          "data": {
            "text/plain": [
              "(156, 5)"
            ]
          },
          "metadata": {
            "tags": []
          },
          "execution_count": 232
        }
      ]
    },
    {
      "cell_type": "code",
      "metadata": {
        "colab": {
          "base_uri": "https://localhost:8080/"
        },
        "id": "pOdAcp77Lnsm",
        "outputId": "dd452804-43e8-4902-f028-99807ffd9f03"
      },
      "source": [
        "scores_new_chi = cross_val_score(NB_M, Happiness_Binary['new_data_chi_5'], Happiness_Binary['target'],cv=10, scoring='accuracy')\n",
        "print(scores_new_chi)\n",
        "print('Accuracy: %0.2f (+/- %0.2f)' % (scores_new_chi.mean(),scores_new_chi.std()*2))"
      ],
      "execution_count": null,
      "outputs": [
        {
          "output_type": "stream",
          "text": [
            "[0.5625     0.625      0.5        0.5        0.5625     0.5625\n",
            " 0.66666667 0.73333333 0.66666667 0.66666667]\n",
            "Accuracy: 0.60 (+/- 0.15)\n"
          ],
          "name": "stdout"
        }
      ]
    },
    {
      "cell_type": "markdown",
      "metadata": {
        "id": "TXqesz3TL2KN"
      },
      "source": [
        "Try with 15"
      ]
    },
    {
      "cell_type": "code",
      "metadata": {
        "colab": {
          "base_uri": "https://localhost:8080/"
        },
        "id": "ppoPulG0L3Uf",
        "outputId": "7342ac8c-7a98-4466-bf6a-cd54c6d53d21"
      },
      "source": [
        "selector = SelectKBest(chi2,k=15)\n",
        "Happiness_Binary['new_data_chi_15'] = selector.fit_transform(Happiness_Binary['data'], Happiness_Binary['target'])\n",
        "mask = selector.get_support()\n",
        "Happiness_Binary['new_feature_names_chi_15']=Happiness_Binary['feature_names'][mask]\n",
        "Happiness_Binary['new_data_chi_15'].shape"
      ],
      "execution_count": null,
      "outputs": [
        {
          "output_type": "execute_result",
          "data": {
            "text/plain": [
              "(156, 15)"
            ]
          },
          "metadata": {
            "tags": []
          },
          "execution_count": 234
        }
      ]
    },
    {
      "cell_type": "code",
      "metadata": {
        "colab": {
          "base_uri": "https://localhost:8080/"
        },
        "id": "KhCMdPt7L8eT",
        "outputId": "c3f7bbe8-794d-4d81-e84c-9d5185407a23"
      },
      "source": [
        "scores_new_chi = cross_val_score(NB_M, Happiness_Binary['new_data_chi_15'], Happiness_Binary['target'],cv=10, scoring='accuracy')\n",
        "print(scores_new_chi)\n",
        "print('Accuracy: %0.2f (+/- %0.2f)' % (scores_new_chi.mean(),scores_new_chi.std()*2))"
      ],
      "execution_count": null,
      "outputs": [
        {
          "output_type": "stream",
          "text": [
            "[0.625      0.6875     0.5625     0.5625     0.75       0.75\n",
            " 0.73333333 0.8        0.66666667 0.6       ]\n",
            "Accuracy: 0.67 (+/- 0.16)\n"
          ],
          "name": "stdout"
        }
      ]
    },
    {
      "cell_type": "markdown",
      "metadata": {
        "id": "iaYp87Rin5MU"
      },
      "source": [
        "Also tried with EF bins of 6 and 8. 4 bins gives highest accuracy"
      ]
    },
    {
      "cell_type": "markdown",
      "metadata": {
        "id": "g24E4eThMN28"
      },
      "source": [
        "We are going to use k=10, since that has the largest increase in accuracy:"
      ]
    },
    {
      "cell_type": "code",
      "metadata": {
        "colab": {
          "base_uri": "https://localhost:8080/"
        },
        "id": "ji8i-fetRs_i",
        "outputId": "dae59225-e17b-4ff6-b1cd-2dd88b393ce0"
      },
      "source": [
        "Happiness_Binary['new_feature_names_chi'] #selected top 10 features by performing chi2"
      ],
      "execution_count": null,
      "outputs": [
        {
          "output_type": "execute_result",
          "data": {
            "text/plain": [
              "array(['GDP_18 bin_2', 'Corruption_18 bin_0', 'Population_18 bin_1',\n",
              "       'Population_18 bin_2', 'GDP_19 bin_2', 'Health_19 bin_4',\n",
              "       'Agency_19 bin_4', 'Generosity_19 bin_4', 'Corruption_19 bin_4',\n",
              "       'Population_19 bin_1'], dtype=object)"
            ]
          },
          "metadata": {
            "tags": []
          },
          "execution_count": 236
        }
      ]
    },
    {
      "cell_type": "code",
      "metadata": {
        "id": "-DqLOueUSnxX"
      },
      "source": [
        "df_top_10 = df_Binary[['GDP_18 bin_2', 'Corruption_18 bin_0', 'Population_18 bin_1',\n",
        "       'Population_18 bin_2', 'GDP_19 bin_2', 'Health_19 bin_2',\n",
        "       'Agency_19 bin_4', 'Generosity_19 bin_4', 'Corruption_19 bin_4',\n",
        "       'Population_19 bin_1']]"
      ],
      "execution_count": null,
      "outputs": []
    },
    {
      "cell_type": "code",
      "metadata": {
        "colab": {
          "base_uri": "https://localhost:8080/",
          "height": 241
        },
        "id": "pQwFNDdLYtEY",
        "outputId": "694fd215-e994-4fad-c310-610f49e5aa50"
      },
      "source": [
        "df_top_10.head()"
      ],
      "execution_count": null,
      "outputs": [
        {
          "output_type": "execute_result",
          "data": {
            "text/html": [
              "<div>\n",
              "<style scoped>\n",
              "    .dataframe tbody tr th:only-of-type {\n",
              "        vertical-align: middle;\n",
              "    }\n",
              "\n",
              "    .dataframe tbody tr th {\n",
              "        vertical-align: top;\n",
              "    }\n",
              "\n",
              "    .dataframe thead th {\n",
              "        text-align: right;\n",
              "    }\n",
              "</style>\n",
              "<table border=\"1\" class=\"dataframe\">\n",
              "  <thead>\n",
              "    <tr style=\"text-align: right;\">\n",
              "      <th></th>\n",
              "      <th>GDP_18 bin_2</th>\n",
              "      <th>Corruption_18 bin_0</th>\n",
              "      <th>Population_18 bin_1</th>\n",
              "      <th>Population_18 bin_2</th>\n",
              "      <th>GDP_19 bin_2</th>\n",
              "      <th>Health_19 bin_2</th>\n",
              "      <th>Agency_19 bin_4</th>\n",
              "      <th>Generosity_19 bin_4</th>\n",
              "      <th>Corruption_19 bin_4</th>\n",
              "      <th>Population_19 bin_1</th>\n",
              "    </tr>\n",
              "  </thead>\n",
              "  <tbody>\n",
              "    <tr>\n",
              "      <th>0</th>\n",
              "      <td>0</td>\n",
              "      <td>0</td>\n",
              "      <td>0</td>\n",
              "      <td>0</td>\n",
              "      <td>0</td>\n",
              "      <td>0</td>\n",
              "      <td>0</td>\n",
              "      <td>0</td>\n",
              "      <td>0</td>\n",
              "      <td>0</td>\n",
              "    </tr>\n",
              "    <tr>\n",
              "      <th>1</th>\n",
              "      <td>0</td>\n",
              "      <td>0</td>\n",
              "      <td>0</td>\n",
              "      <td>0</td>\n",
              "      <td>0</td>\n",
              "      <td>0</td>\n",
              "      <td>0</td>\n",
              "      <td>0</td>\n",
              "      <td>0</td>\n",
              "      <td>0</td>\n",
              "    </tr>\n",
              "    <tr>\n",
              "      <th>2</th>\n",
              "      <td>0</td>\n",
              "      <td>0</td>\n",
              "      <td>0</td>\n",
              "      <td>0</td>\n",
              "      <td>0</td>\n",
              "      <td>0</td>\n",
              "      <td>0</td>\n",
              "      <td>0</td>\n",
              "      <td>0</td>\n",
              "      <td>0</td>\n",
              "    </tr>\n",
              "    <tr>\n",
              "      <th>3</th>\n",
              "      <td>0</td>\n",
              "      <td>0</td>\n",
              "      <td>0</td>\n",
              "      <td>1</td>\n",
              "      <td>0</td>\n",
              "      <td>0</td>\n",
              "      <td>0</td>\n",
              "      <td>0</td>\n",
              "      <td>0</td>\n",
              "      <td>0</td>\n",
              "    </tr>\n",
              "    <tr>\n",
              "      <th>4</th>\n",
              "      <td>0</td>\n",
              "      <td>0</td>\n",
              "      <td>0</td>\n",
              "      <td>0</td>\n",
              "      <td>0</td>\n",
              "      <td>0</td>\n",
              "      <td>0</td>\n",
              "      <td>0</td>\n",
              "      <td>0</td>\n",
              "      <td>0</td>\n",
              "    </tr>\n",
              "  </tbody>\n",
              "</table>\n",
              "</div>"
            ],
            "text/plain": [
              "   GDP_18 bin_2  Corruption_18 bin_0  ...  Corruption_19 bin_4  Population_19 bin_1\n",
              "0             0                    0  ...                    0                    0\n",
              "1             0                    0  ...                    0                    0\n",
              "2             0                    0  ...                    0                    0\n",
              "3             0                    0  ...                    0                    0\n",
              "4             0                    0  ...                    0                    0\n",
              "\n",
              "[5 rows x 10 columns]"
            ]
          },
          "metadata": {
            "tags": []
          },
          "execution_count": 238
        }
      ]
    },
    {
      "cell_type": "code",
      "metadata": {
        "colab": {
          "base_uri": "https://localhost:8080/",
          "height": 241
        },
        "id": "16Oc-L3fSvdf",
        "outputId": "378d8d1b-5fd1-4feb-850b-290b95a3e838"
      },
      "source": [
        "df_top_10.tail()"
      ],
      "execution_count": null,
      "outputs": [
        {
          "output_type": "execute_result",
          "data": {
            "text/html": [
              "<div>\n",
              "<style scoped>\n",
              "    .dataframe tbody tr th:only-of-type {\n",
              "        vertical-align: middle;\n",
              "    }\n",
              "\n",
              "    .dataframe tbody tr th {\n",
              "        vertical-align: top;\n",
              "    }\n",
              "\n",
              "    .dataframe thead th {\n",
              "        text-align: right;\n",
              "    }\n",
              "</style>\n",
              "<table border=\"1\" class=\"dataframe\">\n",
              "  <thead>\n",
              "    <tr style=\"text-align: right;\">\n",
              "      <th></th>\n",
              "      <th>GDP_18 bin_2</th>\n",
              "      <th>Corruption_18 bin_0</th>\n",
              "      <th>Population_18 bin_1</th>\n",
              "      <th>Population_18 bin_2</th>\n",
              "      <th>GDP_19 bin_2</th>\n",
              "      <th>Health_19 bin_2</th>\n",
              "      <th>Agency_19 bin_4</th>\n",
              "      <th>Generosity_19 bin_4</th>\n",
              "      <th>Corruption_19 bin_4</th>\n",
              "      <th>Population_19 bin_1</th>\n",
              "    </tr>\n",
              "  </thead>\n",
              "  <tbody>\n",
              "    <tr>\n",
              "      <th>151</th>\n",
              "      <td>0</td>\n",
              "      <td>0</td>\n",
              "      <td>0</td>\n",
              "      <td>0</td>\n",
              "      <td>0</td>\n",
              "      <td>0</td>\n",
              "      <td>0</td>\n",
              "      <td>0</td>\n",
              "      <td>0</td>\n",
              "      <td>0</td>\n",
              "    </tr>\n",
              "    <tr>\n",
              "      <th>152</th>\n",
              "      <td>0</td>\n",
              "      <td>0</td>\n",
              "      <td>0</td>\n",
              "      <td>0</td>\n",
              "      <td>0</td>\n",
              "      <td>0</td>\n",
              "      <td>0</td>\n",
              "      <td>0</td>\n",
              "      <td>0</td>\n",
              "      <td>0</td>\n",
              "    </tr>\n",
              "    <tr>\n",
              "      <th>153</th>\n",
              "      <td>0</td>\n",
              "      <td>0</td>\n",
              "      <td>0</td>\n",
              "      <td>0</td>\n",
              "      <td>0</td>\n",
              "      <td>0</td>\n",
              "      <td>0</td>\n",
              "      <td>0</td>\n",
              "      <td>0</td>\n",
              "      <td>0</td>\n",
              "    </tr>\n",
              "    <tr>\n",
              "      <th>154</th>\n",
              "      <td>0</td>\n",
              "      <td>1</td>\n",
              "      <td>0</td>\n",
              "      <td>1</td>\n",
              "      <td>0</td>\n",
              "      <td>0</td>\n",
              "      <td>0</td>\n",
              "      <td>0</td>\n",
              "      <td>0</td>\n",
              "      <td>0</td>\n",
              "    </tr>\n",
              "    <tr>\n",
              "      <th>155</th>\n",
              "      <td>0</td>\n",
              "      <td>0</td>\n",
              "      <td>0</td>\n",
              "      <td>0</td>\n",
              "      <td>0</td>\n",
              "      <td>0</td>\n",
              "      <td>0</td>\n",
              "      <td>0</td>\n",
              "      <td>0</td>\n",
              "      <td>0</td>\n",
              "    </tr>\n",
              "  </tbody>\n",
              "</table>\n",
              "</div>"
            ],
            "text/plain": [
              "     GDP_18 bin_2  ...  Population_19 bin_1\n",
              "151             0  ...                    0\n",
              "152             0  ...                    0\n",
              "153             0  ...                    0\n",
              "154             0  ...                    0\n",
              "155             0  ...                    0\n",
              "\n",
              "[5 rows x 10 columns]"
            ]
          },
          "metadata": {
            "tags": []
          },
          "execution_count": 239
        }
      ]
    },
    {
      "cell_type": "code",
      "metadata": {
        "colab": {
          "base_uri": "https://localhost:8080/",
          "height": 334
        },
        "id": "k4FJrlMDUo6T",
        "outputId": "07cb34b3-e1ba-49c8-a4cc-f5d2c834606b"
      },
      "source": [
        "df_top_10.describe()"
      ],
      "execution_count": null,
      "outputs": [
        {
          "output_type": "execute_result",
          "data": {
            "text/html": [
              "<div>\n",
              "<style scoped>\n",
              "    .dataframe tbody tr th:only-of-type {\n",
              "        vertical-align: middle;\n",
              "    }\n",
              "\n",
              "    .dataframe tbody tr th {\n",
              "        vertical-align: top;\n",
              "    }\n",
              "\n",
              "    .dataframe thead th {\n",
              "        text-align: right;\n",
              "    }\n",
              "</style>\n",
              "<table border=\"1\" class=\"dataframe\">\n",
              "  <thead>\n",
              "    <tr style=\"text-align: right;\">\n",
              "      <th></th>\n",
              "      <th>GDP_18 bin_2</th>\n",
              "      <th>Corruption_18 bin_0</th>\n",
              "      <th>Population_18 bin_1</th>\n",
              "      <th>Population_18 bin_2</th>\n",
              "      <th>GDP_19 bin_2</th>\n",
              "      <th>Health_19 bin_2</th>\n",
              "      <th>Agency_19 bin_4</th>\n",
              "      <th>Generosity_19 bin_4</th>\n",
              "      <th>Corruption_19 bin_4</th>\n",
              "      <th>Population_19 bin_1</th>\n",
              "    </tr>\n",
              "  </thead>\n",
              "  <tbody>\n",
              "    <tr>\n",
              "      <th>count</th>\n",
              "      <td>156.000000</td>\n",
              "      <td>156.000000</td>\n",
              "      <td>156.000000</td>\n",
              "      <td>156.000000</td>\n",
              "      <td>156.00000</td>\n",
              "      <td>156.00000</td>\n",
              "      <td>156.000000</td>\n",
              "      <td>156.000000</td>\n",
              "      <td>156.000000</td>\n",
              "      <td>156.000000</td>\n",
              "    </tr>\n",
              "    <tr>\n",
              "      <th>mean</th>\n",
              "      <td>0.250000</td>\n",
              "      <td>0.256410</td>\n",
              "      <td>0.217949</td>\n",
              "      <td>0.217949</td>\n",
              "      <td>0.24359</td>\n",
              "      <td>0.24359</td>\n",
              "      <td>0.025641</td>\n",
              "      <td>0.025641</td>\n",
              "      <td>0.025641</td>\n",
              "      <td>0.211538</td>\n",
              "    </tr>\n",
              "    <tr>\n",
              "      <th>std</th>\n",
              "      <td>0.434407</td>\n",
              "      <td>0.438057</td>\n",
              "      <td>0.414182</td>\n",
              "      <td>0.414182</td>\n",
              "      <td>0.43063</td>\n",
              "      <td>0.43063</td>\n",
              "      <td>0.158571</td>\n",
              "      <td>0.158571</td>\n",
              "      <td>0.158571</td>\n",
              "      <td>0.409715</td>\n",
              "    </tr>\n",
              "    <tr>\n",
              "      <th>min</th>\n",
              "      <td>0.000000</td>\n",
              "      <td>0.000000</td>\n",
              "      <td>0.000000</td>\n",
              "      <td>0.000000</td>\n",
              "      <td>0.00000</td>\n",
              "      <td>0.00000</td>\n",
              "      <td>0.000000</td>\n",
              "      <td>0.000000</td>\n",
              "      <td>0.000000</td>\n",
              "      <td>0.000000</td>\n",
              "    </tr>\n",
              "    <tr>\n",
              "      <th>25%</th>\n",
              "      <td>0.000000</td>\n",
              "      <td>0.000000</td>\n",
              "      <td>0.000000</td>\n",
              "      <td>0.000000</td>\n",
              "      <td>0.00000</td>\n",
              "      <td>0.00000</td>\n",
              "      <td>0.000000</td>\n",
              "      <td>0.000000</td>\n",
              "      <td>0.000000</td>\n",
              "      <td>0.000000</td>\n",
              "    </tr>\n",
              "    <tr>\n",
              "      <th>50%</th>\n",
              "      <td>0.000000</td>\n",
              "      <td>0.000000</td>\n",
              "      <td>0.000000</td>\n",
              "      <td>0.000000</td>\n",
              "      <td>0.00000</td>\n",
              "      <td>0.00000</td>\n",
              "      <td>0.000000</td>\n",
              "      <td>0.000000</td>\n",
              "      <td>0.000000</td>\n",
              "      <td>0.000000</td>\n",
              "    </tr>\n",
              "    <tr>\n",
              "      <th>75%</th>\n",
              "      <td>0.250000</td>\n",
              "      <td>1.000000</td>\n",
              "      <td>0.000000</td>\n",
              "      <td>0.000000</td>\n",
              "      <td>0.00000</td>\n",
              "      <td>0.00000</td>\n",
              "      <td>0.000000</td>\n",
              "      <td>0.000000</td>\n",
              "      <td>0.000000</td>\n",
              "      <td>0.000000</td>\n",
              "    </tr>\n",
              "    <tr>\n",
              "      <th>max</th>\n",
              "      <td>1.000000</td>\n",
              "      <td>1.000000</td>\n",
              "      <td>1.000000</td>\n",
              "      <td>1.000000</td>\n",
              "      <td>1.00000</td>\n",
              "      <td>1.00000</td>\n",
              "      <td>1.000000</td>\n",
              "      <td>1.000000</td>\n",
              "      <td>1.000000</td>\n",
              "      <td>1.000000</td>\n",
              "    </tr>\n",
              "  </tbody>\n",
              "</table>\n",
              "</div>"
            ],
            "text/plain": [
              "       GDP_18 bin_2  ...  Population_19 bin_1\n",
              "count    156.000000  ...           156.000000\n",
              "mean       0.250000  ...             0.211538\n",
              "std        0.434407  ...             0.409715\n",
              "min        0.000000  ...             0.000000\n",
              "25%        0.000000  ...             0.000000\n",
              "50%        0.000000  ...             0.000000\n",
              "75%        0.250000  ...             0.000000\n",
              "max        1.000000  ...             1.000000\n",
              "\n",
              "[8 rows x 10 columns]"
            ]
          },
          "metadata": {
            "tags": []
          },
          "execution_count": 240
        }
      ]
    },
    {
      "cell_type": "code",
      "metadata": {
        "colab": {
          "base_uri": "https://localhost:8080/"
        },
        "id": "bYkmAMq3ZI6F",
        "outputId": "5b70c718-4352-48ac-fcba-890e60133d9d"
      },
      "source": [
        "df_top_10.info()"
      ],
      "execution_count": null,
      "outputs": [
        {
          "output_type": "stream",
          "text": [
            "<class 'pandas.core.frame.DataFrame'>\n",
            "Int64Index: 156 entries, 0 to 155\n",
            "Data columns (total 10 columns):\n",
            " #   Column               Non-Null Count  Dtype\n",
            "---  ------               --------------  -----\n",
            " 0   GDP_18 bin_2         156 non-null    uint8\n",
            " 1   Corruption_18 bin_0  156 non-null    uint8\n",
            " 2   Population_18 bin_1  156 non-null    uint8\n",
            " 3   Population_18 bin_2  156 non-null    uint8\n",
            " 4   GDP_19 bin_2         156 non-null    uint8\n",
            " 5   Health_19 bin_2      156 non-null    uint8\n",
            " 6   Agency_19 bin_4      156 non-null    uint8\n",
            " 7   Generosity_19 bin_4  156 non-null    uint8\n",
            " 8   Corruption_19 bin_4  156 non-null    uint8\n",
            " 9   Population_19 bin_1  156 non-null    uint8\n",
            "dtypes: uint8(10)\n",
            "memory usage: 2.7 KB\n"
          ],
          "name": "stdout"
        }
      ]
    },
    {
      "cell_type": "code",
      "metadata": {
        "id": "meLuRVP8ZeLk",
        "colab": {
          "base_uri": "https://localhost:8080/"
        },
        "outputId": "27da7afe-640a-4c26-d397-30acc4490b9c"
      },
      "source": [
        "df_top_10['GDP_18 bin_2']= df_top_10['GDP_18 bin_2'].astype('category')\n",
        "df_top_10['Corruption_18 bin_0']= df_top_10['Corruption_18 bin_0'].astype('category')\n",
        "df_top_10['Population_18 bin_1']= df_top_10['Population_18 bin_1'].astype('category')\n",
        "df_top_10['Population_18 bin_2']= df_top_10['Population_18 bin_2'].astype('category')\n",
        "df_top_10['Health_19 bin_2']= df_top_10['Health_19 bin_2'].astype('category')\n",
        "df_top_10['GDP_19 bin_2']= df_top_10['GDP_19 bin_2'].astype('category')\n",
        "df_top_10['Agency_19 bin_4']=df_top_10['Agency_19 bin_4'].astype('category')\n",
        "df_top_10['Generosity_19 bin_4']= df_top_10['Generosity_19 bin_4'].astype('category')\n",
        "df_top_10['Corruption_19 bin_4']= df_top_10['Corruption_19 bin_4'].astype('category')\n",
        "df_top_10['Population_19 bin_1']= df_top_10['Population_19 bin_1'].astype('category')"
      ],
      "execution_count": null,
      "outputs": [
        {
          "output_type": "stream",
          "text": [
            "/usr/local/lib/python3.7/dist-packages/ipykernel_launcher.py:1: SettingWithCopyWarning: \n",
            "A value is trying to be set on a copy of a slice from a DataFrame.\n",
            "Try using .loc[row_indexer,col_indexer] = value instead\n",
            "\n",
            "See the caveats in the documentation: https://pandas.pydata.org/pandas-docs/stable/user_guide/indexing.html#returning-a-view-versus-a-copy\n",
            "  \"\"\"Entry point for launching an IPython kernel.\n",
            "/usr/local/lib/python3.7/dist-packages/ipykernel_launcher.py:2: SettingWithCopyWarning: \n",
            "A value is trying to be set on a copy of a slice from a DataFrame.\n",
            "Try using .loc[row_indexer,col_indexer] = value instead\n",
            "\n",
            "See the caveats in the documentation: https://pandas.pydata.org/pandas-docs/stable/user_guide/indexing.html#returning-a-view-versus-a-copy\n",
            "  \n",
            "/usr/local/lib/python3.7/dist-packages/ipykernel_launcher.py:3: SettingWithCopyWarning: \n",
            "A value is trying to be set on a copy of a slice from a DataFrame.\n",
            "Try using .loc[row_indexer,col_indexer] = value instead\n",
            "\n",
            "See the caveats in the documentation: https://pandas.pydata.org/pandas-docs/stable/user_guide/indexing.html#returning-a-view-versus-a-copy\n",
            "  This is separate from the ipykernel package so we can avoid doing imports until\n",
            "/usr/local/lib/python3.7/dist-packages/ipykernel_launcher.py:4: SettingWithCopyWarning: \n",
            "A value is trying to be set on a copy of a slice from a DataFrame.\n",
            "Try using .loc[row_indexer,col_indexer] = value instead\n",
            "\n",
            "See the caveats in the documentation: https://pandas.pydata.org/pandas-docs/stable/user_guide/indexing.html#returning-a-view-versus-a-copy\n",
            "  after removing the cwd from sys.path.\n",
            "/usr/local/lib/python3.7/dist-packages/ipykernel_launcher.py:5: SettingWithCopyWarning: \n",
            "A value is trying to be set on a copy of a slice from a DataFrame.\n",
            "Try using .loc[row_indexer,col_indexer] = value instead\n",
            "\n",
            "See the caveats in the documentation: https://pandas.pydata.org/pandas-docs/stable/user_guide/indexing.html#returning-a-view-versus-a-copy\n",
            "  \"\"\"\n",
            "/usr/local/lib/python3.7/dist-packages/ipykernel_launcher.py:6: SettingWithCopyWarning: \n",
            "A value is trying to be set on a copy of a slice from a DataFrame.\n",
            "Try using .loc[row_indexer,col_indexer] = value instead\n",
            "\n",
            "See the caveats in the documentation: https://pandas.pydata.org/pandas-docs/stable/user_guide/indexing.html#returning-a-view-versus-a-copy\n",
            "  \n",
            "/usr/local/lib/python3.7/dist-packages/ipykernel_launcher.py:7: SettingWithCopyWarning: \n",
            "A value is trying to be set on a copy of a slice from a DataFrame.\n",
            "Try using .loc[row_indexer,col_indexer] = value instead\n",
            "\n",
            "See the caveats in the documentation: https://pandas.pydata.org/pandas-docs/stable/user_guide/indexing.html#returning-a-view-versus-a-copy\n",
            "  import sys\n",
            "/usr/local/lib/python3.7/dist-packages/ipykernel_launcher.py:8: SettingWithCopyWarning: \n",
            "A value is trying to be set on a copy of a slice from a DataFrame.\n",
            "Try using .loc[row_indexer,col_indexer] = value instead\n",
            "\n",
            "See the caveats in the documentation: https://pandas.pydata.org/pandas-docs/stable/user_guide/indexing.html#returning-a-view-versus-a-copy\n",
            "  \n",
            "/usr/local/lib/python3.7/dist-packages/ipykernel_launcher.py:9: SettingWithCopyWarning: \n",
            "A value is trying to be set on a copy of a slice from a DataFrame.\n",
            "Try using .loc[row_indexer,col_indexer] = value instead\n",
            "\n",
            "See the caveats in the documentation: https://pandas.pydata.org/pandas-docs/stable/user_guide/indexing.html#returning-a-view-versus-a-copy\n",
            "  if __name__ == '__main__':\n",
            "/usr/local/lib/python3.7/dist-packages/ipykernel_launcher.py:10: SettingWithCopyWarning: \n",
            "A value is trying to be set on a copy of a slice from a DataFrame.\n",
            "Try using .loc[row_indexer,col_indexer] = value instead\n",
            "\n",
            "See the caveats in the documentation: https://pandas.pydata.org/pandas-docs/stable/user_guide/indexing.html#returning-a-view-versus-a-copy\n",
            "  # Remove the CWD from sys.path while we load stuff.\n"
          ],
          "name": "stderr"
        }
      ]
    },
    {
      "cell_type": "code",
      "metadata": {
        "colab": {
          "base_uri": "https://localhost:8080/"
        },
        "id": "_rCXZcYlarj7",
        "outputId": "b7ed9ef4-2a9d-45f9-d809-15b8c841daa0"
      },
      "source": [
        "df_top_10.info()"
      ],
      "execution_count": null,
      "outputs": [
        {
          "output_type": "stream",
          "text": [
            "<class 'pandas.core.frame.DataFrame'>\n",
            "Int64Index: 156 entries, 0 to 155\n",
            "Data columns (total 10 columns):\n",
            " #   Column               Non-Null Count  Dtype   \n",
            "---  ------               --------------  -----   \n",
            " 0   GDP_18 bin_2         156 non-null    category\n",
            " 1   Corruption_18 bin_0  156 non-null    category\n",
            " 2   Population_18 bin_1  156 non-null    category\n",
            " 3   Population_18 bin_2  156 non-null    category\n",
            " 4   GDP_19 bin_2         156 non-null    category\n",
            " 5   Health_19 bin_2      156 non-null    category\n",
            " 6   Agency_19 bin_4      156 non-null    category\n",
            " 7   Generosity_19 bin_4  156 non-null    category\n",
            " 8   Corruption_19 bin_4  156 non-null    category\n",
            " 9   Population_19 bin_1  156 non-null    category\n",
            "dtypes: category(10)\n",
            "memory usage: 3.7 KB\n"
          ],
          "name": "stdout"
        }
      ]
    },
    {
      "cell_type": "markdown",
      "metadata": {
        "id": "zz68xeprSaLt"
      },
      "source": [
        "Assocation Rules"
      ]
    },
    {
      "cell_type": "code",
      "metadata": {
        "colab": {
          "base_uri": "https://localhost:8080/",
          "height": 421
        },
        "id": "UMwp3ZLXYykR",
        "outputId": "344277d7-9c34-435a-c07b-3933b000ec57"
      },
      "source": [
        "freq_itemsets = apriori(df_top_10, min_support=0.10, use_colnames=True)\n",
        "freq_itemsets #with support at 10%"
      ],
      "execution_count": null,
      "outputs": [
        {
          "output_type": "execute_result",
          "data": {
            "text/html": [
              "<div>\n",
              "<style scoped>\n",
              "    .dataframe tbody tr th:only-of-type {\n",
              "        vertical-align: middle;\n",
              "    }\n",
              "\n",
              "    .dataframe tbody tr th {\n",
              "        vertical-align: top;\n",
              "    }\n",
              "\n",
              "    .dataframe thead th {\n",
              "        text-align: right;\n",
              "    }\n",
              "</style>\n",
              "<table border=\"1\" class=\"dataframe\">\n",
              "  <thead>\n",
              "    <tr style=\"text-align: right;\">\n",
              "      <th></th>\n",
              "      <th>support</th>\n",
              "      <th>itemsets</th>\n",
              "    </tr>\n",
              "  </thead>\n",
              "  <tbody>\n",
              "    <tr>\n",
              "      <th>0</th>\n",
              "      <td>0.25</td>\n",
              "      <td>(GDP_18 bin_2)</td>\n",
              "    </tr>\n",
              "    <tr>\n",
              "      <th>1</th>\n",
              "      <td>0.25641</td>\n",
              "      <td>(Corruption_18 bin_0)</td>\n",
              "    </tr>\n",
              "    <tr>\n",
              "      <th>2</th>\n",
              "      <td>0.217949</td>\n",
              "      <td>(Population_18 bin_1)</td>\n",
              "    </tr>\n",
              "    <tr>\n",
              "      <th>3</th>\n",
              "      <td>0.217949</td>\n",
              "      <td>(Population_18 bin_2)</td>\n",
              "    </tr>\n",
              "    <tr>\n",
              "      <th>4</th>\n",
              "      <td>0.24359</td>\n",
              "      <td>(GDP_19 bin_2)</td>\n",
              "    </tr>\n",
              "    <tr>\n",
              "      <th>5</th>\n",
              "      <td>0.24359</td>\n",
              "      <td>(Health_19 bin_2)</td>\n",
              "    </tr>\n",
              "    <tr>\n",
              "      <th>6</th>\n",
              "      <td>0.211538</td>\n",
              "      <td>(Population_19 bin_1)</td>\n",
              "    </tr>\n",
              "    <tr>\n",
              "      <th>7</th>\n",
              "      <td>0.230769</td>\n",
              "      <td>(GDP_18 bin_2, GDP_19 bin_2)</td>\n",
              "    </tr>\n",
              "    <tr>\n",
              "      <th>8</th>\n",
              "      <td>0.115385</td>\n",
              "      <td>(GDP_18 bin_2, Health_19 bin_2)</td>\n",
              "    </tr>\n",
              "    <tr>\n",
              "      <th>9</th>\n",
              "      <td>0.211538</td>\n",
              "      <td>(Population_19 bin_1, Population_18 bin_1)</td>\n",
              "    </tr>\n",
              "    <tr>\n",
              "      <th>10</th>\n",
              "      <td>0.108974</td>\n",
              "      <td>(Health_19 bin_2, GDP_19 bin_2)</td>\n",
              "    </tr>\n",
              "    <tr>\n",
              "      <th>11</th>\n",
              "      <td>0.102564</td>\n",
              "      <td>(GDP_18 bin_2, Health_19 bin_2, GDP_19 bin_2)</td>\n",
              "    </tr>\n",
              "  </tbody>\n",
              "</table>\n",
              "</div>"
            ],
            "text/plain": [
              "     support                                       itemsets\n",
              "0       0.25                                 (GDP_18 bin_2)\n",
              "1    0.25641                          (Corruption_18 bin_0)\n",
              "2   0.217949                          (Population_18 bin_1)\n",
              "3   0.217949                          (Population_18 bin_2)\n",
              "4    0.24359                                 (GDP_19 bin_2)\n",
              "5    0.24359                              (Health_19 bin_2)\n",
              "6   0.211538                          (Population_19 bin_1)\n",
              "7   0.230769                   (GDP_18 bin_2, GDP_19 bin_2)\n",
              "8   0.115385                (GDP_18 bin_2, Health_19 bin_2)\n",
              "9   0.211538     (Population_19 bin_1, Population_18 bin_1)\n",
              "10  0.108974                (Health_19 bin_2, GDP_19 bin_2)\n",
              "11  0.102564  (GDP_18 bin_2, Health_19 bin_2, GDP_19 bin_2)"
            ]
          },
          "metadata": {
            "tags": []
          },
          "execution_count": 244
        }
      ]
    },
    {
      "cell_type": "code",
      "metadata": {
        "colab": {
          "base_uri": "https://localhost:8080/",
          "height": 272
        },
        "id": "Ah6HAiMGbv0F",
        "outputId": "3d2037eb-ef0c-4039-f74e-4eaf08409b8b"
      },
      "source": [
        "rules = association_rules(freq_itemsets, metric='confidence', \n",
        "                          min_threshold=0.10)\n",
        "rules.head()"
      ],
      "execution_count": null,
      "outputs": [
        {
          "output_type": "execute_result",
          "data": {
            "text/html": [
              "<div>\n",
              "<style scoped>\n",
              "    .dataframe tbody tr th:only-of-type {\n",
              "        vertical-align: middle;\n",
              "    }\n",
              "\n",
              "    .dataframe tbody tr th {\n",
              "        vertical-align: top;\n",
              "    }\n",
              "\n",
              "    .dataframe thead th {\n",
              "        text-align: right;\n",
              "    }\n",
              "</style>\n",
              "<table border=\"1\" class=\"dataframe\">\n",
              "  <thead>\n",
              "    <tr style=\"text-align: right;\">\n",
              "      <th></th>\n",
              "      <th>antecedents</th>\n",
              "      <th>consequents</th>\n",
              "      <th>antecedent support</th>\n",
              "      <th>consequent support</th>\n",
              "      <th>support</th>\n",
              "      <th>confidence</th>\n",
              "      <th>lift</th>\n",
              "      <th>leverage</th>\n",
              "      <th>conviction</th>\n",
              "    </tr>\n",
              "  </thead>\n",
              "  <tbody>\n",
              "    <tr>\n",
              "      <th>0</th>\n",
              "      <td>(GDP_18 bin_2)</td>\n",
              "      <td>(GDP_19 bin_2)</td>\n",
              "      <td>0.250000</td>\n",
              "      <td>0.243590</td>\n",
              "      <td>0.230769</td>\n",
              "      <td>0.923077</td>\n",
              "      <td>3.789474</td>\n",
              "      <td>0.169872</td>\n",
              "      <td>9.833333</td>\n",
              "    </tr>\n",
              "    <tr>\n",
              "      <th>1</th>\n",
              "      <td>(GDP_19 bin_2)</td>\n",
              "      <td>(GDP_18 bin_2)</td>\n",
              "      <td>0.243590</td>\n",
              "      <td>0.250000</td>\n",
              "      <td>0.230769</td>\n",
              "      <td>0.947368</td>\n",
              "      <td>3.789474</td>\n",
              "      <td>0.169872</td>\n",
              "      <td>14.250000</td>\n",
              "    </tr>\n",
              "    <tr>\n",
              "      <th>2</th>\n",
              "      <td>(GDP_18 bin_2)</td>\n",
              "      <td>(Health_19 bin_2)</td>\n",
              "      <td>0.250000</td>\n",
              "      <td>0.243590</td>\n",
              "      <td>0.115385</td>\n",
              "      <td>0.461538</td>\n",
              "      <td>1.894737</td>\n",
              "      <td>0.054487</td>\n",
              "      <td>1.404762</td>\n",
              "    </tr>\n",
              "    <tr>\n",
              "      <th>3</th>\n",
              "      <td>(Health_19 bin_2)</td>\n",
              "      <td>(GDP_18 bin_2)</td>\n",
              "      <td>0.243590</td>\n",
              "      <td>0.250000</td>\n",
              "      <td>0.115385</td>\n",
              "      <td>0.473684</td>\n",
              "      <td>1.894737</td>\n",
              "      <td>0.054487</td>\n",
              "      <td>1.425000</td>\n",
              "    </tr>\n",
              "    <tr>\n",
              "      <th>4</th>\n",
              "      <td>(Population_19 bin_1)</td>\n",
              "      <td>(Population_18 bin_1)</td>\n",
              "      <td>0.211538</td>\n",
              "      <td>0.217949</td>\n",
              "      <td>0.211538</td>\n",
              "      <td>1.000000</td>\n",
              "      <td>4.588235</td>\n",
              "      <td>0.165434</td>\n",
              "      <td>inf</td>\n",
              "    </tr>\n",
              "  </tbody>\n",
              "</table>\n",
              "</div>"
            ],
            "text/plain": [
              "             antecedents            consequents  ...  leverage  conviction\n",
              "0         (GDP_18 bin_2)         (GDP_19 bin_2)  ...  0.169872    9.833333\n",
              "1         (GDP_19 bin_2)         (GDP_18 bin_2)  ...  0.169872   14.250000\n",
              "2         (GDP_18 bin_2)      (Health_19 bin_2)  ...  0.054487    1.404762\n",
              "3      (Health_19 bin_2)         (GDP_18 bin_2)  ...  0.054487    1.425000\n",
              "4  (Population_19 bin_1)  (Population_18 bin_1)  ...  0.165434         inf\n",
              "\n",
              "[5 rows x 9 columns]"
            ]
          },
          "metadata": {
            "tags": []
          },
          "execution_count": 245
        }
      ]
    },
    {
      "cell_type": "code",
      "metadata": {
        "colab": {
          "base_uri": "https://localhost:8080/",
          "height": 636
        },
        "id": "jvT8pkhwcEWu",
        "outputId": "a3c04767-38d2-4d24-fd95-d92b9ea75c9f"
      },
      "source": [
        "rules.sort_values('support', ascending=False)\n",
        "#print assosiation rules with the values sorted by support value\n",
        "#to note: GDP appears very frequently,with a strong GDP->Heath anteceedent->consequent relationship throughout appearances"
      ],
      "execution_count": null,
      "outputs": [
        {
          "output_type": "execute_result",
          "data": {
            "text/html": [
              "<div>\n",
              "<style scoped>\n",
              "    .dataframe tbody tr th:only-of-type {\n",
              "        vertical-align: middle;\n",
              "    }\n",
              "\n",
              "    .dataframe tbody tr th {\n",
              "        vertical-align: top;\n",
              "    }\n",
              "\n",
              "    .dataframe thead th {\n",
              "        text-align: right;\n",
              "    }\n",
              "</style>\n",
              "<table border=\"1\" class=\"dataframe\">\n",
              "  <thead>\n",
              "    <tr style=\"text-align: right;\">\n",
              "      <th></th>\n",
              "      <th>antecedents</th>\n",
              "      <th>consequents</th>\n",
              "      <th>antecedent support</th>\n",
              "      <th>consequent support</th>\n",
              "      <th>support</th>\n",
              "      <th>confidence</th>\n",
              "      <th>lift</th>\n",
              "      <th>leverage</th>\n",
              "      <th>conviction</th>\n",
              "    </tr>\n",
              "  </thead>\n",
              "  <tbody>\n",
              "    <tr>\n",
              "      <th>0</th>\n",
              "      <td>(GDP_18 bin_2)</td>\n",
              "      <td>(GDP_19 bin_2)</td>\n",
              "      <td>0.250000</td>\n",
              "      <td>0.243590</td>\n",
              "      <td>0.230769</td>\n",
              "      <td>0.923077</td>\n",
              "      <td>3.789474</td>\n",
              "      <td>0.169872</td>\n",
              "      <td>9.833333</td>\n",
              "    </tr>\n",
              "    <tr>\n",
              "      <th>1</th>\n",
              "      <td>(GDP_19 bin_2)</td>\n",
              "      <td>(GDP_18 bin_2)</td>\n",
              "      <td>0.243590</td>\n",
              "      <td>0.250000</td>\n",
              "      <td>0.230769</td>\n",
              "      <td>0.947368</td>\n",
              "      <td>3.789474</td>\n",
              "      <td>0.169872</td>\n",
              "      <td>14.250000</td>\n",
              "    </tr>\n",
              "    <tr>\n",
              "      <th>4</th>\n",
              "      <td>(Population_19 bin_1)</td>\n",
              "      <td>(Population_18 bin_1)</td>\n",
              "      <td>0.211538</td>\n",
              "      <td>0.217949</td>\n",
              "      <td>0.211538</td>\n",
              "      <td>1.000000</td>\n",
              "      <td>4.588235</td>\n",
              "      <td>0.165434</td>\n",
              "      <td>inf</td>\n",
              "    </tr>\n",
              "    <tr>\n",
              "      <th>5</th>\n",
              "      <td>(Population_18 bin_1)</td>\n",
              "      <td>(Population_19 bin_1)</td>\n",
              "      <td>0.217949</td>\n",
              "      <td>0.211538</td>\n",
              "      <td>0.211538</td>\n",
              "      <td>0.970588</td>\n",
              "      <td>4.588235</td>\n",
              "      <td>0.165434</td>\n",
              "      <td>26.807692</td>\n",
              "    </tr>\n",
              "    <tr>\n",
              "      <th>2</th>\n",
              "      <td>(GDP_18 bin_2)</td>\n",
              "      <td>(Health_19 bin_2)</td>\n",
              "      <td>0.250000</td>\n",
              "      <td>0.243590</td>\n",
              "      <td>0.115385</td>\n",
              "      <td>0.461538</td>\n",
              "      <td>1.894737</td>\n",
              "      <td>0.054487</td>\n",
              "      <td>1.404762</td>\n",
              "    </tr>\n",
              "    <tr>\n",
              "      <th>3</th>\n",
              "      <td>(Health_19 bin_2)</td>\n",
              "      <td>(GDP_18 bin_2)</td>\n",
              "      <td>0.243590</td>\n",
              "      <td>0.250000</td>\n",
              "      <td>0.115385</td>\n",
              "      <td>0.473684</td>\n",
              "      <td>1.894737</td>\n",
              "      <td>0.054487</td>\n",
              "      <td>1.425000</td>\n",
              "    </tr>\n",
              "    <tr>\n",
              "      <th>6</th>\n",
              "      <td>(Health_19 bin_2)</td>\n",
              "      <td>(GDP_19 bin_2)</td>\n",
              "      <td>0.243590</td>\n",
              "      <td>0.243590</td>\n",
              "      <td>0.108974</td>\n",
              "      <td>0.447368</td>\n",
              "      <td>1.836565</td>\n",
              "      <td>0.049638</td>\n",
              "      <td>1.368742</td>\n",
              "    </tr>\n",
              "    <tr>\n",
              "      <th>7</th>\n",
              "      <td>(GDP_19 bin_2)</td>\n",
              "      <td>(Health_19 bin_2)</td>\n",
              "      <td>0.243590</td>\n",
              "      <td>0.243590</td>\n",
              "      <td>0.108974</td>\n",
              "      <td>0.447368</td>\n",
              "      <td>1.836565</td>\n",
              "      <td>0.049638</td>\n",
              "      <td>1.368742</td>\n",
              "    </tr>\n",
              "    <tr>\n",
              "      <th>8</th>\n",
              "      <td>(GDP_18 bin_2, Health_19 bin_2)</td>\n",
              "      <td>(GDP_19 bin_2)</td>\n",
              "      <td>0.115385</td>\n",
              "      <td>0.243590</td>\n",
              "      <td>0.102564</td>\n",
              "      <td>0.888889</td>\n",
              "      <td>3.649123</td>\n",
              "      <td>0.074458</td>\n",
              "      <td>6.807692</td>\n",
              "    </tr>\n",
              "    <tr>\n",
              "      <th>9</th>\n",
              "      <td>(GDP_18 bin_2, GDP_19 bin_2)</td>\n",
              "      <td>(Health_19 bin_2)</td>\n",
              "      <td>0.230769</td>\n",
              "      <td>0.243590</td>\n",
              "      <td>0.102564</td>\n",
              "      <td>0.444444</td>\n",
              "      <td>1.824561</td>\n",
              "      <td>0.046351</td>\n",
              "      <td>1.361538</td>\n",
              "    </tr>\n",
              "    <tr>\n",
              "      <th>10</th>\n",
              "      <td>(Health_19 bin_2, GDP_19 bin_2)</td>\n",
              "      <td>(GDP_18 bin_2)</td>\n",
              "      <td>0.108974</td>\n",
              "      <td>0.250000</td>\n",
              "      <td>0.102564</td>\n",
              "      <td>0.941176</td>\n",
              "      <td>3.764706</td>\n",
              "      <td>0.075321</td>\n",
              "      <td>12.750000</td>\n",
              "    </tr>\n",
              "    <tr>\n",
              "      <th>11</th>\n",
              "      <td>(GDP_18 bin_2)</td>\n",
              "      <td>(Health_19 bin_2, GDP_19 bin_2)</td>\n",
              "      <td>0.250000</td>\n",
              "      <td>0.108974</td>\n",
              "      <td>0.102564</td>\n",
              "      <td>0.410256</td>\n",
              "      <td>3.764706</td>\n",
              "      <td>0.075321</td>\n",
              "      <td>1.510870</td>\n",
              "    </tr>\n",
              "    <tr>\n",
              "      <th>12</th>\n",
              "      <td>(Health_19 bin_2)</td>\n",
              "      <td>(GDP_18 bin_2, GDP_19 bin_2)</td>\n",
              "      <td>0.243590</td>\n",
              "      <td>0.230769</td>\n",
              "      <td>0.102564</td>\n",
              "      <td>0.421053</td>\n",
              "      <td>1.824561</td>\n",
              "      <td>0.046351</td>\n",
              "      <td>1.328671</td>\n",
              "    </tr>\n",
              "    <tr>\n",
              "      <th>13</th>\n",
              "      <td>(GDP_19 bin_2)</td>\n",
              "      <td>(GDP_18 bin_2, Health_19 bin_2)</td>\n",
              "      <td>0.243590</td>\n",
              "      <td>0.115385</td>\n",
              "      <td>0.102564</td>\n",
              "      <td>0.421053</td>\n",
              "      <td>3.649123</td>\n",
              "      <td>0.074458</td>\n",
              "      <td>1.527972</td>\n",
              "    </tr>\n",
              "  </tbody>\n",
              "</table>\n",
              "</div>"
            ],
            "text/plain": [
              "                        antecedents  ... conviction\n",
              "0                    (GDP_18 bin_2)  ...   9.833333\n",
              "1                    (GDP_19 bin_2)  ...  14.250000\n",
              "4             (Population_19 bin_1)  ...        inf\n",
              "5             (Population_18 bin_1)  ...  26.807692\n",
              "2                    (GDP_18 bin_2)  ...   1.404762\n",
              "3                 (Health_19 bin_2)  ...   1.425000\n",
              "6                 (Health_19 bin_2)  ...   1.368742\n",
              "7                    (GDP_19 bin_2)  ...   1.368742\n",
              "8   (GDP_18 bin_2, Health_19 bin_2)  ...   6.807692\n",
              "9      (GDP_18 bin_2, GDP_19 bin_2)  ...   1.361538\n",
              "10  (Health_19 bin_2, GDP_19 bin_2)  ...  12.750000\n",
              "11                   (GDP_18 bin_2)  ...   1.510870\n",
              "12                (Health_19 bin_2)  ...   1.328671\n",
              "13                   (GDP_19 bin_2)  ...   1.527972\n",
              "\n",
              "[14 rows x 9 columns]"
            ]
          },
          "metadata": {
            "tags": []
          },
          "execution_count": 246
        }
      ]
    },
    {
      "cell_type": "markdown",
      "metadata": {
        "id": "NnZtq-hSa1Dn"
      },
      "source": [
        "Adding Country/Region back in:"
      ]
    },
    {
      "cell_type": "code",
      "metadata": {
        "colab": {
          "base_uri": "https://localhost:8080/"
        },
        "id": "ALBmcUbBa3zg",
        "outputId": "1c6b8076-770d-45af-9c24-2b54d1a14cfc"
      },
      "source": [
        "df_top_10['Country or region'] = df_2018.iloc[:,1:2]\n",
        "df_top_10.info()"
      ],
      "execution_count": null,
      "outputs": [
        {
          "output_type": "stream",
          "text": [
            "<class 'pandas.core.frame.DataFrame'>\n",
            "Int64Index: 156 entries, 0 to 155\n",
            "Data columns (total 11 columns):\n",
            " #   Column               Non-Null Count  Dtype   \n",
            "---  ------               --------------  -----   \n",
            " 0   GDP_18 bin_2         156 non-null    category\n",
            " 1   Corruption_18 bin_0  156 non-null    category\n",
            " 2   Population_18 bin_1  156 non-null    category\n",
            " 3   Population_18 bin_2  156 non-null    category\n",
            " 4   GDP_19 bin_2         156 non-null    category\n",
            " 5   Health_19 bin_2      156 non-null    category\n",
            " 6   Agency_19 bin_4      156 non-null    category\n",
            " 7   Generosity_19 bin_4  156 non-null    category\n",
            " 8   Corruption_19 bin_4  156 non-null    category\n",
            " 9   Population_19 bin_1  156 non-null    category\n",
            " 10  Country or region    156 non-null    object  \n",
            "dtypes: category(10), object(1)\n",
            "memory usage: 4.9+ KB\n"
          ],
          "name": "stdout"
        },
        {
          "output_type": "stream",
          "text": [
            "/usr/local/lib/python3.7/dist-packages/ipykernel_launcher.py:1: SettingWithCopyWarning: \n",
            "A value is trying to be set on a copy of a slice from a DataFrame.\n",
            "Try using .loc[row_indexer,col_indexer] = value instead\n",
            "\n",
            "See the caveats in the documentation: https://pandas.pydata.org/pandas-docs/stable/user_guide/indexing.html#returning-a-view-versus-a-copy\n",
            "  \"\"\"Entry point for launching an IPython kernel.\n"
          ],
          "name": "stderr"
        }
      ]
    },
    {
      "cell_type": "markdown",
      "metadata": {
        "id": "AOHHRfpyhU2q"
      },
      "source": [
        "Decision Tree"
      ]
    },
    {
      "cell_type": "code",
      "metadata": {
        "id": "iNxWaj0hqNQ5"
      },
      "source": [
        "df_tree = df_top_10.drop('Country or region', axis=1)\n",
        "df_tree['class']=np.where(df['∆Score']>0, 'Yes','No')\n",
        "Y_tree = df_tree.iloc[:,10:11]\n",
        "df_tree = df_tree.drop('class', axis=1)"
      ],
      "execution_count": null,
      "outputs": []
    },
    {
      "cell_type": "code",
      "metadata": {
        "colab": {
          "base_uri": "https://localhost:8080/"
        },
        "id": "ll-VhAJbpayP",
        "outputId": "70e59dbc-eb3c-4333-a6aa-8ebf7ca39528"
      },
      "source": [
        "Tree = {}\n",
        "Tree['Feature_names'] = df_tree.columns.values\n",
        "Tree['Feature_data'] = df_tree.values\n",
        "Tree['Target_names'] = Y_tree['class'].unique()\n",
        "Tree['Target_data'] = Y_tree['class'].values\n",
        "Tree"
      ],
      "execution_count": null,
      "outputs": [
        {
          "output_type": "execute_result",
          "data": {
            "text/plain": [
              "{'Feature_data': array([[0, 0, 0, ..., 0, 0, 0],\n",
              "        [0, 0, 0, ..., 0, 0, 0],\n",
              "        [0, 0, 0, ..., 0, 0, 0],\n",
              "        ...,\n",
              "        [0, 0, 0, ..., 0, 0, 0],\n",
              "        [0, 1, 0, ..., 0, 0, 0],\n",
              "        [0, 0, 0, ..., 0, 0, 0]], dtype=object),\n",
              " 'Feature_names': array(['GDP_18 bin_2', 'Corruption_18 bin_0', 'Population_18 bin_1',\n",
              "        'Population_18 bin_2', 'GDP_19 bin_2', 'Health_19 bin_2',\n",
              "        'Agency_19 bin_4', 'Generosity_19 bin_4', 'Corruption_19 bin_4',\n",
              "        'Population_19 bin_1'], dtype=object),\n",
              " 'Target_data': array(['No', 'Yes', 'No', 'Yes', 'Yes', 'No', 'Yes', 'Yes', 'No', 'Yes',\n",
              "        'Yes', 'No', 'No', 'No', 'No', 'Yes', 'No', 'No', 'No', 'No', 'No',\n",
              "        'No', 'No', 'No', 'Yes', 'No', 'Yes', 'Yes', 'Yes', 'No', 'Yes',\n",
              "        'No', 'No', 'Yes', 'Yes', 'No', 'Yes', 'No', 'No', 'No', 'Yes',\n",
              "        'No', 'No', 'No', 'Yes', 'Yes', 'No', 'No', 'No', 'No', 'No', 'No',\n",
              "        'No', 'Yes', 'Yes', 'No', 'No', 'Yes', 'Yes', 'No', 'No', 'No',\n",
              "        'No', 'No', 'No', 'No', 'Yes', 'Yes', 'No', 'Yes', 'No', 'No',\n",
              "        'Yes', 'Yes', 'No', 'No', 'No', 'No', 'Yes', 'Yes', 'No', 'No',\n",
              "        'No', 'Yes', 'Yes', 'Yes', 'No', 'No', 'No', 'Yes', 'No', 'No',\n",
              "        'No', 'No', 'No', 'No', 'No', 'Yes', 'No', 'No', 'No', 'Yes', 'No',\n",
              "        'Yes', 'Yes', 'Yes', 'No', 'No', 'No', 'No', 'Yes', 'No', 'Yes',\n",
              "        'No', 'Yes', 'Yes', 'Yes', 'Yes', 'No', 'No', 'No', 'Yes', 'No',\n",
              "        'No', 'Yes', 'No', 'Yes', 'No', 'No', 'No', 'No', 'No', 'Yes',\n",
              "        'No', 'No', 'No', 'No', 'No', 'No', 'No', 'Yes', 'No', 'No', 'Yes',\n",
              "        'Yes', 'Yes', 'Yes', 'No', 'No', 'No', 'Yes', 'No', 'Yes', 'Yes',\n",
              "        'No', 'No'], dtype=object),\n",
              " 'Target_names': array(['No', 'Yes'], dtype=object)}"
            ]
          },
          "metadata": {
            "tags": []
          },
          "execution_count": 249
        }
      ]
    },
    {
      "cell_type": "code",
      "metadata": {
        "colab": {
          "base_uri": "https://localhost:8080/"
        },
        "id": "JPJK36SGiDae",
        "outputId": "95353c27-2c38-41ca-ef9f-c27c53aeda41"
      },
      "source": [
        "X_train, X_test, Y_train,Y_test = train_test_split(Tree['Feature_data'],Tree['Target_data'],\n",
        "                                                    test_size=0.3, random_state=1,\n",
        "                                                    stratify = Tree['Target_data'])\n",
        "X_train.shape, Y_train.shape, X_test.shape, Y_test.shape"
      ],
      "execution_count": null,
      "outputs": [
        {
          "output_type": "execute_result",
          "data": {
            "text/plain": [
              "((109, 10), (109,), (47, 10), (47,))"
            ]
          },
          "metadata": {
            "tags": []
          },
          "execution_count": 250
        }
      ]
    },
    {
      "cell_type": "code",
      "metadata": {
        "colab": {
          "base_uri": "https://localhost:8080/"
        },
        "id": "q9AGHonRrOW4",
        "outputId": "afc4fcaa-619d-47e5-b24a-1cb504f99132"
      },
      "source": [
        "#testing different min_sample_leaf values, only leaving the one that generated the highest score active\n",
        "# ---\n",
        "#tree_entropy = DecisionTreeClassifier(criterion='entropy') #Score = 0.5319148936170213 (A = .62)\n",
        "tree_entropy = DecisionTreeClassifier(max_depth=3, min_samples_leaf=5, criterion='entropy') #Score = 0.6808510638297872 (A = .62)\n",
        "#tree_entropy = DecisionTreeClassifier(max_depth=4, min_samples_leaf=5, criterion='entropy')#Score = 0.5957446808510638 (A = .64)\n",
        "#tree_entropy = DecisionTreeClassifier(max_depth=3, min_samples_leaf=8, criterion='entropy') #Score = 0.6808510638297872 (A = .61)\n",
        "#tree_entropy = DecisionTreeClassifier(max_depth=5, min_samples_leaf=8, criterion='entropy') #Score = 0.6808510638297872 (A = .60)\n",
        "#tree_entropy = DecisionTreeClassifier(max_depth=3, min_samples_leaf=12, criterion='entropy') #Score = 0.6808510638297872 (A = .62)\n",
        "#tree_entropy = DecisionTreeClassifier(max_depth=4, min_samples_leaf=10, criterion='entropy') #Score = 0.6808510638297872 (A = .62)\n",
        "tree_entropy.fit(X_train, Y_train)"
      ],
      "execution_count": null,
      "outputs": [
        {
          "output_type": "execute_result",
          "data": {
            "text/plain": [
              "DecisionTreeClassifier(ccp_alpha=0.0, class_weight=None, criterion='entropy',\n",
              "                       max_depth=3, max_features=None, max_leaf_nodes=None,\n",
              "                       min_impurity_decrease=0.0, min_impurity_split=None,\n",
              "                       min_samples_leaf=5, min_samples_split=2,\n",
              "                       min_weight_fraction_leaf=0.0, presort='deprecated',\n",
              "                       random_state=None, splitter='best')"
            ]
          },
          "metadata": {
            "tags": []
          },
          "execution_count": 251
        }
      ]
    },
    {
      "cell_type": "code",
      "metadata": {
        "colab": {
          "base_uri": "https://localhost:8080/",
          "height": 618
        },
        "id": "5V8OmfqPrm4y",
        "outputId": "1728a50f-f563-4976-99e1-c9324849f938"
      },
      "source": [
        "#plotting the decision tree\n",
        "dot_data = export_graphviz(tree_entropy, out_file = None,\n",
        "                          feature_names = Tree['Feature_names'],\n",
        "                          class_names = Tree['Target_names'],\n",
        "                          filled=True)\n",
        "graph = graphviz.Source(dot_data)\n",
        "graph"
      ],
      "execution_count": null,
      "outputs": [
        {
          "output_type": "execute_result",
          "data": {
            "text/plain": [
              "<graphviz.files.Source at 0x7f2560f61ad0>"
            ],
            "image/svg+xml": "<?xml version=\"1.0\" encoding=\"UTF-8\" standalone=\"no\"?>\n<!DOCTYPE svg PUBLIC \"-//W3C//DTD SVG 1.1//EN\"\n \"http://www.w3.org/Graphics/SVG/1.1/DTD/svg11.dtd\">\n<!-- Generated by graphviz version 2.40.1 (20161225.0304)\n -->\n<!-- Title: Tree Pages: 1 -->\n<svg width=\"807pt\" height=\"433pt\"\n viewBox=\"0.00 0.00 807.00 433.00\" xmlns=\"http://www.w3.org/2000/svg\" xmlns:xlink=\"http://www.w3.org/1999/xlink\">\n<g id=\"graph0\" class=\"graph\" transform=\"scale(1 1) rotate(0) translate(4 429)\">\n<title>Tree</title>\n<polygon fill=\"#ffffff\" stroke=\"transparent\" points=\"-4,4 -4,-429 803,-429 803,4 -4,4\"/>\n<!-- 0 -->\n<g id=\"node1\" class=\"node\">\n<title>0</title>\n<polygon fill=\"#f4caac\" stroke=\"#000000\" points=\"553.5,-425 404.5,-425 404.5,-342 553.5,-342 553.5,-425\"/>\n<text text-anchor=\"middle\" x=\"479\" y=\"-409.8\" font-family=\"Times,serif\" font-size=\"14.00\" fill=\"#000000\">GDP_18 bin_2 &lt;= 0.5</text>\n<text text-anchor=\"middle\" x=\"479\" y=\"-394.8\" font-family=\"Times,serif\" font-size=\"14.00\" fill=\"#000000\">entropy = 0.948</text>\n<text text-anchor=\"middle\" x=\"479\" y=\"-379.8\" font-family=\"Times,serif\" font-size=\"14.00\" fill=\"#000000\">samples = 109</text>\n<text text-anchor=\"middle\" x=\"479\" y=\"-364.8\" font-family=\"Times,serif\" font-size=\"14.00\" fill=\"#000000\">value = [69, 40]</text>\n<text text-anchor=\"middle\" x=\"479\" y=\"-349.8\" font-family=\"Times,serif\" font-size=\"14.00\" fill=\"#000000\">class = No</text>\n</g>\n<!-- 1 -->\n<g id=\"node2\" class=\"node\">\n<title>1</title>\n<polygon fill=\"#f1ba93\" stroke=\"#000000\" points=\"470.5,-306 287.5,-306 287.5,-223 470.5,-223 470.5,-306\"/>\n<text text-anchor=\"middle\" x=\"379\" y=\"-290.8\" font-family=\"Times,serif\" font-size=\"14.00\" fill=\"#000000\">Corruption_18 bin_0 &lt;= 0.5</text>\n<text text-anchor=\"middle\" x=\"379\" y=\"-275.8\" font-family=\"Times,serif\" font-size=\"14.00\" fill=\"#000000\">entropy = 0.896</text>\n<text text-anchor=\"middle\" x=\"379\" y=\"-260.8\" font-family=\"Times,serif\" font-size=\"14.00\" fill=\"#000000\">samples = 80</text>\n<text text-anchor=\"middle\" x=\"379\" y=\"-245.8\" font-family=\"Times,serif\" font-size=\"14.00\" fill=\"#000000\">value = [55, 25]</text>\n<text text-anchor=\"middle\" x=\"379\" y=\"-230.8\" font-family=\"Times,serif\" font-size=\"14.00\" fill=\"#000000\">class = No</text>\n</g>\n<!-- 0&#45;&gt;1 -->\n<g id=\"edge1\" class=\"edge\">\n<title>0&#45;&gt;1</title>\n<path fill=\"none\" stroke=\"#000000\" d=\"M444.0249,-341.8796C436.4565,-332.8733 428.3819,-323.2644 420.588,-313.9897\"/>\n<polygon fill=\"#000000\" stroke=\"#000000\" points=\"423.2374,-311.7022 414.1244,-306.2981 417.8784,-316.2056 423.2374,-311.7022\"/>\n<text text-anchor=\"middle\" x=\"411.9636\" y=\"-327.5045\" font-family=\"Times,serif\" font-size=\"14.00\" fill=\"#000000\">True</text>\n</g>\n<!-- 8 -->\n<g id=\"node9\" class=\"node\">\n<title>8</title>\n<polygon fill=\"#f2f8fd\" stroke=\"#000000\" points=\"671,-306 489,-306 489,-223 671,-223 671,-306\"/>\n<text text-anchor=\"middle\" x=\"580\" y=\"-290.8\" font-family=\"Times,serif\" font-size=\"14.00\" fill=\"#000000\">Population_18 bin_2 &lt;= 0.5</text>\n<text text-anchor=\"middle\" x=\"580\" y=\"-275.8\" font-family=\"Times,serif\" font-size=\"14.00\" fill=\"#000000\">entropy = 0.999</text>\n<text text-anchor=\"middle\" x=\"580\" y=\"-260.8\" font-family=\"Times,serif\" font-size=\"14.00\" fill=\"#000000\">samples = 29</text>\n<text text-anchor=\"middle\" x=\"580\" y=\"-245.8\" font-family=\"Times,serif\" font-size=\"14.00\" fill=\"#000000\">value = [14, 15]</text>\n<text text-anchor=\"middle\" x=\"580\" y=\"-230.8\" font-family=\"Times,serif\" font-size=\"14.00\" fill=\"#000000\">class = Yes</text>\n</g>\n<!-- 0&#45;&gt;8 -->\n<g id=\"edge8\" class=\"edge\">\n<title>0&#45;&gt;8</title>\n<path fill=\"none\" stroke=\"#000000\" d=\"M514.3249,-341.8796C521.9689,-332.8733 530.1243,-323.2644 537.9961,-313.9897\"/>\n<polygon fill=\"#000000\" stroke=\"#000000\" points=\"540.7218,-316.1871 544.5243,-306.2981 535.3849,-311.6574 540.7218,-316.1871\"/>\n<text text-anchor=\"middle\" x=\"546.563\" y=\"-327.5148\" font-family=\"Times,serif\" font-size=\"14.00\" fill=\"#000000\">False</text>\n</g>\n<!-- 2 -->\n<g id=\"node3\" class=\"node\">\n<title>2</title>\n<polygon fill=\"#f4cbae\" stroke=\"#000000\" points=\"270,-187 88,-187 88,-104 270,-104 270,-187\"/>\n<text text-anchor=\"middle\" x=\"179\" y=\"-171.8\" font-family=\"Times,serif\" font-size=\"14.00\" fill=\"#000000\">Population_19 bin_1 &lt;= 0.5</text>\n<text text-anchor=\"middle\" x=\"179\" y=\"-156.8\" font-family=\"Times,serif\" font-size=\"14.00\" fill=\"#000000\">entropy = 0.951</text>\n<text text-anchor=\"middle\" x=\"179\" y=\"-141.8\" font-family=\"Times,serif\" font-size=\"14.00\" fill=\"#000000\">samples = 62</text>\n<text text-anchor=\"middle\" x=\"179\" y=\"-126.8\" font-family=\"Times,serif\" font-size=\"14.00\" fill=\"#000000\">value = [39, 23]</text>\n<text text-anchor=\"middle\" x=\"179\" y=\"-111.8\" font-family=\"Times,serif\" font-size=\"14.00\" fill=\"#000000\">class = No</text>\n</g>\n<!-- 1&#45;&gt;2 -->\n<g id=\"edge2\" class=\"edge\">\n<title>1&#45;&gt;2</title>\n<path fill=\"none\" stroke=\"#000000\" d=\"M309.0497,-222.8796C292.4548,-213.0056 274.6428,-202.4075 257.688,-192.3193\"/>\n<polygon fill=\"#000000\" stroke=\"#000000\" points=\"259.2943,-189.2025 248.9108,-187.0969 255.715,-195.2181 259.2943,-189.2025\"/>\n</g>\n<!-- 5 -->\n<g id=\"node6\" class=\"node\">\n<title>5</title>\n<polygon fill=\"#e89152\" stroke=\"#000000\" points=\"470,-187 288,-187 288,-104 470,-104 470,-187\"/>\n<text text-anchor=\"middle\" x=\"379\" y=\"-171.8\" font-family=\"Times,serif\" font-size=\"14.00\" fill=\"#000000\">Population_18 bin_2 &lt;= 0.5</text>\n<text text-anchor=\"middle\" x=\"379\" y=\"-156.8\" font-family=\"Times,serif\" font-size=\"14.00\" fill=\"#000000\">entropy = 0.503</text>\n<text text-anchor=\"middle\" x=\"379\" y=\"-141.8\" font-family=\"Times,serif\" font-size=\"14.00\" fill=\"#000000\">samples = 18</text>\n<text text-anchor=\"middle\" x=\"379\" y=\"-126.8\" font-family=\"Times,serif\" font-size=\"14.00\" fill=\"#000000\">value = [16, 2]</text>\n<text text-anchor=\"middle\" x=\"379\" y=\"-111.8\" font-family=\"Times,serif\" font-size=\"14.00\" fill=\"#000000\">class = No</text>\n</g>\n<!-- 1&#45;&gt;5 -->\n<g id=\"edge5\" class=\"edge\">\n<title>1&#45;&gt;5</title>\n<path fill=\"none\" stroke=\"#000000\" d=\"M379,-222.8796C379,-214.6838 379,-205.9891 379,-197.5013\"/>\n<polygon fill=\"#000000\" stroke=\"#000000\" points=\"382.5001,-197.298 379,-187.2981 375.5001,-197.2981 382.5001,-197.298\"/>\n</g>\n<!-- 3 -->\n<g id=\"node4\" class=\"node\">\n<title>3</title>\n<polygon fill=\"#f2be99\" stroke=\"#000000\" points=\"110,-68 0,-68 0,0 110,0 110,-68\"/>\n<text text-anchor=\"middle\" x=\"55\" y=\"-52.8\" font-family=\"Times,serif\" font-size=\"14.00\" fill=\"#000000\">entropy = 0.911</text>\n<text text-anchor=\"middle\" x=\"55\" y=\"-37.8\" font-family=\"Times,serif\" font-size=\"14.00\" fill=\"#000000\">samples = 49</text>\n<text text-anchor=\"middle\" x=\"55\" y=\"-22.8\" font-family=\"Times,serif\" font-size=\"14.00\" fill=\"#000000\">value = [33, 16]</text>\n<text text-anchor=\"middle\" x=\"55\" y=\"-7.8\" font-family=\"Times,serif\" font-size=\"14.00\" fill=\"#000000\">class = No</text>\n</g>\n<!-- 2&#45;&gt;3 -->\n<g id=\"edge3\" class=\"edge\">\n<title>2&#45;&gt;3</title>\n<path fill=\"none\" stroke=\"#000000\" d=\"M132.827,-103.9815C122.2993,-94.5151 111.1192,-84.462 100.6151,-75.0168\"/>\n<polygon fill=\"#000000\" stroke=\"#000000\" points=\"102.8811,-72.3475 93.1049,-68.2637 98.2006,-77.5526 102.8811,-72.3475\"/>\n</g>\n<!-- 4 -->\n<g id=\"node5\" class=\"node\">\n<title>4</title>\n<polygon fill=\"#e3f1fb\" stroke=\"#000000\" points=\"238,-68 128,-68 128,0 238,0 238,-68\"/>\n<text text-anchor=\"middle\" x=\"183\" y=\"-52.8\" font-family=\"Times,serif\" font-size=\"14.00\" fill=\"#000000\">entropy = 0.996</text>\n<text text-anchor=\"middle\" x=\"183\" y=\"-37.8\" font-family=\"Times,serif\" font-size=\"14.00\" fill=\"#000000\">samples = 13</text>\n<text text-anchor=\"middle\" x=\"183\" y=\"-22.8\" font-family=\"Times,serif\" font-size=\"14.00\" fill=\"#000000\">value = [6, 7]</text>\n<text text-anchor=\"middle\" x=\"183\" y=\"-7.8\" font-family=\"Times,serif\" font-size=\"14.00\" fill=\"#000000\">class = Yes</text>\n</g>\n<!-- 2&#45;&gt;4 -->\n<g id=\"edge4\" class=\"edge\">\n<title>2&#45;&gt;4</title>\n<path fill=\"none\" stroke=\"#000000\" d=\"M180.4895,-103.9815C180.7895,-95.618 181.106,-86.7965 181.4093,-78.3409\"/>\n<polygon fill=\"#000000\" stroke=\"#000000\" points=\"184.91,-78.3828 181.7708,-68.2637 177.9145,-78.1317 184.91,-78.3828\"/>\n</g>\n<!-- 6 -->\n<g id=\"node7\" class=\"node\">\n<title>6</title>\n<polygon fill=\"#eb9d65\" stroke=\"#000000\" points=\"381,-68 271,-68 271,0 381,0 381,-68\"/>\n<text text-anchor=\"middle\" x=\"326\" y=\"-52.8\" font-family=\"Times,serif\" font-size=\"14.00\" fill=\"#000000\">entropy = 0.684</text>\n<text text-anchor=\"middle\" x=\"326\" y=\"-37.8\" font-family=\"Times,serif\" font-size=\"14.00\" fill=\"#000000\">samples = 11</text>\n<text text-anchor=\"middle\" x=\"326\" y=\"-22.8\" font-family=\"Times,serif\" font-size=\"14.00\" fill=\"#000000\">value = [9, 2]</text>\n<text text-anchor=\"middle\" x=\"326\" y=\"-7.8\" font-family=\"Times,serif\" font-size=\"14.00\" fill=\"#000000\">class = No</text>\n</g>\n<!-- 5&#45;&gt;6 -->\n<g id=\"edge6\" class=\"edge\">\n<title>5&#45;&gt;6</title>\n<path fill=\"none\" stroke=\"#000000\" d=\"M359.2648,-103.9815C355.1582,-95.3423 350.8194,-86.2144 346.6799,-77.5059\"/>\n<polygon fill=\"#000000\" stroke=\"#000000\" points=\"349.7409,-75.7927 342.2868,-68.2637 343.4188,-78.7979 349.7409,-75.7927\"/>\n</g>\n<!-- 7 -->\n<g id=\"node8\" class=\"node\">\n<title>7</title>\n<polygon fill=\"#e58139\" stroke=\"#000000\" points=\"494.5,-68 399.5,-68 399.5,0 494.5,0 494.5,-68\"/>\n<text text-anchor=\"middle\" x=\"447\" y=\"-52.8\" font-family=\"Times,serif\" font-size=\"14.00\" fill=\"#000000\">entropy = 0.0</text>\n<text text-anchor=\"middle\" x=\"447\" y=\"-37.8\" font-family=\"Times,serif\" font-size=\"14.00\" fill=\"#000000\">samples = 7</text>\n<text text-anchor=\"middle\" x=\"447\" y=\"-22.8\" font-family=\"Times,serif\" font-size=\"14.00\" fill=\"#000000\">value = [7, 0]</text>\n<text text-anchor=\"middle\" x=\"447\" y=\"-7.8\" font-family=\"Times,serif\" font-size=\"14.00\" fill=\"#000000\">class = No</text>\n</g>\n<!-- 5&#45;&gt;7 -->\n<g id=\"edge7\" class=\"edge\">\n<title>5&#45;&gt;7</title>\n<path fill=\"none\" stroke=\"#000000\" d=\"M404.3207,-103.9815C409.7016,-95.1585 415.3932,-85.8258 420.8059,-76.9506\"/>\n<polygon fill=\"#000000\" stroke=\"#000000\" points=\"423.8851,-78.6236 426.1038,-68.2637 417.9088,-74.9789 423.8851,-78.6236\"/>\n</g>\n<!-- 9 -->\n<g id=\"node10\" class=\"node\">\n<title>9</title>\n<polygon fill=\"#c6e3f8\" stroke=\"#000000\" points=\"671,-187 489,-187 489,-104 671,-104 671,-187\"/>\n<text text-anchor=\"middle\" x=\"580\" y=\"-171.8\" font-family=\"Times,serif\" font-size=\"14.00\" fill=\"#000000\">Population_18 bin_1 &lt;= 0.5</text>\n<text text-anchor=\"middle\" x=\"580\" y=\"-156.8\" font-family=\"Times,serif\" font-size=\"14.00\" fill=\"#000000\">entropy = 0.98</text>\n<text text-anchor=\"middle\" x=\"580\" y=\"-141.8\" font-family=\"Times,serif\" font-size=\"14.00\" fill=\"#000000\">samples = 24</text>\n<text text-anchor=\"middle\" x=\"580\" y=\"-126.8\" font-family=\"Times,serif\" font-size=\"14.00\" fill=\"#000000\">value = [10, 14]</text>\n<text text-anchor=\"middle\" x=\"580\" y=\"-111.8\" font-family=\"Times,serif\" font-size=\"14.00\" fill=\"#000000\">class = Yes</text>\n</g>\n<!-- 8&#45;&gt;9 -->\n<g id=\"edge9\" class=\"edge\">\n<title>8&#45;&gt;9</title>\n<path fill=\"none\" stroke=\"#000000\" d=\"M580,-222.8796C580,-214.6838 580,-205.9891 580,-197.5013\"/>\n<polygon fill=\"#000000\" stroke=\"#000000\" points=\"583.5001,-197.298 580,-187.2981 576.5001,-197.2981 583.5001,-197.298\"/>\n</g>\n<!-- 12 -->\n<g id=\"node13\" class=\"node\">\n<title>12</title>\n<polygon fill=\"#eca06a\" stroke=\"#000000\" points=\"799,-179.5 689,-179.5 689,-111.5 799,-111.5 799,-179.5\"/>\n<text text-anchor=\"middle\" x=\"744\" y=\"-164.3\" font-family=\"Times,serif\" font-size=\"14.00\" fill=\"#000000\">entropy = 0.722</text>\n<text text-anchor=\"middle\" x=\"744\" y=\"-149.3\" font-family=\"Times,serif\" font-size=\"14.00\" fill=\"#000000\">samples = 5</text>\n<text text-anchor=\"middle\" x=\"744\" y=\"-134.3\" font-family=\"Times,serif\" font-size=\"14.00\" fill=\"#000000\">value = [4, 1]</text>\n<text text-anchor=\"middle\" x=\"744\" y=\"-119.3\" font-family=\"Times,serif\" font-size=\"14.00\" fill=\"#000000\">class = No</text>\n</g>\n<!-- 8&#45;&gt;12 -->\n<g id=\"edge12\" class=\"edge\">\n<title>8&#45;&gt;12</title>\n<path fill=\"none\" stroke=\"#000000\" d=\"M637.3592,-222.8796C653.9561,-210.8368 672.0375,-197.7167 688.5176,-185.7586\"/>\n<polygon fill=\"#000000\" stroke=\"#000000\" points=\"690.9351,-188.3288 696.9733,-179.623 686.824,-182.6632 690.9351,-188.3288\"/>\n</g>\n<!-- 10 -->\n<g id=\"node11\" class=\"node\">\n<title>10</title>\n<polygon fill=\"#e9f4fc\" stroke=\"#000000\" points=\"631,-68 521,-68 521,0 631,0 631,-68\"/>\n<text text-anchor=\"middle\" x=\"576\" y=\"-52.8\" font-family=\"Times,serif\" font-size=\"14.00\" fill=\"#000000\">entropy = 0.998</text>\n<text text-anchor=\"middle\" x=\"576\" y=\"-37.8\" font-family=\"Times,serif\" font-size=\"14.00\" fill=\"#000000\">samples = 17</text>\n<text text-anchor=\"middle\" x=\"576\" y=\"-22.8\" font-family=\"Times,serif\" font-size=\"14.00\" fill=\"#000000\">value = [8, 9]</text>\n<text text-anchor=\"middle\" x=\"576\" y=\"-7.8\" font-family=\"Times,serif\" font-size=\"14.00\" fill=\"#000000\">class = Yes</text>\n</g>\n<!-- 9&#45;&gt;10 -->\n<g id=\"edge10\" class=\"edge\">\n<title>9&#45;&gt;10</title>\n<path fill=\"none\" stroke=\"#000000\" d=\"M578.5105,-103.9815C578.2105,-95.618 577.894,-86.7965 577.5907,-78.3409\"/>\n<polygon fill=\"#000000\" stroke=\"#000000\" points=\"581.0855,-78.1317 577.2292,-68.2637 574.09,-78.3828 581.0855,-78.1317\"/>\n</g>\n<!-- 11 -->\n<g id=\"node12\" class=\"node\">\n<title>11</title>\n<polygon fill=\"#88c4ef\" stroke=\"#000000\" points=\"759,-68 649,-68 649,0 759,0 759,-68\"/>\n<text text-anchor=\"middle\" x=\"704\" y=\"-52.8\" font-family=\"Times,serif\" font-size=\"14.00\" fill=\"#000000\">entropy = 0.863</text>\n<text text-anchor=\"middle\" x=\"704\" y=\"-37.8\" font-family=\"Times,serif\" font-size=\"14.00\" fill=\"#000000\">samples = 7</text>\n<text text-anchor=\"middle\" x=\"704\" y=\"-22.8\" font-family=\"Times,serif\" font-size=\"14.00\" fill=\"#000000\">value = [2, 5]</text>\n<text text-anchor=\"middle\" x=\"704\" y=\"-7.8\" font-family=\"Times,serif\" font-size=\"14.00\" fill=\"#000000\">class = Yes</text>\n</g>\n<!-- 9&#45;&gt;11 -->\n<g id=\"edge11\" class=\"edge\">\n<title>9&#45;&gt;11</title>\n<path fill=\"none\" stroke=\"#000000\" d=\"M626.173,-103.9815C636.7007,-94.5151 647.8808,-84.462 658.3849,-75.0168\"/>\n<polygon fill=\"#000000\" stroke=\"#000000\" points=\"660.7994,-77.5526 665.8951,-68.2637 656.1189,-72.3475 660.7994,-77.5526\"/>\n</g>\n</g>\n</svg>\n"
          },
          "metadata": {
            "tags": []
          },
          "execution_count": 252
        }
      ]
    },
    {
      "cell_type": "code",
      "metadata": {
        "colab": {
          "base_uri": "https://localhost:8080/"
        },
        "id": "XwtKma7GvF0k",
        "outputId": "53a004ae-f005-413b-cddc-59b862ae42a1"
      },
      "source": [
        "tree_entropy.score(X_test, Y_test)"
      ],
      "execution_count": null,
      "outputs": [
        {
          "output_type": "execute_result",
          "data": {
            "text/plain": [
              "0.6808510638297872"
            ]
          },
          "metadata": {
            "tags": []
          },
          "execution_count": 253
        }
      ]
    },
    {
      "cell_type": "code",
      "metadata": {
        "id": "BHvE3cfAM_BR",
        "colab": {
          "base_uri": "https://localhost:8080/"
        },
        "outputId": "d8fff20a-e9c6-4a09-af9a-b66fcabfc041"
      },
      "source": [
        "tree_entropy.feature_importances_ \n",
        "        #Top features\n",
        "        #1 = Population_18 bin_1\n",
        "        #2 = Corruption_18 bin_0\n",
        "        #3 = Population_18 bin_2\n",
        "        #4 = GDP_18 bin_2\n",
        "        #5 = Population_19 bin_1"
      ],
      "execution_count": null,
      "outputs": [
        {
          "output_type": "execute_result",
          "data": {
            "text/plain": [
              "array([0.23283573, 0.31262948, 0.04448196, 0.29079598, 0.        ,\n",
              "       0.        , 0.        , 0.        , 0.        , 0.11925685])"
            ]
          },
          "metadata": {
            "tags": []
          },
          "execution_count": 254
        }
      ]
    },
    {
      "cell_type": "code",
      "metadata": {
        "colab": {
          "base_uri": "https://localhost:8080/"
        },
        "id": "F4nQ2hCVwHig",
        "outputId": "270f54d0-7f37-4af1-ef4e-9af5992fbd22"
      },
      "source": [
        "entropy_scores = cross_val_score(tree_entropy, Tree['Feature_data'], Tree['Target_data'], cv=9, scoring='accuracy')\n",
        "print(\"Accuracy: %0.2f (+/- %0.2f)\" % (entropy_scores.mean(), entropy_scores.std() * 2))"
      ],
      "execution_count": null,
      "outputs": [
        {
          "output_type": "stream",
          "text": [
            "Accuracy: 0.62 (+/- 0.11)\n"
          ],
          "name": "stdout"
        }
      ]
    },
    {
      "cell_type": "code",
      "metadata": {
        "colab": {
          "base_uri": "https://localhost:8080/",
          "height": 396
        },
        "id": "SjvEt6tOYJJc",
        "outputId": "4cc72bbd-5b02-492f-8b78-3a1540ed6360"
      },
      "source": [
        "y_predict= tree_entropy.predict(X_test)\n",
        "y_predict_p = tree_entropy.predict_proba(X_test)\n",
        "test_df = pd.DataFrame(X_test, columns=Tree['Feature_names'])\n",
        "test_df['class']=Y_test\n",
        "test_df['pre']=y_predict\n",
        "test_df['error']=np.where(test_df['class']!=test_df['pre'],1,0)\n",
        "p = pd.DataFrame(y_predict_p, index=test_df.index, columns = tree_entropy.classes_)\n",
        "\n",
        "test_df=test_df.join(p)\n",
        "\n",
        "for i in test_df.index:\n",
        "    c = test_df.loc[i, 'pre']\n",
        "    test_df.loc[i,'p_score']=test_df.loc[i,c]\n",
        "\n",
        "test_df.head(10)"
      ],
      "execution_count": null,
      "outputs": [
        {
          "output_type": "execute_result",
          "data": {
            "text/html": [
              "<div>\n",
              "<style scoped>\n",
              "    .dataframe tbody tr th:only-of-type {\n",
              "        vertical-align: middle;\n",
              "    }\n",
              "\n",
              "    .dataframe tbody tr th {\n",
              "        vertical-align: top;\n",
              "    }\n",
              "\n",
              "    .dataframe thead th {\n",
              "        text-align: right;\n",
              "    }\n",
              "</style>\n",
              "<table border=\"1\" class=\"dataframe\">\n",
              "  <thead>\n",
              "    <tr style=\"text-align: right;\">\n",
              "      <th></th>\n",
              "      <th>GDP_18 bin_2</th>\n",
              "      <th>Corruption_18 bin_0</th>\n",
              "      <th>Population_18 bin_1</th>\n",
              "      <th>Population_18 bin_2</th>\n",
              "      <th>GDP_19 bin_2</th>\n",
              "      <th>Health_19 bin_2</th>\n",
              "      <th>Agency_19 bin_4</th>\n",
              "      <th>Generosity_19 bin_4</th>\n",
              "      <th>Corruption_19 bin_4</th>\n",
              "      <th>Population_19 bin_1</th>\n",
              "      <th>class</th>\n",
              "      <th>pre</th>\n",
              "      <th>error</th>\n",
              "      <th>No</th>\n",
              "      <th>Yes</th>\n",
              "      <th>p_score</th>\n",
              "    </tr>\n",
              "  </thead>\n",
              "  <tbody>\n",
              "    <tr>\n",
              "      <th>0</th>\n",
              "      <td>0</td>\n",
              "      <td>1</td>\n",
              "      <td>1</td>\n",
              "      <td>0</td>\n",
              "      <td>0</td>\n",
              "      <td>0</td>\n",
              "      <td>0</td>\n",
              "      <td>0</td>\n",
              "      <td>0</td>\n",
              "      <td>1</td>\n",
              "      <td>No</td>\n",
              "      <td>No</td>\n",
              "      <td>0</td>\n",
              "      <td>0.818182</td>\n",
              "      <td>0.181818</td>\n",
              "      <td>0.818182</td>\n",
              "    </tr>\n",
              "    <tr>\n",
              "      <th>1</th>\n",
              "      <td>0</td>\n",
              "      <td>0</td>\n",
              "      <td>0</td>\n",
              "      <td>0</td>\n",
              "      <td>0</td>\n",
              "      <td>0</td>\n",
              "      <td>0</td>\n",
              "      <td>0</td>\n",
              "      <td>0</td>\n",
              "      <td>0</td>\n",
              "      <td>Yes</td>\n",
              "      <td>No</td>\n",
              "      <td>1</td>\n",
              "      <td>0.673469</td>\n",
              "      <td>0.326531</td>\n",
              "      <td>0.673469</td>\n",
              "    </tr>\n",
              "    <tr>\n",
              "      <th>2</th>\n",
              "      <td>0</td>\n",
              "      <td>0</td>\n",
              "      <td>0</td>\n",
              "      <td>0</td>\n",
              "      <td>0</td>\n",
              "      <td>0</td>\n",
              "      <td>0</td>\n",
              "      <td>0</td>\n",
              "      <td>0</td>\n",
              "      <td>0</td>\n",
              "      <td>No</td>\n",
              "      <td>No</td>\n",
              "      <td>0</td>\n",
              "      <td>0.673469</td>\n",
              "      <td>0.326531</td>\n",
              "      <td>0.673469</td>\n",
              "    </tr>\n",
              "    <tr>\n",
              "      <th>3</th>\n",
              "      <td>0</td>\n",
              "      <td>0</td>\n",
              "      <td>0</td>\n",
              "      <td>0</td>\n",
              "      <td>0</td>\n",
              "      <td>1</td>\n",
              "      <td>0</td>\n",
              "      <td>0</td>\n",
              "      <td>0</td>\n",
              "      <td>0</td>\n",
              "      <td>No</td>\n",
              "      <td>No</td>\n",
              "      <td>0</td>\n",
              "      <td>0.673469</td>\n",
              "      <td>0.326531</td>\n",
              "      <td>0.673469</td>\n",
              "    </tr>\n",
              "    <tr>\n",
              "      <th>4</th>\n",
              "      <td>0</td>\n",
              "      <td>1</td>\n",
              "      <td>0</td>\n",
              "      <td>0</td>\n",
              "      <td>0</td>\n",
              "      <td>1</td>\n",
              "      <td>0</td>\n",
              "      <td>0</td>\n",
              "      <td>0</td>\n",
              "      <td>0</td>\n",
              "      <td>No</td>\n",
              "      <td>No</td>\n",
              "      <td>0</td>\n",
              "      <td>0.818182</td>\n",
              "      <td>0.181818</td>\n",
              "      <td>0.818182</td>\n",
              "    </tr>\n",
              "    <tr>\n",
              "      <th>5</th>\n",
              "      <td>1</td>\n",
              "      <td>0</td>\n",
              "      <td>0</td>\n",
              "      <td>1</td>\n",
              "      <td>1</td>\n",
              "      <td>0</td>\n",
              "      <td>0</td>\n",
              "      <td>0</td>\n",
              "      <td>0</td>\n",
              "      <td>0</td>\n",
              "      <td>Yes</td>\n",
              "      <td>No</td>\n",
              "      <td>1</td>\n",
              "      <td>0.800000</td>\n",
              "      <td>0.200000</td>\n",
              "      <td>0.800000</td>\n",
              "    </tr>\n",
              "    <tr>\n",
              "      <th>6</th>\n",
              "      <td>0</td>\n",
              "      <td>1</td>\n",
              "      <td>1</td>\n",
              "      <td>0</td>\n",
              "      <td>0</td>\n",
              "      <td>0</td>\n",
              "      <td>0</td>\n",
              "      <td>0</td>\n",
              "      <td>0</td>\n",
              "      <td>1</td>\n",
              "      <td>Yes</td>\n",
              "      <td>No</td>\n",
              "      <td>1</td>\n",
              "      <td>0.818182</td>\n",
              "      <td>0.181818</td>\n",
              "      <td>0.818182</td>\n",
              "    </tr>\n",
              "    <tr>\n",
              "      <th>7</th>\n",
              "      <td>1</td>\n",
              "      <td>0</td>\n",
              "      <td>0</td>\n",
              "      <td>1</td>\n",
              "      <td>1</td>\n",
              "      <td>0</td>\n",
              "      <td>0</td>\n",
              "      <td>0</td>\n",
              "      <td>0</td>\n",
              "      <td>0</td>\n",
              "      <td>Yes</td>\n",
              "      <td>No</td>\n",
              "      <td>1</td>\n",
              "      <td>0.800000</td>\n",
              "      <td>0.200000</td>\n",
              "      <td>0.800000</td>\n",
              "    </tr>\n",
              "    <tr>\n",
              "      <th>8</th>\n",
              "      <td>0</td>\n",
              "      <td>0</td>\n",
              "      <td>0</td>\n",
              "      <td>1</td>\n",
              "      <td>0</td>\n",
              "      <td>0</td>\n",
              "      <td>0</td>\n",
              "      <td>0</td>\n",
              "      <td>0</td>\n",
              "      <td>0</td>\n",
              "      <td>No</td>\n",
              "      <td>No</td>\n",
              "      <td>0</td>\n",
              "      <td>0.673469</td>\n",
              "      <td>0.326531</td>\n",
              "      <td>0.673469</td>\n",
              "    </tr>\n",
              "    <tr>\n",
              "      <th>9</th>\n",
              "      <td>0</td>\n",
              "      <td>0</td>\n",
              "      <td>0</td>\n",
              "      <td>0</td>\n",
              "      <td>0</td>\n",
              "      <td>0</td>\n",
              "      <td>0</td>\n",
              "      <td>0</td>\n",
              "      <td>0</td>\n",
              "      <td>0</td>\n",
              "      <td>No</td>\n",
              "      <td>No</td>\n",
              "      <td>0</td>\n",
              "      <td>0.673469</td>\n",
              "      <td>0.326531</td>\n",
              "      <td>0.673469</td>\n",
              "    </tr>\n",
              "  </tbody>\n",
              "</table>\n",
              "</div>"
            ],
            "text/plain": [
              "  GDP_18 bin_2 Corruption_18 bin_0  ...       Yes   p_score\n",
              "0            0                   1  ...  0.181818  0.818182\n",
              "1            0                   0  ...  0.326531  0.673469\n",
              "2            0                   0  ...  0.326531  0.673469\n",
              "3            0                   0  ...  0.326531  0.673469\n",
              "4            0                   1  ...  0.181818  0.818182\n",
              "5            1                   0  ...  0.200000  0.800000\n",
              "6            0                   1  ...  0.181818  0.818182\n",
              "7            1                   0  ...  0.200000  0.800000\n",
              "8            0                   0  ...  0.326531  0.673469\n",
              "9            0                   0  ...  0.326531  0.673469\n",
              "\n",
              "[10 rows x 16 columns]"
            ]
          },
          "metadata": {
            "tags": []
          },
          "execution_count": 256
        }
      ]
    },
    {
      "cell_type": "markdown",
      "metadata": {
        "id": "Smlw03QvU_Fh"
      },
      "source": [
        "Naive Bayes (don't need to re-fit test and train sets, done in last section)"
      ]
    },
    {
      "cell_type": "code",
      "metadata": {
        "colab": {
          "base_uri": "https://localhost:8080/"
        },
        "id": "JlhmCivuVEJ5",
        "outputId": "1e591e72-0b10-4c1d-9d9b-b052ecd91ab8"
      },
      "source": [
        "NB_B = BernoulliNB()\n",
        "scores = cross_val_score(NB_B, Tree['Feature_data'], Tree['Target_data'], cv=5, scoring='accuracy')\n",
        "scores"
      ],
      "execution_count": null,
      "outputs": [
        {
          "output_type": "execute_result",
          "data": {
            "text/plain": [
              "array([0.65625   , 0.70967742, 0.67741935, 0.67741935, 0.64516129])"
            ]
          },
          "metadata": {
            "tags": []
          },
          "execution_count": 257
        }
      ]
    },
    {
      "cell_type": "code",
      "metadata": {
        "colab": {
          "base_uri": "https://localhost:8080/"
        },
        "id": "bCkvy4MFVX0X",
        "outputId": "4bdefd9c-e91e-4474-d36f-9e3ff413593a"
      },
      "source": [
        "#mean and 95% confidence level\n",
        "print(\"Accuracy: %0.2f (+/- %0.2f)\" % (scores.mean(), scores.std() * 2))"
      ],
      "execution_count": null,
      "outputs": [
        {
          "output_type": "stream",
          "text": [
            "Accuracy: 0.67 (+/- 0.04)\n"
          ],
          "name": "stdout"
        }
      ]
    },
    {
      "cell_type": "code",
      "metadata": {
        "colab": {
          "base_uri": "https://localhost:8080/"
        },
        "id": "eJRZOP6XVbMc",
        "outputId": "bfda3298-c443-4e76-d551-ba4f87172ecf"
      },
      "source": [
        "NB_M = MultinomialNB()\n",
        "scores = cross_val_score(NB_M, Tree['Feature_data'], Tree['Target_data'], cv=5, scoring='accuracy')\n",
        "scores"
      ],
      "execution_count": null,
      "outputs": [
        {
          "output_type": "execute_result",
          "data": {
            "text/plain": [
              "array([0.65625   , 0.67741935, 0.74193548, 0.70967742, 0.64516129])"
            ]
          },
          "metadata": {
            "tags": []
          },
          "execution_count": 259
        }
      ]
    },
    {
      "cell_type": "code",
      "metadata": {
        "colab": {
          "base_uri": "https://localhost:8080/"
        },
        "id": "F5Nfo4ttVl_P",
        "outputId": "b1cf98c5-22b4-4592-a44f-689d0d8a50bb"
      },
      "source": [
        "#mean and 95% confidence level\n",
        "print(\"Accuracy: %0.2f (+/- %0.2f)\" % (scores.mean(), scores.std() * 2))"
      ],
      "execution_count": null,
      "outputs": [
        {
          "output_type": "stream",
          "text": [
            "Accuracy: 0.69 (+/- 0.07)\n"
          ],
          "name": "stdout"
        }
      ]
    },
    {
      "cell_type": "markdown",
      "metadata": {
        "id": "2NGcrPfTVsiH"
      },
      "source": [
        "MultinomialNB shows a more accurate result, so we are going to go with that "
      ]
    },
    {
      "cell_type": "code",
      "metadata": {
        "id": "Gu3yTiinVx4t"
      },
      "source": [
        "y_predict = NB_M.fit(Tree['Feature_data'],Tree['Target_data']).predict(Tree['Feature_data'])"
      ],
      "execution_count": null,
      "outputs": []
    },
    {
      "cell_type": "code",
      "metadata": {
        "id": "eXwiVN-YWA81"
      },
      "source": [
        "df['NB prediction'] = y_predict\n",
        "df['NB prediction'].replace(('Yes','No'),(1,0), inplace=True)\n",
        "df['NB error']= np.where(df['class'] == df['NB prediction'], 0, 1)\n",
        "df.head(50)"
      ],
      "execution_count": null,
      "outputs": []
    },
    {
      "cell_type": "code",
      "metadata": {
        "id": "-cEOpW4VWTx4"
      },
      "source": [
        "confusion_matrix(Tree['Target_data'], y_predict)"
      ],
      "execution_count": null,
      "outputs": []
    },
    {
      "cell_type": "code",
      "metadata": {
        "id": "i9OJvYWzlPaC"
      },
      "source": [
        "df['NB prediction'].describe()"
      ],
      "execution_count": null,
      "outputs": []
    },
    {
      "cell_type": "markdown",
      "metadata": {
        "id": "6DETW44ha9Ql"
      },
      "source": [
        "Ensemble method: Random Forest Classification"
      ]
    },
    {
      "cell_type": "code",
      "metadata": {
        "id": "5oX3Tw8Ta_s8"
      },
      "source": [
        "rfc = RandomForestClassifier(n_estimators=10, criterion='entropy',\n",
        "                             max_features = 'auto',\n",
        "                             max_depth=None,\n",
        "                             bootstrap=True,\n",
        "                             random_state=10)"
      ],
      "execution_count": null,
      "outputs": []
    },
    {
      "cell_type": "code",
      "metadata": {
        "id": "Jsnq1E1-bCJV"
      },
      "source": [
        "scores_t = cross_val_score(rfc, Tree['Feature_data'], Tree['Target_data'], cv=10, scoring='accuracy')\n",
        "print(scores_t)"
      ],
      "execution_count": null,
      "outputs": []
    },
    {
      "cell_type": "code",
      "metadata": {
        "id": "SlWbJyJ3bfjd"
      },
      "source": [
        "#mean and 95% confidence level\n",
        "print(\"Accuracy: %0.2f (+/- %0.2f)\" % (scores_t.mean(), scores_t.std() * 2))"
      ],
      "execution_count": null,
      "outputs": []
    },
    {
      "cell_type": "code",
      "metadata": {
        "id": "9KEXhb55bobG"
      },
      "source": [
        "bagging = BaggingClassifier(base_estimator= KNeighborsClassifier(),\n",
        "                            n_estimators=10,\n",
        "                            max_samples=0.5, max_features=0.5,\n",
        "                            random_state=10)"
      ],
      "execution_count": null,
      "outputs": []
    },
    {
      "cell_type": "code",
      "metadata": {
        "id": "auX4zQwYb61f"
      },
      "source": [
        "scores_b = cross_val_score(bagging, Tree['Feature_data'], Tree['Target_data'], cv=10, scoring='accuracy')\n",
        "print(scores_b)"
      ],
      "execution_count": null,
      "outputs": []
    },
    {
      "cell_type": "code",
      "metadata": {
        "id": "2DKxU5wGb_eh"
      },
      "source": [
        "#mean and 95% confidence level\n",
        "print(\"Accuracy: %0.2f (+/- %0.2f)\" % (scores_b.mean(), scores_b.std() * 2))"
      ],
      "execution_count": null,
      "outputs": []
    },
    {
      "cell_type": "code",
      "metadata": {
        "id": "9uC_qi1Nrs6U"
      },
      "source": [
        "y_predict = bagging.fit(Tree['Feature_data'],Tree['Target_data']).predict(Tree['Feature_data'])\n",
        "df['Bag prediction'] = y_predict\n",
        "df['Bag prediction'].replace(('Yes','No'),(1,0), inplace=True)\n",
        "df['Bag error']= np.where(df['class'] == df['Bag prediction'], 0, 1)\n",
        "df.head(5)"
      ],
      "execution_count": null,
      "outputs": []
    },
    {
      "cell_type": "code",
      "metadata": {
        "id": "tJFyFKY0b0EK",
        "colab": {
          "base_uri": "https://localhost:8080/",
          "height": 164
        },
        "outputId": "5382d20e-4b40-480a-a640-be273ea537d5"
      },
      "source": [
        "bagging.feature_importances_ "
      ],
      "execution_count": null,
      "outputs": [
        {
          "output_type": "error",
          "ename": "NameError",
          "evalue": "ignored",
          "traceback": [
            "\u001b[0;31m---------------------------------------------------------------------------\u001b[0m",
            "\u001b[0;31mNameError\u001b[0m                                 Traceback (most recent call last)",
            "\u001b[0;32m<ipython-input-262-3566d6e8a86b>\u001b[0m in \u001b[0;36m<module>\u001b[0;34m()\u001b[0m\n\u001b[0;32m----> 1\u001b[0;31m \u001b[0mbagging\u001b[0m\u001b[0;34m.\u001b[0m\u001b[0mfeature_importances_\u001b[0m\u001b[0;34m\u001b[0m\u001b[0;34m\u001b[0m\u001b[0m\n\u001b[0m",
            "\u001b[0;31mNameError\u001b[0m: name 'bagging' is not defined"
          ]
        }
      ]
    },
    {
      "cell_type": "markdown",
      "metadata": {
        "id": "AxUu5LehcJK2"
      },
      "source": [
        "Bagging is more accurate, so we are going to go with that "
      ]
    },
    {
      "cell_type": "markdown",
      "metadata": {
        "id": "ZbcCIv_OtAn_"
      },
      "source": [
        "Compare each model\n"
      ]
    },
    {
      "cell_type": "code",
      "metadata": {
        "id": "hgDL4RpttEQE"
      },
      "source": [
        "#Decision tree accuracy (mean of error)\n",
        "print('Decision tree, mean= ',test_df['error'].mean() ,' std dev = ', test_df['error'].std())\n",
        "#NB accuracy (mean of error)\n",
        "print('Naive-Bayes, mean= ',df['NB error'].mean() ,' std dev = ', df['NB error'].std())\n",
        "#Bagging accuracy (mean of error)\n",
        "print('Bagging, mean= ',df['Bag error'].mean() ,' std dev = ', df['Bag error'].std())\n"
      ],
      "execution_count": null,
      "outputs": []
    }
  ]
}